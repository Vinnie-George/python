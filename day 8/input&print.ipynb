{
 "cells": [
  {
   "cell_type": "code",
   "execution_count": 1,
   "metadata": {},
   "outputs": [
    {
     "name": "stdout",
     "output_type": "stream",
     "text": [
      "30\n"
     ]
    }
   ],
   "source": [
    "x = 10\n",
    "y = 20\n",
    "z = x + y\n",
    "print(z)"
   ]
  },
  {
   "cell_type": "code",
   "execution_count": 3,
   "metadata": {},
   "outputs": [
    {
     "name": "stdout",
     "output_type": "stream",
     "text": [
      "Enter Your Name: \n",
      "dip\n",
      "Your Name is: dip\n",
      "Thank You\n"
     ]
    }
   ],
   "source": [
    "name = input(\"Enter Your Name: \\n\")\n",
    "print(\"Your Name is:\", name)\n",
    "print(\"Thank You\")"
   ]
  },
  {
   "cell_type": "code",
   "execution_count": 4,
   "metadata": {},
   "outputs": [
    {
     "name": "stdout",
     "output_type": "stream",
     "text": [
      "9\n",
      "6\n",
      "96\n"
     ]
    }
   ],
   "source": [
    "x = input()\n",
    "y = input()\n",
    "z = x + y\n",
    "print(z)"
   ]
  },
  {
   "cell_type": "markdown",
   "metadata": {},
   "source": [
    "# Integer"
   ]
  },
  {
   "cell_type": "code",
   "execution_count": 5,
   "metadata": {},
   "outputs": [
    {
     "name": "stdout",
     "output_type": "stream",
     "text": [
      "Enter The 1st Number: 9\n",
      "Enter The 2nd number: 6\n",
      "15\n"
     ]
    }
   ],
   "source": [
    "x = input(\"Enter The 1st Number: \")\n",
    "a = int(x)\n",
    "y = input(\"Enter The 2nd number: \")\n",
    "b = int(y)\n",
    "z = a + b\n",
    "print(z)"
   ]
  },
  {
   "cell_type": "markdown",
   "metadata": {},
   "source": [
    "# Float"
   ]
  },
  {
   "cell_type": "code",
   "execution_count": 1,
   "metadata": {},
   "outputs": [
    {
     "name": "stdout",
     "output_type": "stream",
     "text": [
      "Enter The 1st Number: 10\n",
      "Enter The 2nd number: 20\n",
      "30.0\n"
     ]
    }
   ],
   "source": [
    "x = input(\"Enter The 1st Number: \")\n",
    "a = float(x)\n",
    "y = input(\"Enter The 2nd number: \")\n",
    "b = float(y)\n",
    "z = a + b\n",
    "print(z)\n"
   ]
  },
  {
   "cell_type": "markdown",
   "metadata": {},
   "source": [
    "# Print type Change"
   ]
  },
  {
   "cell_type": "code",
   "execution_count": 2,
   "metadata": {
    "scrolled": true
   },
   "outputs": [
    {
     "name": "stdout",
     "output_type": "stream",
     "text": [
      "Enter The 1st Number: 15\n",
      "Enter The 2nd number: 10\n",
      "The Sum of this two Number is:25\n"
     ]
    }
   ],
   "source": [
    "x = input(\"Enter The 1st Number: \")\n",
    "a = int(x)\n",
    "y = input(\"Enter The 2nd number: \")\n",
    "b = int(y)\n",
    "z = a + b\n",
    "print(\"The Sum of this two Number is:\" + str(z))"
   ]
  },
  {
   "cell_type": "markdown",
   "metadata": {},
   "source": [
    "# Type"
   ]
  },
  {
   "cell_type": "code",
   "execution_count": 3,
   "metadata": {},
   "outputs": [
    {
     "name": "stdout",
     "output_type": "stream",
     "text": [
      "Enter The 1st Number: 15\n",
      "<class 'int'>\n",
      "Enter The 1st Number: 25\n",
      "<class 'int'>\n",
      "40\n"
     ]
    }
   ],
   "source": [
    "x = int(input(\"Enter The 1st Number: \"))\n",
    "print(type(x))\n",
    "y = int(input(\"Enter The 1st Number: \"))\n",
    "print(type(x))\n",
    "z = x + y\n",
    "print(z)\n"
   ]
  },
  {
   "cell_type": "markdown",
   "metadata": {},
   "source": [
    "# End Function"
   ]
  },
  {
   "cell_type": "code",
   "execution_count": 6,
   "metadata": {},
   "outputs": [
    {
     "name": "stdout",
     "output_type": "stream",
     "text": [
      "Debanjan Mayank\n"
     ]
    }
   ],
   "source": [
    "print('Debanjan', end = ' ')\n",
    "print('Mayank')"
   ]
  },
  {
   "cell_type": "code",
   "execution_count": 4,
   "metadata": {},
   "outputs": [
    {
     "name": "stdout",
     "output_type": "stream",
     "text": [
      "Enter Your Name: Vinnie\n",
      "Enter Your Title: George\n",
      "Hello Vinnie George\n"
     ]
    }
   ],
   "source": [
    "x = input(\"Enter Your Name: \")\n",
    "y = input(\"Enter Your Title: \")\n",
    "print(\"Hello\", end = \" \")\n",
    "z = x +\" \"+ y\n",
    "print(z)\n"
   ]
  },
  {
   "cell_type": "markdown",
   "metadata": {},
   "source": [
    "# Split Functions"
   ]
  },
  {
   "cell_type": "code",
   "execution_count": 8,
   "metadata": {},
   "outputs": [
    {
     "name": "stdout",
     "output_type": "stream",
     "text": [
      "Enter Your Name: dipesh barai\n",
      "dipesh\n"
     ]
    }
   ],
   "source": [
    "x = input('Enter Your Name: ')\n",
    "y = x.split()\n",
    "print(y[0])"
   ]
  },
  {
   "cell_type": "code",
   "execution_count": 9,
   "metadata": {},
   "outputs": [
    {
     "name": "stdout",
     "output_type": "stream",
     "text": [
      "Enter Your Email: dipesh@gmail.com\n"
     ]
    }
   ],
   "source": [
    "x = input('Enter Your Email: ')\n"
   ]
  },
  {
   "cell_type": "markdown",
   "metadata": {},
   "source": [
    "# Evaluate Functions"
   ]
  },
  {
   "cell_type": "code",
   "execution_count": 11,
   "metadata": {},
   "outputs": [
    {
     "data": {
      "text/plain": [
       "124"
      ]
     },
     "execution_count": 11,
     "metadata": {},
     "output_type": "execute_result"
    }
   ],
   "source": [
    "lis = [4,8,9, 6,89,8]\n",
    "funt='sum'\n",
    "f=eval(funt)\n",
    "f(lis)"
   ]
  },
  {
   "cell_type": "code",
   "execution_count": 6,
   "metadata": {},
   "outputs": [
    {
     "data": {
      "text/plain": [
       "30"
      ]
     },
     "execution_count": 6,
     "metadata": {},
     "output_type": "execute_result"
    }
   ],
   "source": [
    "lis = [10,15,20,25,30]\n",
    "hey = 'max'\n",
    "t = eval(hey)\n",
    "t(lis)"
   ]
  },
  {
   "cell_type": "code",
   "execution_count": 12,
   "metadata": {},
   "outputs": [
    {
     "name": "stdout",
     "output_type": "stream",
     "text": [
      "Enter The Expression: 9+69*9-6+8\n",
      "632\n"
     ]
    }
   ],
   "source": [
    "value = eval(input('Enter The Expression: '))\n",
    "print(value)"
   ]
  },
  {
   "cell_type": "code",
   "execution_count": 7,
   "metadata": {},
   "outputs": [
    {
     "name": "stdout",
     "output_type": "stream",
     "text": [
      "Enter The Expression: 100+100*10-1000\n",
      "100\n"
     ]
    }
   ],
   "source": [
    "Ge= eval(input('Enter The Expression: '))\n",
    "print(Ge)\n"
   ]
  },
  {
   "cell_type": "code",
   "execution_count": 16,
   "metadata": {},
   "outputs": [
    {
     "name": "stdout",
     "output_type": "stream",
     "text": [
      "Enter The 1st Number: 23\n",
      "Enter The 2nd number: 36\n",
      "The Sum of 23 and 36 is 59\n"
     ]
    }
   ],
   "source": [
    "num1 = int(input(\"Enter The 1st Number: \"))\n",
    "num2 = int(input(\"Enter The 2nd number: \"))\n",
    "print(f\"The Sum of {num1} and {num2} is {num1 + num2}\")"
   ]
  },
  {
   "cell_type": "code",
   "execution_count": null,
   "metadata": {},
   "outputs": [],
   "source": []
  },
  {
   "cell_type": "markdown",
   "metadata": {},
   "source": [
    "# Print Functions"
   ]
  },
  {
   "cell_type": "code",
   "execution_count": 8,
   "metadata": {},
   "outputs": [
    {
     "name": "stdout",
     "output_type": "stream",
     "text": [
      "Hello dipesh\n"
     ]
    }
   ],
   "source": [
    "print(\"Hello\", end = \" \")\n",
    "print(\"dipesh\")\n"
   ]
  },
  {
   "cell_type": "markdown",
   "metadata": {},
   "source": [
    "### Definition and Usage\n",
    "The print() function prints the specified message to the screen, or other standard output device.\n",
    "\n",
    "The message can be a string, or any other object, the object will be converted into a string before written to the screen."
   ]
  },
  {
   "cell_type": "markdown",
   "metadata": {},
   "source": [
    "## Syntax\n",
    "print(object(s), sep=separator, end=end, file=file, flush=flush)"
   ]
  },
  {
   "cell_type": "code",
   "execution_count": 9,
   "metadata": {},
   "outputs": [
    {
     "name": "stdout",
     "output_type": "stream",
     "text": [
      "Hello how are you?\n"
     ]
    }
   ],
   "source": [
    "print(\"Hello\", \"how are you?\")\n"
   ]
  },
  {
   "cell_type": "code",
   "execution_count": 10,
   "metadata": {},
   "outputs": [
    {
     "name": "stdout",
     "output_type": "stream",
     "text": [
      "('apple', 'banana', 'cherry')\n"
     ]
    }
   ],
   "source": [
    "x = (\"apple\", \"banana\", \"cherry\")\n",
    "print(x)\n"
   ]
  },
  {
   "cell_type": "markdown",
   "metadata": {},
   "source": [
    "## More about the Print Functions\n",
    "- format\n",
    "- end and step"
   ]
  },
  {
   "cell_type": "code",
   "execution_count": 13,
   "metadata": {},
   "outputs": [
    {
     "name": "stdout",
     "output_type": "stream",
     "text": [
      "Indian Cyber Security\n"
     ]
    }
   ],
   "source": [
    "print(\"Indian\", \"Cyber\", \"Security\")"
   ]
  },
  {
   "cell_type": "code",
   "execution_count": 14,
   "metadata": {},
   "outputs": [
    {
     "name": "stdout",
     "output_type": "stream",
     "text": [
      "Indian\n",
      "Cyber\n",
      "Security\n"
     ]
    }
   ],
   "source": [
    "print(\"Indian\", \"Cyber\", \"Security\", sep = \"\\n\")"
   ]
  },
  {
   "cell_type": "code",
   "execution_count": 19,
   "metadata": {},
   "outputs": [
    {
     "name": "stdout",
     "output_type": "stream",
     "text": [
      "Indian Cyber security\n"
     ]
    }
   ],
   "source": [
    "a = \"Indian\"\n",
    "b = \"Cyber\"\n",
    "c = \"security\"\n",
    "print(a, end = \" \")\n",
    "print(b, end = \" \")\n",
    "print(c)"
   ]
  },
  {
   "cell_type": "code",
   "execution_count": 15,
   "metadata": {},
   "outputs": [
    {
     "name": "stdout",
     "output_type": "stream",
     "text": [
      "My institute name is Indian Cyber security\n"
     ]
    }
   ],
   "source": [
    "a = \"Indian\"\n",
    "b = \"Cyber\"\n",
    "c = \"security\"\n",
    "print(\"My institute name is {} {} {}\".format(a, b, c))"
   ]
  },
  {
   "cell_type": "code",
   "execution_count": 12,
   "metadata": {},
   "outputs": [
    {
     "name": "stdout",
     "output_type": "stream",
     "text": [
      "Enter The 1st Number: 14\n",
      "Enter The 2nd number: 15\n",
      "The Sum of 14 and 15 is 29\n"
     ]
    }
   ],
   "source": [
    "num1 = int(input(\"Enter The 1st Number: \"))\n",
    "num2 = int(input(\"Enter The 2nd number: \"))\n",
    "print(f\"The Sum of {num1} and {num2} is {num1 + num2}\")\n"
   ]
  },
  {
   "cell_type": "code",
   "execution_count": 13,
   "metadata": {},
   "outputs": [
    {
     "name": "stdout",
     "output_type": "stream",
     "text": [
      "My institute name is Indian Cyber security\n"
     ]
    }
   ],
   "source": [
    "a = \"Indian\"\n",
    "b = \"Cyber\"\n",
    "c = \"security\"\n",
    "print(\"My institute name is {} {} {}\".format(a, b, c))\n"
   ]
  },
  {
   "cell_type": "code",
   "execution_count": null,
   "metadata": {},
   "outputs": [],
   "source": []
  }
 ],
 "metadata": {
  "kernelspec": {
   "display_name": "Python 3",
   "language": "python",
   "name": "python3"
  },
  "language_info": {
   "codemirror_mode": {
    "name": "ipython",
    "version": 3
   },
   "file_extension": ".py",
   "mimetype": "text/x-python",
   "name": "python",
   "nbconvert_exporter": "python",
   "pygments_lexer": "ipython3",
   "version": "3.8.5"
  }
 },
 "nbformat": 4,
 "nbformat_minor": 4
}
