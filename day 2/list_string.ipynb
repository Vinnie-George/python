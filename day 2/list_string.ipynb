{
 "cells": [
  {
   "cell_type": "markdown",
   "metadata": {},
   "source": [
    "# Lists and Strings"
   ]
  },
  {
   "cell_type": "markdown",
   "metadata": {},
   "source": [
    "Introduction: Sequences\n",
    "In the real world most of the data we care about doesn’t exist on its own. Usually data is in the form of some kind of collection or sequence. For example, a grocery list helps us keep track of the individual food items we need to buy, and our todo list organizes the things we need to do each day. Notice that both the grocery list and the todo list are not even concerned with numbers as much as they are concerned with words. This is true of much of our daily life, and so Python provides us with many features to work with lists of all kinds of objects (numbers, words, etc.) as well as special kind of sequence, the character string, which you can think of as a sequence of individual letters.\n",
    "\n",
    "So far we have seen built-in types like: int, float, and str. int and float are considered to be simple or primitive or atomic data types because their values are not composed of any smaller parts. They cannot be broken down.\n",
    "\n",
    "On the other hand, strings and lists are different from the others because they are made up of smaller pieces. In the case of strings, they are made up of smaller strings each containing one character.\n",
    "\n",
    "Types that are comprised of smaller pieces are called collection data types. Depending on what we are doing, we may want to treat a collection data type as a single entity (the whole), or we may want to access its parts. This ambiguity is useful.\n",
    "\n",
    "In this chapter we will examine operations that can be performed on sequences, such as picking out individual elements or subsequences (called slices) or computing their length. In addition, we’ll examine some special functions that are defined only for strings, and we’ll find out one importance difference between strings and lists, that lists can be changed (or mutated) while strings are immutable.\n",
    "\n",
    "6.1.1. Learning Goals\n",
    "To understand different operations that can be performed on strings, lists, and tuples\n",
    "\n",
    "To distinguish between different uses of [] in Python\n",
    "\n",
    "6.1.2. Objectives\n",
    "Predict the output of split and join operations\n",
    "\n",
    "Read and write expressions that use slices\n",
    "\n",
    "Read and write expressions that use concatenation and repetition"
   ]
  },
  {
   "cell_type": "markdown",
   "metadata": {},
   "source": [
    "## Strings and Lists\n",
    "Throughout the first chapters of this book we have used strings to represent words or phrases that we wanted to print out. Our definition was simple: a string is simply some characters inside quotes. In this chapter we explore strings in much more detail.\n",
    "\n",
    "Additionally, we explore lists, which are very much like strings but can hold different types.\n",
    "\n",
    "## Strings\n",
    "\n",
    "Strings can be defined as sequential collections of characters. This means that the individual characters that make up a string are in a particular order from left to right.\n",
    "\n",
    "A string that contains no characters, often referred to as the empty string, is still considered to be a string. It is simply a sequence of zero characters and is represented by ‘’ or “” (two single or two double quotes with nothing in between).\n",
    "\n",
    "## Lists\n",
    "\n",
    "A list is a sequential collection of Python data values, where each value is identified by an index. The values that make up a list are called its elements. Lists are similar to strings, which are ordered collections of characters, except that the elements of a list can have any type and for any one list, the items can be of different types.\n",
    "\n",
    "There are several ways to create a new list. The simplest is to enclose the elements in square brackets ( [ and ]).\n",
    "\n",
    "[10, 20, 30, 40]\n",
    "[\"spam\", \"bungee\", \"swallow\"]\n",
    "The first example is a list of four integers. The second is a list of three strings. As we said above, the elements of a list don’t have to be the same type. The following list contains a string, a float, an integer, and another list.\n",
    "\n",
    "[\"hello\", 2.0, 5, [10, 20]]\n",
    "Note\n",
    "\n",
    "WP: Don’t Mix Types!\n",
    "\n",
    "You’ll likely see us do this in the textbook to give you odd combinations, but when you create lists you should generally not mix types together. A list of just strings or just integers or just floats is generally easier to deal with.\n",
    "\n",
    "## Tuples\n",
    "A tuple, like a list, is a sequence of items of any type. The printed representation of a tuple is a comma-separated sequence of values, enclosed in parentheses. In other words, the representation is just like lists, except with parentheses () instead of square brackets [].\n",
    "\n",
    "One way to create a tuple is to write an expression, enclosed in parentheses, that consists of multiple other expressions, separated by commas.\n",
    "\n",
    "julia = (\"Julia\", \"Roberts\", 1967, \"Duplicity\", 2009, \"Actress\", \"Atlanta, Georgia\")\n",
    "The key difference between lists and tuples is that a tuple is immutable, meaning that its contents can’t be changed after the tuple is created. We will examine the mutability of lists in detail in the chapter on Mutability.\n",
    "\n",
    "To create a tuple with a single element (but you’re probably not likely to do that too often), we have to include the final comma, because without the final comma, Python treats the (5) below as an integer in parentheses:\n",
    "\n"
   ]
  },
  {
   "cell_type": "code",
   "execution_count": 1,
   "metadata": {},
   "outputs": [
    {
     "name": "stdout",
     "output_type": "stream",
     "text": [
      "<class 'tuple'>\n",
      "<class 'int'>\n"
     ]
    }
   ],
   "source": [
    "t = (5,)\n",
    "print(type(t))\n",
    "\n",
    "x = (5)\n",
    "print(type(x))"
   ]
  },
  {
   "cell_type": "markdown",
   "metadata": {},
   "source": [
    "## Index Operator: Working with the Characters of a String\n",
    "The indexing operator (Python uses square brackets to enclose the index) selects a single character from a string. The characters are accessed by their position or index value."
   ]
  },
  {
   "cell_type": "code",
   "execution_count": 2,
   "metadata": {},
   "outputs": [
    {
     "data": {
      "text/plain": [
       "'i'"
      ]
     },
     "execution_count": 2,
     "metadata": {},
     "output_type": "execute_result"
    }
   ],
   "source": [
    "student = 'ranjit'\n",
    "student[-2]"
   ]
  },
  {
   "cell_type": "code",
   "execution_count": 9,
   "metadata": {},
   "outputs": [
    {
     "name": "stdout",
     "output_type": "stream",
     "text": [
      "n\n"
     ]
    }
   ],
   "source": [
    "s = 'Vinnie'\n",
    "print (s[-3])"
   ]
  },
  {
   "cell_type": "code",
   "execution_count": 3,
   "metadata": {},
   "outputs": [
    {
     "name": "stdout",
     "output_type": "stream",
     "text": [
      "t\n",
      "e\n"
     ]
    }
   ],
   "source": [
    "school = \"Luther College\"\n",
    "m = school[2]\n",
    "print(m)\n",
    "\n",
    "lastchar = school[-1]\n",
    "print(lastchar)"
   ]
  },
  {
   "cell_type": "markdown",
   "metadata": {},
   "source": [
    "The expression school[2] selects the character at index 2 from school, and creates a new string containing just this one character. The variable m refers to the result.\n",
    "\n",
    "The letter at index zero of \"Luther College\" is L. So at position [2] we have the letter t.\n",
    "\n",
    "If you want the zero-eth letter of a string, you just put 0, or any expression with the value 0, in the brackets. Give it a try.\n",
    "\n",
    "The expression in brackets is called an index. An index specifies a member of an ordered collection. In this case the collection of characters in the string. The index indicates which character you want. It can be any integer expression so long as it evaluates to a valid index value.\n",
    "\n",
    "Note that indexing returns a string — Python has no special type for a single character. It is just a string of length 1.\n",
    "\n",
    "## Index Operator: Accessing Elements of a List or Tuple\n",
    "The syntax for accessing the elements of a list or tuple is the same as the syntax for accessing the characters of a string. We use the index operator ( [] – not to be confused with an empty list). The expression inside the brackets specifies the index. Remember that the indices start at 0. Any integer expression can be used as an index and as with strings, negative index values will locate items from the right instead of from the left.\n",
    "\n",
    "When we say the first, third or nth character of a sequence, we generally mean counting the usual way, starting with 1. The nth character and the character AT INDEX n are different then: The nth character is at index n-1. Make sure you are clear on what you mean!\n",
    "\n",
    "Try to predict what will be printed out by the following code, and then run it to check your prediction. (Actually, it’s a good idea to always do that with the code examples. You will learn much more if you force yourself to make a prediction before you see the output.)"
   ]
  },
  {
   "cell_type": "code",
   "execution_count": 4,
   "metadata": {},
   "outputs": [
    {
     "data": {
      "text/plain": [
       "'ranjit'"
      ]
     },
     "execution_count": 4,
     "metadata": {},
     "output_type": "execute_result"
    }
   ],
   "source": [
    "lis = ['subhajit', 'ranjit', 'dipesh']\n",
    "lis[1]"
   ]
  },
  {
   "cell_type": "code",
   "execution_count": 16,
   "metadata": {},
   "outputs": [
    {
     "name": "stdout",
     "output_type": "stream",
     "text": [
      "s\n"
     ]
    }
   ],
   "source": [
    "S = ['Vinnie', 'rabjit', 'sam']\n",
    "lis = S[-1][0]\n",
    "print(lis)"
   ]
  },
  {
   "cell_type": "code",
   "execution_count": 69,
   "metadata": {},
   "outputs": [
    {
     "name": "stdout",
     "output_type": "stream",
     "text": [
      "87\n",
      "123\n",
      "8398\n"
     ]
    }
   ],
   "source": [
    "numbers = [17, 123, 87, 34, 66, 8398, 44]\n",
    "print(numbers[2])\n",
    "print(numbers[9-8])\n",
    "print(numbers[-2])"
   ]
  },
  {
   "cell_type": "code",
   "execution_count": 70,
   "metadata": {},
   "outputs": [
    {
     "name": "stdout",
     "output_type": "stream",
     "text": [
      "1.99\n",
      "100.98\n",
      "20.95\n"
     ]
    }
   ],
   "source": [
    "prices = (1.99, 2.00, 5.50, 20.95, 100.98)\n",
    "print(prices[0])\n",
    "print(prices[-1])\n",
    "print(prices[3-5])"
   ]
  },
  {
   "cell_type": "code",
   "execution_count": 1,
   "metadata": {},
   "outputs": [
    {
     "name": "stdout",
     "output_type": "stream",
     "text": [
      "h\n"
     ]
    }
   ],
   "source": [
    "#What is printed by the following statements?\n",
    "s = \"python rocks\"\n",
    "print(s[3])"
   ]
  },
  {
   "cell_type": "code",
   "execution_count": 18,
   "metadata": {},
   "outputs": [
    {
     "name": "stdout",
     "output_type": "stream",
     "text": [
      ".\n"
     ]
    }
   ],
   "source": [
    "# Assign the value of the last chacter of lst to the variable output. Do this so that the length of lst doesn’t matter.\n",
    "lst = \"Every chess or checkers game begins from the same position and has a finite number of moves that can be played. While the number of possible scenarios and moves is quite large, it is still possible for computers to calculate that number and even be programmed to respond well against a human player...\"\n",
    "output=lst[-1]\n",
    "print(output)"
   ]
  },
  {
   "cell_type": "markdown",
   "metadata": {},
   "source": [
    "# Disabmiguating []: creation vs indexing\n",
    "Square brackets [] are used in quite a few ways in python. When you’re first learning how to use them it may be confusing, but with practice and repetition they’ll be easy to incorporate!\n",
    "\n",
    "You have currently encountered two instances where we have used square brakets. The first is creating lists and the second is indexing. At first glance, creating and indexing are difficult to distinguish. However, indexing requires referencing an already created list while simply creating a list does not.\n",
    "\n"
   ]
  },
  {
   "cell_type": "code",
   "execution_count": 8,
   "metadata": {},
   "outputs": [
    {
     "name": "stdout",
     "output_type": "stream",
     "text": [
      "3\n"
     ]
    }
   ],
   "source": [
    "word = 'banana'\n",
    "count = 0\n",
    "for letter in word :\n",
    "    if letter == 'a' : \n",
    "        count = count + 1\n",
    "print(count)"
   ]
  },
  {
   "cell_type": "code",
   "execution_count": 19,
   "metadata": {},
   "outputs": [
    {
     "name": "stdout",
     "output_type": "stream",
     "text": [
      "4\n"
     ]
    }
   ],
   "source": [
    "Toy = 'huhuhaha'\n",
    "count = 0\n",
    "for i in Toy:\n",
    "    if i == 'h':\n",
    "        count = count + 1\n",
    "print(count)"
   ]
  },
  {
   "cell_type": "code",
   "execution_count": 20,
   "metadata": {},
   "outputs": [
    {
     "name": "stdout",
     "output_type": "stream",
     "text": [
      "2\n"
     ]
    }
   ],
   "source": [
    "c = 'Vinnei'\n",
    "a = 0\n",
    "for i in c:\n",
    "    if i == 'n':\n",
    "        a = a + 1 \n",
    "print(a)"
   ]
  },
  {
   "cell_type": "code",
   "execution_count": 4,
   "metadata": {},
   "outputs": [
    {
     "name": "stdout",
     "output_type": "stream",
     "text": [
      "Vinnie George\n",
      "3\n"
     ]
    }
   ],
   "source": [
    "a = 'Vinnie George'\n",
    "print(a)\n",
    "count = 0\n",
    "for v in a :\n",
    "    if v == 'e':\n",
    "        count = count + 1 \n",
    "print(count)"
   ]
  },
  {
   "cell_type": "code",
   "execution_count": 9,
   "metadata": {},
   "outputs": [
    {
     "name": "stdout",
     "output_type": "stream",
     "text": [
      "5\n"
     ]
    }
   ],
   "source": [
    "a = [2, 5, 6, 9, 4]\n",
    "c = 0\n",
    "for i in a:\n",
    "    c = c + 1\n",
    "print(c)"
   ]
  },
  {
   "cell_type": "code",
   "execution_count": 7,
   "metadata": {},
   "outputs": [
    {
     "data": {
      "text/plain": [
       "5"
      ]
     },
     "execution_count": 7,
     "metadata": {},
     "output_type": "execute_result"
    }
   ],
   "source": [
    "a = (2, 5, 6, 9, 4)\n",
    "v = len(a)\n",
    "v"
   ]
  },
  {
   "cell_type": "code",
   "execution_count": 74,
   "metadata": {},
   "outputs": [
    {
     "name": "stdout",
     "output_type": "stream",
     "text": [
      "NFLX\n"
     ]
    }
   ],
   "source": [
    "new_lst = [\"NFLX\", \"AMZN\", \"GOOGL\", \"DIS\", \"XOM\"]\n",
    "part_of_new_lst = new_lst[0]\n",
    "print(part_of_new_lst)"
   ]
  },
  {
   "cell_type": "code",
   "execution_count": 12,
   "metadata": {},
   "outputs": [
    {
     "name": "stdout",
     "output_type": "stream",
     "text": [
      "[0]\n",
      "0\n"
     ]
    }
   ],
   "source": [
    "lst = [0]\n",
    "n_lst = lst[0]\n",
    "\n",
    "print(lst)\n",
    "print(n_lst)"
   ]
  },
  {
   "cell_type": "markdown",
   "metadata": {},
   "source": [
    "# Length\n",
    "The len function, when applied to a string, returns the number of characters in a string."
   ]
  },
  {
   "cell_type": "code",
   "execution_count": 13,
   "metadata": {},
   "outputs": [
    {
     "name": "stdout",
     "output_type": "stream",
     "text": [
      "6\n"
     ]
    }
   ],
   "source": [
    "fruit = \"Banana\"\n",
    "print(len(fruit))"
   ]
  },
  {
   "cell_type": "code",
   "execution_count": 23,
   "metadata": {},
   "outputs": [
    {
     "name": "stdout",
     "output_type": "stream",
     "text": [
      "7\n"
     ]
    }
   ],
   "source": [
    "Name = \"Vinnieg\"\n",
    "print(len(Name))"
   ]
  },
  {
   "cell_type": "code",
   "execution_count": 2,
   "metadata": {},
   "outputs": [
    {
     "name": "stdout",
     "output_type": "stream",
     "text": [
      "6\n",
      "a\n"
     ]
    }
   ],
   "source": [
    "#To get the last letter of a string, you might be tempted to try something like this:\n",
    "fruit = \"Banana\"\n",
    "sz = len(fruit)\n",
    "print(sz)\n",
    "last = fruit[sz-1]       # ERROR!\n",
    "print(last)"
   ]
  },
  {
   "cell_type": "code",
   "execution_count": 25,
   "metadata": {},
   "outputs": [
    {
     "name": "stdout",
     "output_type": "stream",
     "text": [
      "i\n"
     ]
    }
   ],
   "source": [
    "Name = \"Vinnie\"\n",
    "L = (len(Name))\n",
    "last = Name[L-2]\n",
    "print(last)"
   ]
  },
  {
   "cell_type": "markdown",
   "metadata": {},
   "source": [
    "That won’t work. It causes the runtime error IndexError: string index out of range. The reason is that there is no letter at index position 6 in \"Banana\". Since we started counting at zero, the six indexes are numbered 0 to 5. To get the last character, we have to subtract 1 from the length. Give it a try in the example above.\n",
    "\n"
   ]
  },
  {
   "cell_type": "code",
   "execution_count": 79,
   "metadata": {},
   "outputs": [
    {
     "data": {
      "text/plain": [
       "3"
      ]
     },
     "execution_count": 79,
     "metadata": {},
     "output_type": "execute_result"
    }
   ],
   "source": [
    "round(8/3)"
   ]
  },
  {
   "cell_type": "code",
   "execution_count": 80,
   "metadata": {},
   "outputs": [
    {
     "data": {
      "text/plain": [
       "2"
      ]
     },
     "execution_count": 80,
     "metadata": {},
     "output_type": "execute_result"
    }
   ],
   "source": [
    "8//3"
   ]
  },
  {
   "cell_type": "code",
   "execution_count": 29,
   "metadata": {},
   "outputs": [
    {
     "data": {
      "text/plain": [
       "'a'"
      ]
     },
     "execution_count": 29,
     "metadata": {},
     "output_type": "execute_result"
    }
   ],
   "source": [
    "fruit = \"grape\"\n",
    "midchar = fruit[len(fruit)//2]\n",
    "midchar"
   ]
  },
  {
   "cell_type": "code",
   "execution_count": 26,
   "metadata": {},
   "outputs": [
    {
     "name": "stdout",
     "output_type": "stream",
     "text": [
      "5\n"
     ]
    }
   ],
   "source": [
    "#What is printed by the following statements?\n",
    "alist = [3, 67, 'cat', 3.14, False]\n",
    "print(len(alist))"
   ]
  },
  {
   "cell_type": "code",
   "execution_count": 84,
   "metadata": {},
   "outputs": [
    {
     "name": "stdout",
     "output_type": "stream",
     "text": [
      "52\n"
     ]
    }
   ],
   "source": [
    "#Assign the number of elements in lst to the variable output.\n",
    "lst = [\"hi\", \"morning\", \"dog\", \"506\", \"caterpillar\", \"balloons\", 106, \"yo-yo\", \"python\", \"moon\", \"water\", \"sleepy\", \"daffy\", 45, \"donald\", \"whiteboard\", \"glasses\", \"markers\", \"couches\", \"butterfly\", \"100\", \"magazine\", \"door\", \"picture\", \"window\", [\"Olympics\", \"handle\"], \"chair\", \"pages\", \"readings\", \"burger\", \"juggle\", \"craft\", [\"store\", \"poster\", \"board\"], \"laptop\", \"computer\", \"plates\", \"hotdog\", \"salad\", \"backpack\", \"zipper\", \"ring\", \"watch\", \"finger\", \"bags\", \"boxes\", \"pods\", \"peas\", \"apples\", \"horse\", \"guinea pig\", \"bowl\", \"EECS\"]\n",
    "output = 0\n",
    "for i in lst:\n",
    "    output += 1\n",
    "print(output)"
   ]
  },
  {
   "cell_type": "code",
   "execution_count": 85,
   "metadata": {},
   "outputs": [
    {
     "data": {
      "text/plain": [
       "52"
      ]
     },
     "execution_count": 85,
     "metadata": {},
     "output_type": "execute_result"
    }
   ],
   "source": [
    "len(lst)"
   ]
  },
  {
   "cell_type": "markdown",
   "metadata": {},
   "source": [
    "# The Slice Operator\n",
    "A substring of a string is called a slice. Selecting a slice is similar to selecting a character:\n",
    "\n"
   ]
  },
  {
   "cell_type": "code",
   "execution_count": 87,
   "metadata": {},
   "outputs": [
    {
     "data": {
      "text/plain": [
       "'banan'"
      ]
     },
     "execution_count": 87,
     "metadata": {},
     "output_type": "execute_result"
    }
   ],
   "source": [
    "fruit = \"banana\"\n",
    "fruit[0:5]"
   ]
  },
  {
   "cell_type": "code",
   "execution_count": 1,
   "metadata": {},
   "outputs": [
    {
     "name": "stdout",
     "output_type": "stream",
     "text": [
      "Peter\n",
      "Paul\n",
      "Mary\n"
     ]
    }
   ],
   "source": [
    "singers = \"Peter, Paul, and Mary\"\n",
    "print(singers[0:5])\n",
    "print(singers[7:11])\n",
    "print(singers[17:21])"
   ]
  },
  {
   "cell_type": "markdown",
   "metadata": {},
   "source": [
    "The slice operator [n:m] returns the part of the string starting with the character at index n and go up to but not including the character at index m. Or with normal counting from 1, this is the (n+1)st character up to and including the mth character.\n",
    "\n",
    "If you omit the first index (before the colon), the slice starts at the beginning of the string. If you omit the second index, the slice goes to the end of the string.\n",
    "\n"
   ]
  },
  {
   "cell_type": "code",
   "execution_count": 2,
   "metadata": {},
   "outputs": [
    {
     "name": "stdout",
     "output_type": "stream",
     "text": [
      "bana\n",
      "ana\n",
      "banana\n"
     ]
    }
   ],
   "source": [
    "fruit = \"banana\"\n",
    "print(fruit[:4])\n",
    "print(fruit[3:])\n",
    "print(fruit[:])"
   ]
  },
  {
   "cell_type": "code",
   "execution_count": 29,
   "metadata": {},
   "outputs": [
    {
     "name": "stdout",
     "output_type": "stream",
     "text": [
      "hero\n",
      "o\n",
      "hero\n"
     ]
    }
   ],
   "source": [
    "fruit = \"hero\"\n",
    "print(fruit[:4])\n",
    "print(fruit[3:])\n",
    "print(fruit[:])"
   ]
  },
  {
   "cell_type": "markdown",
   "metadata": {},
   "source": [
    "# List Slices\n",
    "The slice operation we saw with strings also work on lists. Remember that the first index is the starting point for the slice and the second number is one index past the end of the slice (up to but not including that element). Recall also that if you omit the first index (before the colon), the slice starts at the beginning of the sequence. If you omit the second index, the slice goes to the end of the sequence."
   ]
  },
  {
   "cell_type": "code",
   "execution_count": 90,
   "metadata": {},
   "outputs": [
    {
     "name": "stdout",
     "output_type": "stream",
     "text": [
      "['b', 'c']\n",
      "['a', 'b', 'c', 'd']\n",
      "['d', 'e', 'f']\n",
      "['a', 'b', 'c', 'd', 'e', 'f']\n"
     ]
    }
   ],
   "source": [
    "a_list = ['a', 'b', 'c', 'd', 'e', 'f']\n",
    "print(a_list[1:3])\n",
    "print(a_list[:4])\n",
    "print(a_list[3:])\n",
    "print(a_list[:])"
   ]
  },
  {
   "cell_type": "code",
   "execution_count": 95,
   "metadata": {},
   "outputs": [
    {
     "ename": "TypeError",
     "evalue": "'tuple' object does not support item assignment",
     "output_type": "error",
     "traceback": [
      "\u001b[1;31m---------------------------------------------------------------------------\u001b[0m",
      "\u001b[1;31mTypeError\u001b[0m                                 Traceback (most recent call last)",
      "\u001b[1;32m<ipython-input-95-44ce8a7edf1c>\u001b[0m in \u001b[0;36m<module>\u001b[1;34m\u001b[0m\n\u001b[0;32m      1\u001b[0m \u001b[0mlis\u001b[0m \u001b[1;33m=\u001b[0m \u001b[1;33m(\u001b[0m\u001b[1;36m8\u001b[0m\u001b[1;33m,\u001b[0m \u001b[1;36m5\u001b[0m\u001b[1;33m,\u001b[0m \u001b[1;36m6\u001b[0m\u001b[1;33m,\u001b[0m \u001b[1;36m8\u001b[0m\u001b[1;33m)\u001b[0m\u001b[1;33m\u001b[0m\u001b[1;33m\u001b[0m\u001b[0m\n\u001b[1;32m----> 2\u001b[1;33m \u001b[0mlis\u001b[0m\u001b[1;33m[\u001b[0m\u001b[1;36m1\u001b[0m\u001b[1;33m]\u001b[0m\u001b[1;33m=\u001b[0m \u001b[1;36m9\u001b[0m\u001b[1;33m\u001b[0m\u001b[1;33m\u001b[0m\u001b[0m\n\u001b[0m\u001b[0;32m      3\u001b[0m \u001b[0mprint\u001b[0m\u001b[1;33m(\u001b[0m\u001b[0mlis\u001b[0m\u001b[1;33m)\u001b[0m\u001b[1;33m\u001b[0m\u001b[1;33m\u001b[0m\u001b[0m\n",
      "\u001b[1;31mTypeError\u001b[0m: 'tuple' object does not support item assignment"
     ]
    }
   ],
   "source": [
    "lis = (8, 5, 6, 8)\n",
    "lis[1]= 9\n",
    "print(lis)"
   ]
  },
  {
   "cell_type": "markdown",
   "metadata": {},
   "source": [
    "# Tuple Slices\n",
    "We can’t modify the elements of a tuple, but we can make a variable reference a new tuple holding different information. Thankfully we can also use the slice operation on tuples as well as strings and lists. To construct the new tuple, we can slice parts of the old tuple and join up the bits to make the new tuple. So julia has a new recent film, and we might want to change her tuple. We can easily slice off the parts we want and concatenate them with the new tuple.\n",
    "\n"
   ]
  },
  {
   "cell_type": "code",
   "execution_count": 96,
   "metadata": {},
   "outputs": [
    {
     "name": "stdout",
     "output_type": "stream",
     "text": [
      "1967\n",
      "(1967, 'Duplicity', 2009, 'Actress')\n",
      "7\n",
      "('Julia', 'Roberts', 1967, 'Eat Pray Love', 2010, 'Actress', 'Atlanta, Georgia')\n"
     ]
    }
   ],
   "source": [
    "julia = (\"Julia\", \"Roberts\", 1967, \"Duplicity\", 2009, \"Actress\", \"Atlanta, Georgia\")\n",
    "print(julia[2])\n",
    "print(julia[2:6])\n",
    "\n",
    "print(len(julia))\n",
    "\n",
    "julia = julia[:3] + (\"Eat Pray Love\", 2010) + julia[5:]\n",
    "print(julia)"
   ]
  },
  {
   "cell_type": "code",
   "execution_count": 31,
   "metadata": {},
   "outputs": [
    {
     "name": "stdout",
     "output_type": "stream",
     "text": [
      "('kob', 'sob')\n"
     ]
    }
   ],
   "source": [
    "K = (\"Vinnie\", \"Rob\", \"kob\", \"sob\")\n",
    "print(K[2:6])"
   ]
  },
  {
   "cell_type": "markdown",
   "metadata": {},
   "source": [
    "Create a new list using the 9th through 12th elements (four items in all) of new_lst and assign it to the variable sub_lst."
   ]
  },
  {
   "cell_type": "code",
   "execution_count": 25,
   "metadata": {},
   "outputs": [
    {
     "name": "stdout",
     "output_type": "stream",
     "text": [
      "['sun', ['water', 'air', 'fire', 'earth'], 'games', 2.7]\n"
     ]
    }
   ],
   "source": [
    "new_lst = [\"computer\", \"luxurious\", \"basket\", \"crime\", 0, 2.49, \"institution\", \"slice\", \"sun\", [\"water\", \"air\", \"fire\", \"earth\"], \"games\", 2.7, \"code\", \"java\", [\"birthday\", \"celebration\", 1817, \"party\", \"cake\", 5], \"rain\", \"thunderstorm\", \"top down\"]\n",
    "sub_lst = new_lst[8:12]\n",
    "print(sub_lst)"
   ]
  },
  {
   "cell_type": "markdown",
   "metadata": {},
   "source": [
    "# Concatenation and Repetition\n",
    "Again, as with strings, the + operator concatenates lists. Similarly, the * operator repeats the items in a list a given number of times.\n",
    "\n"
   ]
  },
  {
   "cell_type": "code",
   "execution_count": 26,
   "metadata": {},
   "outputs": [
    {
     "name": "stdout",
     "output_type": "stream",
     "text": [
      "[1, 2, 3, 4]\n",
      "['apple', 'orange', 'banana', 'cherry', 6, 7, 8, 9]\n",
      "[0, 0, 0, 0]\n"
     ]
    }
   ],
   "source": [
    "fruit = [\"apple\",\"orange\",\"banana\",\"cherry\"]\n",
    "print([1,2] + [3,4])\n",
    "print(fruit+[6,7,8,9])\n",
    "\n",
    "print([0] * 4)"
   ]
  },
  {
   "cell_type": "markdown",
   "metadata": {},
   "source": [
    "It is important to see that these operators create new lists from the elements of the operand lists. If you concatenate a list with 2 items and a list with 4 items, you will get a new list with 6 items (not a list with two sublists). Similarly, repetition of a list of 2 items 4 times will give a list with 8 items.\n",
    "\n",
    "One way for us to make this more clear is to run a part of this example in codelens. As you step through the code, you will see the variables being created and the lists that they refer to. Pay particular attention to the fact that when newlist is created by the statement newlist = fruit + numlist, it refers to a completely new list formed by making copies of the items from fruit and numlist. You can see this very clearly in the codelens object diagram. The objects are different."
   ]
  },
  {
   "cell_type": "code",
   "execution_count": 27,
   "metadata": {},
   "outputs": [
    {
     "name": "stdout",
     "output_type": "stream",
     "text": [
      "[1, 3, 5, 1, 3, 5, 1, 3, 5]\n"
     ]
    }
   ],
   "source": [
    "# What is printed by the following statements?\n",
    "\n",
    "alist = [1,3,5]\n",
    "print(alist * 3)"
   ]
  },
  {
   "cell_type": "markdown",
   "metadata": {},
   "source": [
    "# Count and Index\n",
    "As you create more complex programs, you will find that some tasks are commonly done. Python has some built-in functions and methods to help you with these tasks. This page will cover two helpful methods for both strings and lists: count and index.\n",
    "\n",
    "You’ve learned about methods before when drawing with the turtle module. There, you used .forward(50) and .color(\"purple\") to complete actions. We refer to forward and color as methods of the turtle class. Objects like strings and lists also have methods that we can use.\n",
    "\n",
    "# Count\n",
    "The first method we’ll talk about is called count. It requires that you provide one argument, which is what you would like to count. The method then returns the number of times that the argument occured in the string/list the method was used on. There are some differences between count for strings and count for lists. When you use count on a string, the argument can only be a string. You can’t count how many times the integer 2 appears in a string, though you can count how many times the string “2” appears in a string. For lists, the argument is not restricted to just strings.\n",
    "\n"
   ]
  },
  {
   "cell_type": "code",
   "execution_count": 21,
   "metadata": {},
   "outputs": [
    {
     "name": "stdout",
     "output_type": "stream",
     "text": [
      "5\n",
      "2\n"
     ]
    }
   ],
   "source": [
    "a = \"I have had an apple on my desk before!\"\n",
    "print(a.count(\"e\"))\n",
    "print(a.count(\"ha\"))"
   ]
  },
  {
   "cell_type": "code",
   "execution_count": 26,
   "metadata": {},
   "outputs": [
    {
     "name": "stdout",
     "output_type": "stream",
     "text": [
      "4\n"
     ]
    }
   ],
   "source": [
    "v = 'Vinnie George is a good boy'\n",
    "print(v.count(\"o\"))"
   ]
  },
  {
   "cell_type": "markdown",
   "metadata": {},
   "source": [
    "The activecode window above demonstrates the use of count on a string. Just like with the turtle module when we had to specify which turtle was changing color or moving, we have to specify which string we are using count on"
   ]
  },
  {
   "cell_type": "code",
   "execution_count": 5,
   "metadata": {},
   "outputs": [
    {
     "name": "stdout",
     "output_type": "stream",
     "text": [
      "0\n",
      "3\n",
      "0\n",
      "2\n"
     ]
    }
   ],
   "source": [
    "z = ['atoms', 4, 'neutron', 6, 'proton', 4, 'electron', 4, 'electron', 'atoms']\n",
    "print(z.count(\"4\"))\n",
    "print(z.count(4))\n",
    "print(z.count(\"a\"))\n",
    "print(z.count(\"electron\"))"
   ]
  },
  {
   "cell_type": "code",
   "execution_count": 100,
   "metadata": {},
   "outputs": [
    {
     "data": {
      "text/plain": [
       "str"
      ]
     },
     "execution_count": 100,
     "metadata": {},
     "output_type": "execute_result"
    }
   ],
   "source": [
    "type(\"4\")"
   ]
  },
  {
   "cell_type": "markdown",
   "metadata": {},
   "source": [
    "When you run the activecode window above, you’ll see how count with a list works. Notice how “4” has a count of zero but 4 has a count of three? This is because the list z only contains the integer 4. There are never any strings that are 4. Additionally, when we check the count of “a”, we see that the program returns zero. Though some of the words in the list contain the letter “a”, the program is looking for items in the list that are just the letter “a”.\n",
    "\n",
    "# Index\n",
    "The other method that can be helpful for both strings and lists is the index method. The index method requires one argument, and, like the count method, it takes only strings when index is used on strings, and any type when it is used on lists. For both strings and lists, index returns the leftmost index where the argument is found. If it is unable to find the argument in the string or list, then an error will occur."
   ]
  },
  {
   "cell_type": "code",
   "execution_count": 7,
   "metadata": {},
   "outputs": [
    {
     "name": "stdout",
     "output_type": "stream",
     "text": [
      "14\n",
      "9\n",
      "0\n",
      "3\n",
      "6\n"
     ]
    }
   ],
   "source": [
    "music = \"Pull out your music and dancing can begin\"\n",
    "bio = [\"Metatarsal\", \"Metatarsal\", \"Fibula\", [], \"Tibia\", \"Tibia\", 43, \"Femur\", \"Occipital\", \"Metatarsal\"]\n",
    "\n",
    "print(music.index(\"m\"))\n",
    "print(music.index(\"your\"))\n",
    "\n",
    "print(bio.index(\"Metatarsal\"))\n",
    "print(bio.index([]))\n",
    "print(bio.index(43))"
   ]
  },
  {
   "cell_type": "markdown",
   "metadata": {},
   "source": [
    "All of the above examples work, but were you surprised by any of the return values? Remember that index will return the left most index of the argument. Even though “Metatarsal” occurs many times in bio, the method will only return the location of one of them.\n",
    "\n",
    "Here’s another example."
   ]
  },
  {
   "cell_type": "code",
   "execution_count": 8,
   "metadata": {},
   "outputs": [
    {
     "name": "stdout",
     "output_type": "stream",
     "text": [
      "1\n"
     ]
    }
   ],
   "source": [
    "seasons = [\"winter\", \"spring\", \"summer\", \"fall\"]\n",
    "print(seasons.index(\"spring\"))\n",
    "#print(seasons.index(\"autumn\"))  #Error!"
   ]
  },
  {
   "cell_type": "code",
   "execution_count": 9,
   "metadata": {},
   "outputs": [
    {
     "data": {
      "text/plain": [
       "5"
      ]
     },
     "execution_count": 9,
     "metadata": {},
     "output_type": "execute_result"
    }
   ],
   "source": [
    "#What will be stored in the variable ty below?\n",
    "\n",
    "qu = \"wow, welcome week!\"\n",
    "ty = qu.index(\"we\")\n",
    "ty"
   ]
  },
  {
   "cell_type": "code",
   "execution_count": 10,
   "metadata": {},
   "outputs": [
    {
     "data": {
      "text/plain": [
       "2"
      ]
     },
     "execution_count": 10,
     "metadata": {},
     "output_type": "execute_result"
    }
   ],
   "source": [
    "#What will be stored in the variable ty below?\n",
    "\n",
    "qu = \"wow, welcome week! Were you wanting to go?\"\n",
    "ty = qu.count(\"we\")\n",
    "ty"
   ]
  },
  {
   "cell_type": "code",
   "execution_count": 11,
   "metadata": {},
   "outputs": [
    {
     "data": {
      "text/plain": [
       "1"
      ]
     },
     "execution_count": 11,
     "metadata": {},
     "output_type": "execute_result"
    }
   ],
   "source": [
    "#What will be stored in the variable ht below?\n",
    "\n",
    "rooms = ['bathroom', 'kitchen', 'living room', 'bedroom', 'closet', \"foyer\"]\n",
    "#ht = rooms.index(\"garden\")\n",
    "ht = rooms.index(\"kitchen\")\n",
    "ht"
   ]
  },
  {
   "cell_type": "markdown",
   "metadata": {},
   "source": [
    "# Splitting and Joining Strings\n",
    "Two of the most useful methods on strings involve lists of strings. The split method breaks a string into a list of words. By default, any number of whitespace characters is considered a word boundary.\n",
    "\n"
   ]
  },
  {
   "cell_type": "code",
   "execution_count": 13,
   "metadata": {},
   "outputs": [
    {
     "name": "stdout",
     "output_type": "stream",
     "text": [
      "['The', 'rain', 'in', 'Spain...']\n"
     ]
    }
   ],
   "source": [
    "song = \"The rain in Spain...\"\n",
    "wds = song.split()\n",
    "print(wds)"
   ]
  },
  {
   "cell_type": "code",
   "execution_count": 16,
   "metadata": {},
   "outputs": [
    {
     "data": {
      "text/plain": [
       "'The rain in Spain...'"
      ]
     },
     "execution_count": 16,
     "metadata": {},
     "output_type": "execute_result"
    }
   ],
   "source": [
    "sen = \" \".join(wds)\n",
    "sen"
   ]
  },
  {
   "cell_type": "markdown",
   "metadata": {},
   "source": [
    "The following example uses the string ai as the delimiter:"
   ]
  },
  {
   "cell_type": "code",
   "execution_count": 19,
   "metadata": {},
   "outputs": [
    {
     "name": "stdout",
     "output_type": "stream",
     "text": [
      "['The r', 'n in Sp', 'n...']\n"
     ]
    }
   ],
   "source": [
    "song = \"The rain in Spain...\"\n",
    "wds = song.split('ai')\n",
    "print(wds)"
   ]
  },
  {
   "cell_type": "markdown",
   "metadata": {},
   "source": [
    "Notice that the delimiter doesn’t appear in the result.\n",
    "\n",
    "The inverse of the split method is join. You choose a desired separator string, (often called the glue) and join the list with the glue between each of the elements."
   ]
  },
  {
   "cell_type": "code",
   "execution_count": 20,
   "metadata": {},
   "outputs": [
    {
     "name": "stdout",
     "output_type": "stream",
     "text": [
      "red;blue;green\n",
      "['red', 'blue', 'green']\n",
      "red***blue***green\n",
      "redbluegreen\n"
     ]
    }
   ],
   "source": [
    "wds = [\"red\", \"blue\", \"green\"]\n",
    "glue = ';'\n",
    "s = glue.join(wds)\n",
    "print(s)\n",
    "print(wds)\n",
    "\n",
    "print(\"***\".join(wds))\n",
    "print(\"\".join(wds))"
   ]
  },
  {
   "cell_type": "code",
   "execution_count": 21,
   "metadata": {},
   "outputs": [
    {
     "name": "stdout",
     "output_type": "stream",
     "text": [
      "['my', 'name', 'is', 'dipesh']\n",
      "my-name-is-dipesh\n"
     ]
    }
   ],
   "source": [
    "line = \"my name is dipesh\"\n",
    "lin = line.split()\n",
    "print(lin)\n",
    "past_line= \"-\".join(lin)\n",
    "print(past_line)"
   ]
  },
  {
   "cell_type": "code",
   "execution_count": 27,
   "metadata": {},
   "outputs": [
    {
     "name": "stdout",
     "output_type": "stream",
     "text": [
      "9\n",
      "42\n",
      "indiancybersecuritysolutions.com\n"
     ]
    }
   ],
   "source": [
    "data = 'From info@indiancybersecuritysolutions.com Sat Jan  5 09:14:16 2008'\n",
    "atpos = data.find('@')\n",
    "print(atpos)\n",
    "sppos = data.find(' ',atpos)\n",
    "print(sppos)\n",
    "host = data[atpos+1 : sppos]\n",
    "print(host)"
   ]
  },
  {
   "cell_type": "code",
   "execution_count": 27,
   "metadata": {},
   "outputs": [
    {
     "name": "stdout",
     "output_type": "stream",
     "text": [
      "9\n",
      "42\n",
      "indiancybersecuritysolutions\n"
     ]
    }
   ],
   "source": [
    "data = 'From info@indiancybersecuritysolutions.com Sat Jan  5 09:14:16 2008'\n",
    "start = data.find('@')\n",
    "print(start)\n",
    "end = data.find(' ', start)\n",
    "print(end)\n",
    "domain = data[start+1:end-4]\n",
    "print(domain)"
   ]
  },
  {
   "cell_type": "markdown",
   "metadata": {},
   "source": [
    "### Introduction: Iteration\n",
    "A basic building block of all programs is to be able to repeat some code over and over again. Whether it is updating the bank balances of millions of customers each night, or sending email messages to thousands of people programming involves instructing the computer to do many repetitive actions. In computing, we refer to this repetitive execution as iteration. In this section, we will explore some mechanisms for basic iteration.\n",
    "\n",
    "With collections (lists and strings), a lot of computations involve processing one item at a time. For strings, this means that we would like to process one character at a time. Often we start at the beginning, select each character in turn, do something to it, and continue until the end. For example, we could take each character and substitute for the character 13 characters away in the alphabet to create a coded message.\n",
    "\n",
    "This pattern of processing is called a traversal, or iteration over the characters. Similarly, we can process each of the items in a list, one at a time, iterating over the items in the list. This has applications in every piece of software you can imagine:\n",
    "\n",
    "Displaying a list of friends on SnapChat\n",
    "\n",
    "Updating the position of every character on the screen of a video game\n",
    "\n",
    "Displaying the locations that Doctors Without Borders operates in"
   ]
  },
  {
   "cell_type": "markdown",
   "metadata": {},
   "source": [
    "# The for Loop\n",
    "\n",
    "\n",
    "Back when we drew the images with turtle it could be quite tedious. If we wanted to draw a square then we had to move then turn, move then turn, etc. etc. four times. If we were drawing a hexagon, or an octagon, or a polygon with 42 sides, it would have been a nightmare to duplicate all that code.\n",
    "\n",
    "A basic building block of all programs is to be able to repeat some code over and over again. We refer to this repetitive idea as iteration. In this section, we will explore some mechanisms for basic iteration.\n",
    "\n",
    "In Python, the for statement allows us to write programs that implement iteration. As a simple example, let’s say we have some friends, and we’d like to send them each an email inviting them to our party. We don’t quite know how to send email yet, so for the moment we’ll just print a message for each friend."
   ]
  },
  {
   "cell_type": "code",
   "execution_count": 30,
   "metadata": {},
   "outputs": [
    {
     "name": "stdout",
     "output_type": "stream",
     "text": [
      "s\n",
      "o\n",
      "u\n",
      "j\n",
      "a\n",
      "t\n",
      "a\n",
      "soujata\n"
     ]
    }
   ],
   "source": [
    "name = 'soujata'\n",
    "for char in name:\n",
    "    print(char)\n",
    "print(name)"
   ]
  },
  {
   "cell_type": "code",
   "execution_count": 1,
   "metadata": {},
   "outputs": [
    {
     "name": "stdout",
     "output_type": "stream",
     "text": [
      "Hi Joe Please come to my party on Saturday!\n",
      "Hi Amy Please come to my party on Saturday!\n",
      "Hi Brad Please come to my party on Saturday!\n",
      "Hi Angelina Please come to my party on Saturday!\n",
      "Hi Zuki Please come to my party on Saturday!\n",
      "Hi Thandi Please come to my party on Saturday!\n",
      "Hi Paris Please come to my party on Saturday!\n"
     ]
    }
   ],
   "source": [
    "for name in [\"Joe\", \"Amy\", \"Brad\", \"Angelina\", \"Zuki\", \"Thandi\", \"Paris\"]:\n",
    "    print(\"Hi\", name, \"Please come to my party on Saturday!\")"
   ]
  },
  {
   "cell_type": "markdown",
   "metadata": {},
   "source": [
    "# Strings and for loops\n",
    "Since a string is simply a sequence of characters, the for loop iterates over each character automatically. (As always, try to predict what the output will be from this code before your run it.)"
   ]
  },
  {
   "cell_type": "code",
   "execution_count": 43,
   "metadata": {},
   "outputs": [
    {
     "name": "stdout",
     "output_type": "stream",
     "text": [
      "G\n",
      "o\n",
      " \n",
      "S\n",
      "p\n",
      "o\n",
      "t\n",
      " \n",
      "G\n",
      "o\n"
     ]
    }
   ],
   "source": [
    "for achar in \"Go Spot Go\":\n",
    "    print(achar)"
   ]
  },
  {
   "cell_type": "code",
   "execution_count": 118,
   "metadata": {},
   "outputs": [
    {
     "name": "stdout",
     "output_type": "stream",
     "text": [
      "p\n",
      "y\n",
      "t\n",
      "h\n",
      "o\n",
      "n\n",
      " \n",
      "r\n",
      "o\n",
      "c\n",
      "k\n",
      "s\n",
      "HELLO\n"
     ]
    }
   ],
   "source": [
    "#How many times is the word HELLO printed by the following statements?\n",
    "\n",
    "s = \"python rocks\"\n",
    "for ch in s:\n",
    "    print(ch)\n",
    "print(\"HELLO\")    "
   ]
  },
  {
   "cell_type": "code",
   "execution_count": 120,
   "metadata": {},
   "outputs": [
    {
     "name": "stdout",
     "output_type": "stream",
     "text": [
      "h\n",
      "o\n",
      "n\n",
      " \n",
      "r\n",
      "HELLO\n"
     ]
    }
   ],
   "source": [
    "#How many times is the word HELLO printed by the following statements?\n",
    "s = \"python rocks\"\n",
    "for ch in s[3:8]:\n",
    "    print(ch)\n",
    "print(\"HELLO\")"
   ]
  },
  {
   "cell_type": "markdown",
   "metadata": {},
   "source": [
    "# Lists and for loops\n",
    "It is also possible to perform list traversal using iteration by item. A list is a sequence of items, so the for loop iterates over each item in the list automatically."
   ]
  },
  {
   "cell_type": "code",
   "execution_count": 121,
   "metadata": {},
   "outputs": [
    {
     "name": "stdout",
     "output_type": "stream",
     "text": [
      "apple\n",
      "orange\n",
      "banana\n",
      "cherry\n"
     ]
    }
   ],
   "source": [
    "fruits = [\"apple\", \"orange\", \"banana\", \"cherry\"]\n",
    "for afruit in fruits:     # by item\n",
    "    print(afruit)"
   ]
  },
  {
   "cell_type": "code",
   "execution_count": 122,
   "metadata": {},
   "outputs": [
    {
     "name": "stdout",
     "output_type": "stream",
     "text": [
      "dipesh"
     ]
    }
   ],
   "source": [
    "name = \"dipesh\"\n",
    "for p in name:\n",
    "    print(p, end = \"\")"
   ]
  },
  {
   "cell_type": "code",
   "execution_count": 123,
   "metadata": {},
   "outputs": [
    {
     "name": "stdout",
     "output_type": "stream",
     "text": [
      "Happy New Year: Joseph\n",
      "Happy New Year: Glenn\n",
      "Happy New Year: Sally\n",
      "Done!\n"
     ]
    }
   ],
   "source": [
    "friends = ['Joseph', 'Glenn', 'Sally']\n",
    "for friend in friends :\n",
    "    print('Happy New Year:',  friend)\n",
    "print('Done!')"
   ]
  },
  {
   "cell_type": "code",
   "execution_count": 51,
   "metadata": {},
   "outputs": [
    {
     "name": "stdout",
     "output_type": "stream",
     "text": [
      "Happy New Year: Joseph\n",
      "Happy New Year: Glenn\n",
      "Happy New Year: Sally\n",
      "Done!\n"
     ]
    }
   ],
   "source": [
    "z = ['Joseph', 'Glenn', 'Sally']\n",
    "for x in z:\n",
    "    print('Happy New Year:',  x)\n",
    "print('Done!')"
   ]
  },
  {
   "cell_type": "markdown",
   "metadata": {},
   "source": [
    "### Looking Inside the Slide"
   ]
  },
  {
   "cell_type": "code",
   "execution_count": 52,
   "metadata": {},
   "outputs": [
    {
     "name": "stdout",
     "output_type": "stream",
     "text": [
      "Glenn\n"
     ]
    }
   ],
   "source": [
    "friends = [ 'Joseph', 'Glenn', 'Sally' ]\n",
    "print(friends[1])"
   ]
  },
  {
   "cell_type": "markdown",
   "metadata": {},
   "source": [
    "### Lists are Mutable\n",
    "Strings are “immutable” - we cannot change the contents of a string - we must make a new string to make any change\n",
    "Lists are “mutable” - we can change an element of a list using the index operator"
   ]
  },
  {
   "cell_type": "code",
   "execution_count": 53,
   "metadata": {},
   "outputs": [
    {
     "ename": "TypeError",
     "evalue": "'str' object does not support item assignment",
     "output_type": "error",
     "traceback": [
      "\u001b[1;31m---------------------------------------------------------------------------\u001b[0m",
      "\u001b[1;31mTypeError\u001b[0m                                 Traceback (most recent call last)",
      "\u001b[1;32m<ipython-input-53-2bc78b004470>\u001b[0m in \u001b[0;36m<module>\u001b[1;34m\u001b[0m\n\u001b[0;32m      1\u001b[0m \u001b[0mfruit\u001b[0m \u001b[1;33m=\u001b[0m \u001b[1;34m'Banana'\u001b[0m\u001b[1;33m\u001b[0m\u001b[1;33m\u001b[0m\u001b[0m\n\u001b[1;32m----> 2\u001b[1;33m \u001b[0mfruit\u001b[0m\u001b[1;33m[\u001b[0m\u001b[1;36m0\u001b[0m\u001b[1;33m]\u001b[0m \u001b[1;33m=\u001b[0m \u001b[1;34m'b'\u001b[0m\u001b[1;33m\u001b[0m\u001b[1;33m\u001b[0m\u001b[0m\n\u001b[0m",
      "\u001b[1;31mTypeError\u001b[0m: 'str' object does not support item assignment"
     ]
    }
   ],
   "source": [
    "fruit = 'Banana'\n",
    "fruit[0] = 'b'"
   ]
  },
  {
   "cell_type": "code",
   "execution_count": 54,
   "metadata": {},
   "outputs": [
    {
     "name": "stdout",
     "output_type": "stream",
     "text": [
      "['Dipesh', 'Glenn', 'Sally']\n"
     ]
    }
   ],
   "source": [
    "friends = [ 'Joseph', 'Glenn', 'Sally' ]\n",
    "friends[0] = \"Dipesh\"\n",
    "print(friends)"
   ]
  },
  {
   "cell_type": "code",
   "execution_count": 31,
   "metadata": {},
   "outputs": [
    {
     "name": "stdout",
     "output_type": "stream",
     "text": [
      "banana\n"
     ]
    }
   ],
   "source": [
    "fruit = 'BANANA'\n",
    "x = fruit.lower()\n",
    "print(x)"
   ]
  },
  {
   "cell_type": "code",
   "execution_count": 34,
   "metadata": {},
   "outputs": [
    {
     "name": "stdout",
     "output_type": "stream",
     "text": [
      "banana\n",
      "[2, 14, 26, 41, 63]\n",
      "[2, 14, 26, 41, 28]\n"
     ]
    }
   ],
   "source": [
    "fruit = 'Banana'\n",
    "x = fruit.lower()\n",
    "print(x)\n",
    "lotto = [2, 14, 26, 41, 63]\n",
    "print(lotto)\n",
    "lotto[4] = 28\n",
    "print(lotto)"
   ]
  },
  {
   "cell_type": "markdown",
   "metadata": {},
   "source": [
    "### How Long is a List?"
   ]
  },
  {
   "cell_type": "markdown",
   "metadata": {},
   "source": [
    "The len() function takes a list as a parameter and returns the number of elements in the list\n",
    "Actually len() tells us the number of elements of any set or sequence (such as a string...)"
   ]
  },
  {
   "cell_type": "code",
   "execution_count": 59,
   "metadata": {},
   "outputs": [
    {
     "name": "stdout",
     "output_type": "stream",
     "text": [
      "9\n",
      "4\n"
     ]
    }
   ],
   "source": [
    "greet = 'Hello Bob'\n",
    "print(len(greet))\n",
    "x = [ 1, 2, 'joe', 99]\n",
    "print(len(x))"
   ]
  },
  {
   "cell_type": "markdown",
   "metadata": {},
   "source": [
    "### Using the range Function\n",
    "The range function returns a list of numbers that range from zero to one less than the parameter\n",
    "We can construct an index loop using for and an integer iterator"
   ]
  },
  {
   "cell_type": "code",
   "execution_count": 129,
   "metadata": {},
   "outputs": [
    {
     "name": "stdout",
     "output_type": "stream",
     "text": [
      "[5, 7, 9, 11, 13, 15, 17, 19]\n"
     ]
    }
   ],
   "source": [
    "a = list(range(5, 21, 2))\n",
    "print(a)"
   ]
  },
  {
   "cell_type": "code",
   "execution_count": 39,
   "metadata": {},
   "outputs": [
    {
     "name": "stdout",
     "output_type": "stream",
     "text": [
      "0 1 2 3 4 5 6 7 8 9 "
     ]
    }
   ],
   "source": [
    "for i in range(10):\n",
    "    print(i, end = \" \")"
   ]
  },
  {
   "cell_type": "code",
   "execution_count": 40,
   "metadata": {},
   "outputs": [
    {
     "name": "stdout",
     "output_type": "stream",
     "text": [
      "d\n",
      "i\n",
      "p\n",
      "e\n",
      "s\n",
      "h\n"
     ]
    }
   ],
   "source": [
    "for i in \"dipesh\":\n",
    "    print(i)"
   ]
  },
  {
   "cell_type": "code",
   "execution_count": 41,
   "metadata": {},
   "outputs": [
    {
     "name": "stdout",
     "output_type": "stream",
     "text": [
      "0\n",
      "1\n",
      "2\n"
     ]
    }
   ],
   "source": [
    "friends = ['Joseph', 'Glenn', 'Sally']\n",
    "for i in range(len(friends)):\n",
    "    print(i)"
   ]
  },
  {
   "cell_type": "markdown",
   "metadata": {},
   "source": [
    "### A Tale of Two Loops..."
   ]
  },
  {
   "cell_type": "code",
   "execution_count": 42,
   "metadata": {},
   "outputs": [
    {
     "name": "stdout",
     "output_type": "stream",
     "text": [
      "3\n"
     ]
    }
   ],
   "source": [
    "friends = ['Joseph', 'Glenn', 'Sally']\n",
    "print(len(friends))"
   ]
  },
  {
   "cell_type": "code",
   "execution_count": 6,
   "metadata": {},
   "outputs": [
    {
     "name": "stdout",
     "output_type": "stream",
     "text": [
      "0\n",
      "1\n",
      "2\n"
     ]
    }
   ],
   "source": [
    "for i in range(len(friends)):\n",
    "    print(i)"
   ]
  },
  {
   "cell_type": "code",
   "execution_count": 7,
   "metadata": {},
   "outputs": [
    {
     "name": "stdout",
     "output_type": "stream",
     "text": [
      "Happy New Year: Joseph\n",
      "Happy New Year: Glenn\n",
      "Happy New Year: Sally\n"
     ]
    }
   ],
   "source": [
    "friends = ['Joseph', 'Glenn', 'Sally']\n",
    "for friend in friends :\n",
    "    print('Happy New Year:',  friend)"
   ]
  },
  {
   "cell_type": "code",
   "execution_count": 70,
   "metadata": {},
   "outputs": [
    {
     "name": "stdout",
     "output_type": "stream",
     "text": [
      "Happy New Year: ['Joseph', 'Glenn', 'Sally']\n",
      "Happy New Year: ['Joseph', 'Glenn', 'Sally']\n",
      "Happy New Year: ['Joseph', 'Glenn', 'Sally']\n"
     ]
    }
   ],
   "source": [
    "for i in range(len(friends)) :\n",
    "    #print(i)\n",
    "    #friend = friends[i]\n",
    "    print('Happy New Year:',  friends[i])"
   ]
  },
  {
   "cell_type": "markdown",
   "metadata": {},
   "source": [
    "### Concatenating Lists Using +\n",
    "We can create a new list by adding two existing lists together"
   ]
  },
  {
   "cell_type": "code",
   "execution_count": 43,
   "metadata": {},
   "outputs": [
    {
     "name": "stdout",
     "output_type": "stream",
     "text": [
      "[1, 2, 3, 4, 5, 6]\n"
     ]
    }
   ],
   "source": [
    "a = [1, 2, 3]\n",
    "b = [4, 5, 6]\n",
    "c = a + b\n",
    "print(c)"
   ]
  },
  {
   "cell_type": "markdown",
   "metadata": {},
   "source": [
    "### Lists Can Be Sliced Using :\n",
    "Remember:  Just like in strings, the second number is “up to but not including”"
   ]
  },
  {
   "cell_type": "code",
   "execution_count": 44,
   "metadata": {},
   "outputs": [
    {
     "name": "stdout",
     "output_type": "stream",
     "text": [
      "[41, 12]\n",
      "[9, 41, 12, 3]\n",
      "[3, 74, 15]\n",
      "[9, 41, 12, 3, 74, 15]\n"
     ]
    }
   ],
   "source": [
    "t = [9, 41, 12, 3, 74, 15]\n",
    "print(t[1:3])\n",
    "print(t[:4])\n",
    "print(t[3:])\n",
    "print(t[:])"
   ]
  },
  {
   "cell_type": "markdown",
   "metadata": {},
   "source": [
    "## List Methods"
   ]
  },
  {
   "cell_type": "code",
   "execution_count": 45,
   "metadata": {},
   "outputs": [
    {
     "data": {
      "text/plain": [
       "list"
      ]
     },
     "execution_count": 45,
     "metadata": {},
     "output_type": "execute_result"
    }
   ],
   "source": [
    "x = list()\n",
    "type(x)\n",
    "#dir(x)"
   ]
  },
  {
   "cell_type": "markdown",
   "metadata": {},
   "source": [
    "## Building a List from Scratch\n",
    "We can create an empty list and then add elements using the append method\n",
    "\n",
    "The list stays in order and new elements are added at the end of the list"
   ]
  },
  {
   "cell_type": "code",
   "execution_count": 48,
   "metadata": {},
   "outputs": [
    {
     "name": "stdout",
     "output_type": "stream",
     "text": [
      "['book', 99]\n",
      "['book', 99, 'cookie']\n"
     ]
    }
   ],
   "source": [
    "stuff = list()\n",
    "stuff.append('book')\n",
    "stuff.append(99)\n",
    "print(stuff)\n",
    "stuff.append('cookie')\n",
    "print(stuff)"
   ]
  },
  {
   "cell_type": "markdown",
   "metadata": {},
   "source": [
    "## Is Something in a List?\n",
    "Python provides two operators that let you check if an item is in a list\n",
    "\n",
    "These are logical operators that return True or False\n",
    "\n",
    "They do not modify the list"
   ]
  },
  {
   "cell_type": "code",
   "execution_count": 49,
   "metadata": {},
   "outputs": [
    {
     "name": "stdout",
     "output_type": "stream",
     "text": [
      "True\n",
      "False\n",
      "True\n"
     ]
    }
   ],
   "source": [
    "some = [1, 9, 21, 10, 16]\n",
    "print(9 in some)\n",
    "print(15 in some)\n",
    "print(20 not in some)"
   ]
  },
  {
   "cell_type": "markdown",
   "metadata": {},
   "source": [
    "## Lists are in Order\n",
    "A list can hold many items and keeps those items in the order until we do something to change the order\n",
    "\n",
    "A list can be sorted (i.e., change its order)\n",
    "\n",
    "The sort method (unlike in strings) means “sort yourself”"
   ]
  },
  {
   "cell_type": "code",
   "execution_count": 1,
   "metadata": {},
   "outputs": [
    {
     "name": "stdout",
     "output_type": "stream",
     "text": [
      "[4, 2, 6, 9, 8]\n",
      "[2, 4, 6, 8, 9]\n"
     ]
    }
   ],
   "source": [
    "lis = [4, 2, 6, 9, 8]\n",
    "print(lis)\n",
    "lis.sort()\n",
    "print(lis)"
   ]
  },
  {
   "cell_type": "code",
   "execution_count": 3,
   "metadata": {},
   "outputs": [
    {
     "name": "stdout",
     "output_type": "stream",
     "text": [
      "[4, 2, 6, 9, 8]\n",
      "[9, 8, 6, 4, 2]\n"
     ]
    }
   ],
   "source": [
    "lis = [4, 2, 6, 9, 8]\n",
    "a = sorted(lis, reverse=True)\n",
    "print(lis)\n",
    "print(a)"
   ]
  },
  {
   "cell_type": "code",
   "execution_count": 9,
   "metadata": {},
   "outputs": [
    {
     "name": "stdout",
     "output_type": "stream",
     "text": [
      "['Glenn', 'Joseph', 'Sally']\n",
      "Joseph\n"
     ]
    }
   ],
   "source": [
    "friends = [ 'Joseph', 'Glenn', 'Sally' ]\n",
    "friends.sort()\n",
    "print(friends)\n",
    "print(friends[1])"
   ]
  },
  {
   "cell_type": "code",
   "execution_count": 12,
   "metadata": {},
   "outputs": [
    {
     "name": "stdout",
     "output_type": "stream",
     "text": [
      "['Joseph', 'Glenn', 'Sally']\n",
      "['Sally', 'Joseph', 'Glenn']\n"
     ]
    }
   ],
   "source": [
    "friends = [ 'Joseph', 'Glenn', 'Sally' ]\n",
    "updated = sorted(friends, reverse=True)\n",
    "print(friends)\n",
    "print(updated)"
   ]
  },
  {
   "cell_type": "code",
   "execution_count": 47,
   "metadata": {},
   "outputs": [
    {
     "name": "stdout",
     "output_type": "stream",
     "text": [
      "['Glenn', 'Joseph', 'Sally']\n",
      "['Joseph', 'Glenn', 'Sally']\n",
      "Joseph\n"
     ]
    }
   ],
   "source": [
    "friends = [ 'Joseph', 'Glenn', 'Sally' ]\n",
    "friend = sorted(friends)\n",
    "print(friend)\n",
    "print(friends)\n",
    "print(friend[1])"
   ]
  },
  {
   "cell_type": "markdown",
   "metadata": {},
   "source": [
    "### Built-in Functions and Lists\n",
    "There are a number of functions built into Python that take lists as parameters\n",
    "\n",
    "Remember the loops we built?  These are much simpler."
   ]
  },
  {
   "cell_type": "code",
   "execution_count": 52,
   "metadata": {},
   "outputs": [
    {
     "name": "stdout",
     "output_type": "stream",
     "text": [
      "6\n",
      "74\n",
      "3\n",
      "154\n",
      "25.666666666666668\n"
     ]
    }
   ],
   "source": [
    "nums = [3, 41, 12, 9, 74, 15]\n",
    "print(len(nums))\n",
    "print(max(nums))\n",
    "print(min(nums))\n",
    "print(sum(nums))\n",
    "print(sum(nums)/len(nums))"
   ]
  },
  {
   "cell_type": "markdown",
   "metadata": {},
   "source": [
    "## Best Friends: Strings and Lists\n",
    "Split breaks a string into parts and produces a list of strings.  We think of these as words.  We can access a particular word or loop through all the words."
   ]
  },
  {
   "cell_type": "code",
   "execution_count": 53,
   "metadata": {},
   "outputs": [
    {
     "name": "stdout",
     "output_type": "stream",
     "text": [
      "['With', 'three', 'words']\n",
      "3\n",
      "With\n"
     ]
    }
   ],
   "source": [
    "abc = 'With three words'\n",
    "stuff = abc.split()\n",
    "print(stuff)\n",
    "print(len(stuff))\n",
    "print(stuff[0])"
   ]
  },
  {
   "cell_type": "code",
   "execution_count": 54,
   "metadata": {},
   "outputs": [
    {
     "name": "stdout",
     "output_type": "stream",
     "text": [
      "['With', 'three', 'words']\n",
      "With\n",
      "three\n",
      "words\n"
     ]
    }
   ],
   "source": [
    "print(stuff)\n",
    "for w in stuff :\n",
    "    print(w)"
   ]
  },
  {
   "cell_type": "code",
   "execution_count": 55,
   "metadata": {},
   "outputs": [
    {
     "name": "stdout",
     "output_type": "stream",
     "text": [
      "[4, 5, 6, [5, 9]]\n"
     ]
    }
   ],
   "source": [
    "lis = [4, 5, 6]\n",
    "lis.append([5, 9])\n",
    "print(lis)"
   ]
  },
  {
   "cell_type": "code",
   "execution_count": 56,
   "metadata": {},
   "outputs": [
    {
     "name": "stdout",
     "output_type": "stream",
     "text": [
      "[2, 5, 9, 42, 9, 11, 13]\n"
     ]
    }
   ],
   "source": [
    "odd = [2, 5, 9, 42]\n",
    "odd.extend([9, 11, 13])\n",
    "\n",
    "print(odd)"
   ]
  },
  {
   "cell_type": "code",
   "execution_count": 57,
   "metadata": {},
   "outputs": [
    {
     "data": {
      "text/plain": [
       "[2, 5, 9, 42, 9, 11, 13]"
      ]
     },
     "execution_count": 57,
     "metadata": {},
     "output_type": "execute_result"
    }
   ],
   "source": [
    "odd = [2, 5, 9, 42]\n",
    "a = [9, 11, 13]\n",
    "c = odd + a\n",
    "c"
   ]
  },
  {
   "cell_type": "code",
   "execution_count": 58,
   "metadata": {},
   "outputs": [
    {
     "data": {
      "text/plain": [
       "[1, 3, 9]"
      ]
     },
     "execution_count": 58,
     "metadata": {},
     "output_type": "execute_result"
    }
   ],
   "source": [
    "odd = [1, 9]\n",
    "odd.insert(1,3)\n",
    "odd"
   ]
  },
  {
   "cell_type": "code",
   "execution_count": 59,
   "metadata": {},
   "outputs": [
    {
     "data": {
      "text/plain": [
       "[1, 3, 7, 9]"
      ]
     },
     "execution_count": 59,
     "metadata": {},
     "output_type": "execute_result"
    }
   ],
   "source": [
    "odd = [1,3, 9]\n",
    "odd.insert(2,7)\n",
    "odd"
   ]
  },
  {
   "cell_type": "code",
   "execution_count": 61,
   "metadata": {},
   "outputs": [
    {
     "data": {
      "text/plain": [
       "['p', 'r', 'b', 'l', 'e', 'm']"
      ]
     },
     "execution_count": 61,
     "metadata": {},
     "output_type": "execute_result"
    }
   ],
   "source": [
    "# Deleting list items\n",
    "my_list = ['p', 'r', 'o', 'b', 'l', 'e', 'm']\n",
    "# # delete one item\n",
    "del my_list[2]\n",
    "# my_list\n",
    "# # delete multiple items\n",
    "# del my_list[1:5]\n",
    "my_list"
   ]
  },
  {
   "cell_type": "code",
   "execution_count": 63,
   "metadata": {},
   "outputs": [
    {
     "data": {
      "text/plain": [
       "['r', 'o', 'b', 'l', 'e', 'm']"
      ]
     },
     "execution_count": 63,
     "metadata": {},
     "output_type": "execute_result"
    }
   ],
   "source": [
    "my_list = ['p','r','o','b','l','e','m']\n",
    "my_list.remove('p')\n",
    "my_list"
   ]
  },
  {
   "cell_type": "code",
   "execution_count": 65,
   "metadata": {},
   "outputs": [
    {
     "name": "stdout",
     "output_type": "stream",
     "text": [
      "e\n"
     ]
    }
   ],
   "source": [
    "# Output: 'o'\n",
    "print(my_list.pop(4))"
   ]
  },
  {
   "cell_type": "code",
   "execution_count": 19,
   "metadata": {},
   "outputs": [
    {
     "name": "stdout",
     "output_type": "stream",
     "text": [
      "m\n"
     ]
    }
   ],
   "source": [
    "# Output: 'm'\n",
    "print(my_list.pop())"
   ]
  },
  {
   "cell_type": "code",
   "execution_count": 20,
   "metadata": {},
   "outputs": [
    {
     "data": {
      "text/plain": [
       "[]"
      ]
     },
     "execution_count": 20,
     "metadata": {},
     "output_type": "execute_result"
    }
   ],
   "source": [
    "my_list.clear()\n",
    "my_list"
   ]
  },
  {
   "cell_type": "markdown",
   "metadata": {},
   "source": [
    "It almost reads like natural language: For (every) fruit in (the list of) fruits, print (the name of the) fruit.\n",
    "\n",
    "# Using the range Function to Generate a Sequence to Iterate Over\n",
    "We are now in a position to understand the inner workings we glossed over previously when we first introduced repeated execution with a for loop. Here was the example:"
   ]
  },
  {
   "cell_type": "code",
   "execution_count": 6,
   "metadata": {},
   "outputs": [
    {
     "name": "stdout",
     "output_type": "stream",
     "text": [
      "This will execute first\n",
      "This line will execute three times\n",
      "This line will also execute three times\n",
      "This line will execute three times\n",
      "This line will also execute three times\n",
      "This line will execute three times\n",
      "This line will also execute three times\n",
      "Now we are outside of the for loop!\n"
     ]
    }
   ],
   "source": [
    "print(\"This will execute first\")\n",
    "\n",
    "for _ in range(3):\n",
    "    print(\"This line will execute three times\")\n",
    "    print(\"This line will also execute three times\")\n",
    "\n",
    "print(\"Now we are outside of the for loop!\")"
   ]
  },
  {
   "cell_type": "markdown",
   "metadata": {},
   "source": [
    "# The Accumulator Pattern\n",
    "One common programming “pattern” is to traverse a sequence, accumulating a value as we go, such as the sum-so-far or the maximum-so-far. That way, at the end of the traversal we have accumulated a single value, such as the sum total of all the items or the largest item.\n",
    "\n",
    "The anatomy of the accumulation pattern includes:\n",
    "initializing an “accumulator” variable to an initial value (such as 0 if accumulating a sum)\n",
    "\n",
    "iterating (e.g., traversing the items in a sequence)\n",
    "\n",
    "updating the accumulator variable on each iteration (i.e., when processing each item in the sequence)\n",
    "\n",
    "For example, consider the following code, which computes the sum of the numbers in a list."
   ]
  },
  {
   "cell_type": "code",
   "execution_count": 2,
   "metadata": {},
   "outputs": [
    {
     "name": "stdout",
     "output_type": "stream",
     "text": [
      "10\n"
     ]
    }
   ],
   "source": [
    "nums = [1, 2, 3, 4, 5, 6, 7, 8, 9, 10]\n",
    "accum_variable = 0\n",
    "for i in nums:\n",
    "    accum_variable = accum_variable + 1\n",
    "print(accum_variable)"
   ]
  },
  {
   "cell_type": "code",
   "execution_count": 6,
   "metadata": {},
   "outputs": [
    {
     "name": "stdout",
     "output_type": "stream",
     "text": [
      "55\n"
     ]
    }
   ],
   "source": [
    "nums = [1, 2, 3, 4, 5, 6, 7, 8, 9, 10]\n",
    "total = 0\n",
    "for i in nums:\n",
    "    total += i\n",
    "print(total)"
   ]
  },
  {
   "cell_type": "code",
   "execution_count": 4,
   "metadata": {},
   "outputs": [
    {
     "name": "stdout",
     "output_type": "stream",
     "text": [
      "55\n"
     ]
    }
   ],
   "source": [
    "nums = [1, 2, 3, 4, 5, 6, 7, 8, 9, 10]\n",
    "count = 0\n",
    "for i in nums:\n",
    "    count += 1 # count = count + 1\n",
    "print(count)"
   ]
  },
  {
   "cell_type": "code",
   "execution_count": 22,
   "metadata": {},
   "outputs": [
    {
     "data": {
      "text/plain": [
       "55"
      ]
     },
     "execution_count": 22,
     "metadata": {},
     "output_type": "execute_result"
    }
   ],
   "source": [
    "count"
   ]
  },
  {
   "cell_type": "code",
   "execution_count": 11,
   "metadata": {},
   "outputs": [
    {
     "name": "stdout",
     "output_type": "stream",
     "text": [
      "55\n"
     ]
    }
   ],
   "source": [
    "nums = [1, 2, 3, 4, 5, 6, 7, 8, 9, 10]\n",
    "accum = 0\n",
    "for w in nums:\n",
    "    accum = accum + w\n",
    "print(accum)"
   ]
  },
  {
   "cell_type": "code",
   "execution_count": 5,
   "metadata": {},
   "outputs": [
    {
     "name": "stdout",
     "output_type": "stream",
     "text": [
      "2\n",
      "6\n",
      "12\n",
      "20\n",
      "30\n",
      "30\n"
     ]
    }
   ],
   "source": [
    "nums = [1, 2, 3, 4, 5, 6, 7, 8, 9, 10]\n",
    "accum = 0\n",
    "for w in nums:\n",
    "    #print(w)\n",
    "    if w % 2 == 0:\n",
    "        #print(w)\n",
    "        accum = accum + w\n",
    "        #print(accum)\n",
    "print(accum)"
   ]
  },
  {
   "cell_type": "markdown",
   "metadata": {},
   "source": [
    "One important thing to know about the range function in python3 is that if we want to use it outside of iteration, we have to cast it as a list using list(). Inside the textbook you’ll notice that range works with or without casting it as a list but it is best for you to try and get into the habit of casting it as a list. Here’s how you could use the range function in the previous problem."
   ]
  },
  {
   "cell_type": "code",
   "execution_count": 153,
   "metadata": {},
   "outputs": [
    {
     "name": "stdout",
     "output_type": "stream",
     "text": [
      "55\n",
      "55\n"
     ]
    }
   ],
   "source": [
    "accum = 0\n",
    "for w in range(11):\n",
    "    accum = accum + w\n",
    "print(accum)\n",
    "\n",
    "# or, if you use two inputs for the range function\n",
    "\n",
    "sec_accum = 0\n",
    "for w in range(1,11):\n",
    "    sec_accum = sec_accum + w\n",
    "print(sec_accum)"
   ]
  },
  {
   "cell_type": "markdown",
   "metadata": {},
   "source": [
    "#### Write code to create a list of integers from 0 through 52 and assign that list to the variable numbers. You should use a special Python function – do not type out the whole list yourself. HINT: You can do this in one line of code!"
   ]
  },
  {
   "cell_type": "code",
   "execution_count": null,
   "metadata": {},
   "outputs": [],
   "source": []
  },
  {
   "cell_type": "markdown",
   "metadata": {},
   "source": [
    "#### Count the number of characters in string str1. Do not use len(). Save the number in variable numbs."
   ]
  },
  {
   "cell_type": "code",
   "execution_count": null,
   "metadata": {},
   "outputs": [],
   "source": [
    "str1 = \"I like nonsense, it wakes up the brain cells. Fantasy is a necessary ingredient in living.\""
   ]
  },
  {
   "cell_type": "markdown",
   "metadata": {},
   "source": [
    "#### Create a list of numbers 0 through 40 and assign this list to the variable numbers. Then, accumulate the total of the list’s values and assign that sum to the variable sum1."
   ]
  },
  {
   "cell_type": "code",
   "execution_count": 4,
   "metadata": {},
   "outputs": [
    {
     "name": "stdout",
     "output_type": "stream",
     "text": [
      "41\n"
     ]
    }
   ],
   "source": []
  },
  {
   "cell_type": "markdown",
   "metadata": {},
   "source": [
    "### HomeWork"
   ]
  },
  {
   "cell_type": "markdown",
   "metadata": {},
   "source": [
    "#### Write one for loop to print out each character of the string my_str on a separate line."
   ]
  },
  {
   "cell_type": "code",
   "execution_count": null,
   "metadata": {},
   "outputs": [],
   "source": [
    "my_str = \"Indian Cyber Security\""
   ]
  },
  {
   "cell_type": "markdown",
   "metadata": {},
   "source": [
    "#### Write code that uses iteration to print out the length of each element of the list stored in str_list."
   ]
  },
  {
   "cell_type": "code",
   "execution_count": 2,
   "metadata": {},
   "outputs": [
    {
     "name": "stdout",
     "output_type": "stream",
     "text": [
      "5\n",
      "0\n",
      "7\n",
      "9\n",
      "13\n"
     ]
    }
   ],
   "source": [
    "str_list = [\"hello\", \"\", \"goodbye\", \"wonderful\", \"I love Python\"]\n",
    "for i in str_list:\n",
    "    print(len(i))"
   ]
  },
  {
   "cell_type": "markdown",
   "metadata": {},
   "source": [
    "##### Write code to create a list of word lengths for the words in original_str using the accumulation pattern and assign the answer to a variable num_words_list. (You should use the len function)."
   ]
  },
  {
   "cell_type": "code",
   "execution_count": 7,
   "metadata": {},
   "outputs": [
    {
     "name": "stdout",
     "output_type": "stream",
     "text": [
      "3\n",
      "5\n",
      "5\n",
      "5\n",
      "6\n",
      "4\n",
      "3\n",
      "9\n",
      "4\n",
      "3\n",
      "[3, 5, 5, 5, 6, 4, 3, 9, 4, 3]\n"
     ]
    }
   ],
   "source": [
    "original_str = \"The quick brown rhino jumped over the extremely lazy fox\"\n",
    "ls = []\n",
    "original_lis= original_str.split()\n",
    "for i in original_lis:\n",
    "    print(len(i))    \n",
    "    ls.append(len(i))\n",
    "print(ls)"
   ]
  },
  {
   "cell_type": "code",
   "execution_count": 4,
   "metadata": {},
   "outputs": [
    {
     "data": {
      "text/plain": [
       "['The',\n",
       " 'quick',\n",
       " 'brown',\n",
       " 'rhino',\n",
       " 'jumped',\n",
       " 'over',\n",
       " 'the',\n",
       " 'extremely',\n",
       " 'lazy',\n",
       " 'fox']"
      ]
     },
     "execution_count": 4,
     "metadata": {},
     "output_type": "execute_result"
    }
   ],
   "source": [
    "original_lis"
   ]
  },
  {
   "cell_type": "code",
   "execution_count": 3,
   "metadata": {},
   "outputs": [
    {
     "name": "stdout",
     "output_type": "stream",
     "text": [
      "3 7\n",
      "--.|.--\n",
      "WELCOME\n",
      "--.|.--\n"
     ]
    }
   ],
   "source": [
    "N, M = map(int, input().split())\n",
    "for i in range(1,N,2): \n",
    "    print (('.|.'*i).center(M,'-'))\n",
    "print (\"WELCOME\".center(M,'-'))\n",
    "for i in range(N-2,-1,-2): \n",
    "    print (('.|.'*i).center(M,'-'))"
   ]
  },
  {
   "cell_type": "code",
   "execution_count": 3,
   "metadata": {},
   "outputs": [
    {
     "name": "stdout",
     "output_type": "stream",
     "text": [
      "From stephen.marquard@uct.ac.za Sat Jan  5 09:14:16 2008\n",
      "\n",
      "Return-Path: <postmaster@collab.sakaiproject.org>\n",
      "\n",
      "Received: from murder (mail.umich.edu [141.211.14.90])\n",
      "\n",
      "\t by frankenstein.mail.umich.edu (Cyrus v2.3.8) with LMTPA;\n",
      "\n",
      "\t Sat, 05 Jan 2008 09:14:16 -0500\n",
      "\n",
      "X-Sieve: CMU Sieve 2.3\n",
      "\n",
      "Received: from murder ([unix socket])\n",
      "\n",
      "\t by mail.umich.edu (Cyrus v2.2.12) with LMTPA;\n",
      "\n",
      "\t Sat, 05 Jan 2008 09:14:16 -0500\n",
      "\n",
      "Received: from holes.mr.itd.umich.edu (holes.mr.itd.umich.edu [141.211.14.79])\n",
      "\n",
      "\tby flawless.mail.umich.edu () with ESMTP id m05EEFR1013674;\n",
      "\n",
      "\tSat, 5 Jan 2008 09:14:15 -0500\n",
      "\n",
      "Received: FROM paploo.uhi.ac.uk (app1.prod.collab.uhi.ac.uk [194.35.219.184])\n",
      "\n",
      "\tBY holes.mr.itd.umich.edu ID 477F90B0.2DB2F.12494 ; \n",
      "\n",
      "\t 5 Jan 2008 09:14:10 -0500\n",
      "\n",
      "Received: from paploo.uhi.ac.uk (localhost [127.0.0.1])\n",
      "\n",
      "\tby paploo.uhi.ac.uk (Postfix) with ESMTP id 5F919BC2F2;\n",
      "\n",
      "\tSat,  5 Jan 2008 14:10:05 +0000 (GMT)\n",
      "\n",
      "Message-ID: <200801051412.m05ECIaH010327@nakamura.uits.iupui.edu>\n",
      "\n",
      "Mime-Version: 1.0\n",
      "\n",
      "Content-Transfer-Encoding: 7bit\n",
      "\n",
      "Received: from prod.collab.uhi.ac.uk ([194.35.219.182])\n",
      "\n",
      "          by paploo.uhi.ac.uk (JAMES SMTP Server 2.1.3) with SMTP ID 899\n",
      "\n",
      "          for <source@collab.sakaiproject.org>;\n",
      "\n",
      "          Sat, 5 Jan 2008 14:09:50 +0000 (GMT)\n",
      "\n",
      "Received: from nakamura.uits.iupui.edu (nakamura.uits.iupui.edu [134.68.220.122])\n",
      "\n",
      "\tby shmi.uhi.ac.uk (Postfix) with ESMTP id A215243002\n",
      "\n",
      "\tfor <source@collab.sakaiproject.org>; Sat,  5 Jan 2008 14:13:33 +0000 (GMT)\n",
      "\n",
      "Received: from nakamura.uits.iupui.edu (localhost [127.0.0.1])\n",
      "\n",
      "\tby nakamura.uits.iupui.edu (8.12.11.20060308/8.12.11) with ESMTP id m05ECJVp010329\n",
      "\n",
      "\tfor <source@collab.sakaiproject.org>; Sat, 5 Jan 2008 09:12:19 -0500\n",
      "\n",
      "Received: (from apache@localhost)\n",
      "\n",
      "\tby nakamura.uits.iupui.edu (8.12.11.20060308/8.12.11/Submit) id m05ECIaH010327\n",
      "\n",
      "\tfor source@collab.sakaiproject.org; Sat, 5 Jan 2008 09:12:18 -0500\n",
      "\n",
      "Date: Sat, 5 Jan 2008 09:12:18 -0500\n",
      "\n",
      "X-Authentication-Warning: nakamura.uits.iupui.edu: apache set sender to stephen.marquard@uct.ac.za using -f\n",
      "\n",
      "To: source@collab.sakaiproject.org\n",
      "\n",
      "From: stephen.marquard@uct.ac.za\n",
      "\n",
      "Subject: [sakai] svn commit: r39772 - content/branches/sakai_2-5-x/content-impl/impl/src/java/org/sakaiproject/content/impl\n",
      "\n",
      "X-Content-Type-Outer-Envelope: text/plain; charset=UTF-8\n",
      "\n",
      "X-Content-Type-Message-Body: text/plain; charset=UTF-8\n",
      "\n",
      "Content-Type: text/plain; charset=UTF-8\n",
      "\n",
      "X-DSPAM-Result: Innocent\n",
      "\n",
      "X-DSPAM-Processed: Sat Jan  5 09:14:16 2008\n",
      "\n",
      "X-DSPAM-Confidence: 0.8475\n",
      "\n",
      "X-DSPAM-Probability: 0.0000\n",
      "\n",
      "\n",
      "\n",
      "Details: http://source.sakaiproject.org/viewsvn/?view=rev&rev=39772\n",
      "\n",
      "\n",
      "\n",
      "Author: stephen.marquard@uct.ac.za\n",
      "\n",
      "Date: 2008-01-05 09:12:07 -0500 (Sat, 05 Jan 2008)\n",
      "\n",
      "New Revision: 39772\n",
      "\n",
      "\n",
      "\n",
      "Modified:\n",
      "\n",
      "content/branches/sakai_2-5-x/content-impl/impl/src/java/org/sakaiproject/content/impl/ContentServiceSqlOracle.java\n",
      "\n",
      "content/branches/sakai_2-5-x/content-impl/impl/src/java/org/sakaiproject/content/impl/DbContentService.java\n",
      "\n",
      "Log:\n",
      "\n",
      "SAK-12501 merge to 2-5-x: r39622, r39624:5, r39632:3 (resolve conflict from differing linebreaks for r39622)\n",
      "\n",
      "\n",
      "\n",
      "----------------------\n",
      "\n",
      "This automatic notification message was sent by Sakai Collab (https://collab.sakaiproject.org/portal) from the Source site.\n",
      "\n",
      "You can modify how you receive notifications at My Workspace > Preferences.\n",
      "\n",
      "\n",
      "\n",
      "\n",
      "\n",
      "\n",
      "\n",
      "From louis@media.berkeley.edu Fri Jan  4 18:10:48 2008\n",
      "\n",
      "Return-Path: <postmaster@collab.sakaiproject.org>\n",
      "\n",
      "Received: from murder (mail.umich.edu [141.211.14.97])\n",
      "\n",
      "\t by frankenstein.mail.umich.edu (Cyrus v2.3.8) with LMTPA;\n",
      "\n",
      "\t Fri, 04 Jan 2008 18:10:48 -0500\n",
      "\n",
      "X-Sieve: CMU Sieve 2.3\n",
      "\n",
      "Received: from murder ([unix socket])\n",
      "\n",
      "\t by mail.umich.edu (Cyrus v2.2.12) with LMTPA;\n",
      "\n",
      "\t Fri, 04 Jan 2008 18:10:48 -0500\n",
      "\n",
      "Received: from icestorm.mr.itd.umich.edu (icestorm.mr.itd.umich.edu [141.211.93.149])\n",
      "\n",
      "\tby sleepers.mail.umich.edu () with ESMTP id m04NAbGa029441;\n",
      "\n",
      "\tFri, 4 Jan 2008 18:10:37 -0500\n",
      "\n",
      "Received: FROM paploo.uhi.ac.uk (app1.prod.collab.uhi.ac.uk [194.35.219.184])\n",
      "\n",
      "\tBY icestorm.mr.itd.umich.edu ID 477EBCE3.161BB.4320 ; \n",
      "\n",
      "\t 4 Jan 2008 18:10:31 -0500\n",
      "\n",
      "Received: from paploo.uhi.ac.uk (localhost [127.0.0.1])\n",
      "\n",
      "\tby paploo.uhi.ac.uk (Postfix) with ESMTP id 07969BB706;\n",
      "\n",
      "\tFri,  4 Jan 2008 23:10:33 +0000 (GMT)\n",
      "\n",
      "Message-ID: <200801042308.m04N8v6O008125@nakamura.uits.iupui.edu>\n",
      "\n",
      "Mime-Version: 1.0\n",
      "\n",
      "Content-Transfer-Encoding: 7bit\n",
      "\n",
      "Received: from prod.collab.uhi.ac.uk ([194.35.219.182])\n",
      "\n",
      "          by paploo.uhi.ac.uk (JAMES SMTP Server 2.1.3) with SMTP ID 710\n",
      "\n",
      "          for <source@collab.sakaiproject.org>;\n",
      "\n",
      "          Fri, 4 Jan 2008 23:10:10 +0000 (GMT)\n",
      "\n",
      "Received: from nakamura.uits.iupui.edu (nakamura.uits.iupui.edu [134.68.220.122])\n",
      "\n",
      "\tby shmi.uhi.ac.uk (Postfix) with ESMTP id 4BA2F42F57\n",
      "\n",
      "\tfor <source@collab.sakaiproject.org>; Fri,  4 Jan 2008 23:10:10 +0000 (GMT)\n",
      "\n",
      "Received: from nakamura.uits.iupui.edu (localhost [127.0.0.1])\n",
      "\n",
      "\tby nakamura.uits.iupui.edu (8.12.11.20060308/8.12.11) with ESMTP id m04N8vHG008127\n",
      "\n",
      "\tfor <source@collab.sakaiproject.org>; Fri, 4 Jan 2008 18:08:57 -0500\n",
      "\n",
      "Received: (from apache@localhost)\n",
      "\n",
      "\tby nakamura.uits.iupui.edu (8.12.11.20060308/8.12.11/Submit) id m04N8v6O008125\n",
      "\n",
      "\tfor source@collab.sakaiproject.org; Fri, 4 Jan 2008 18:08:57 -0500\n",
      "\n",
      "Date: Fri, 4 Jan 2008 18:08:57 -0500\n",
      "\n",
      "X-Authentication-Warning: nakamura.uits.iupui.edu: apache set sender to louis@media.berkeley.edu using -f\n",
      "\n",
      "To: source@collab.sakaiproject.org\n",
      "\n",
      "From: louis@media.berkeley.edu\n",
      "\n",
      "Subject: [sakai] svn commit: r39771 - in bspace/site-manage/sakai_2-4-x/site-manage-tool/tool/src: bundle java/org/sakaiproject/site/tool\n",
      "\n",
      "X-Content-Type-Outer-Envelope: text/plain; charset=UTF-8\n",
      "\n",
      "X-Content-Type-Message-Body: text/plain; charset=UTF-8\n",
      "\n",
      "Content-Type: text/plain; charset=UTF-8\n",
      "\n",
      "X-DSPAM-Result: Innocent\n",
      "\n",
      "X-DSPAM-Processed: Fri Jan  4 18:10:48 2008\n",
      "\n",
      "X-DSPAM-Confidence: 0.6178\n",
      "\n",
      "X-DSPAM-Probability: 0.0000\n",
      "\n",
      "\n",
      "\n",
      "Details: http://source.sakaiproject.org/viewsvn/?view=rev&rev=39771\n",
      "\n",
      "\n",
      "\n",
      "Author: louis@media.berkeley.edu\n",
      "\n",
      "Date: 2008-01-04 18:08:50 -0500 (Fri, 04 Jan 2008)\n",
      "\n",
      "New Revision: 39771\n",
      "\n",
      "\n",
      "\n",
      "Modified:\n",
      "\n",
      "bspace/site-manage/sakai_2-4-x/site-manage-tool/tool/src/bundle/sitesetupgeneric.properties\n",
      "\n",
      "bspace/site-manage/sakai_2-4-x/site-manage-tool/tool/src/java/org/sakaiproject/site/tool/SiteAction.java\n",
      "\n",
      "Log:\n",
      "\n",
      "BSP-1415 New (Guest) user Notification\n",
      "\n",
      "\n",
      "\n",
      "----------------------\n",
      "\n",
      "This automatic notification message was sent by Sakai Collab (https://collab.sakaiproject.org/portal) from the Source site.\n",
      "\n",
      "You can modify how you receive notifications at My Workspace > Preferences.\n",
      "\n",
      "\n",
      "\n",
      "\n",
      "\n",
      "\n",
      "\n",
      "From zqian@umich.edu Fri Jan  4 16:10:39 2008\n",
      "\n",
      "Return-Path: <postmaster@collab.sakaiproject.org>\n",
      "\n",
      "Received: from murder (mail.umich.edu [141.211.14.25])\n",
      "\n",
      "\t by frankenstein.mail.umich.edu (Cyrus v2.3.8) with LMTPA;\n",
      "\n",
      "\t Fri, 04 Jan 2008 16:10:39 -0500\n",
      "\n",
      "X-Sieve: CMU Sieve 2.3\n",
      "\n",
      "Received: from murder ([unix socket])\n",
      "\n",
      "\t by mail.umich.edu (Cyrus v2.2.12) with LMTPA;\n",
      "\n",
      "\t Fri, 04 Jan 2008 16:10:39 -0500\n",
      "\n",
      "Received: from ghostbusters.mr.itd.umich.edu (ghostbusters.mr.itd.umich.edu [141.211.93.144])\n",
      "\n",
      "\tby panther.mail.umich.edu () with ESMTP id m04LAcZw014275;\n",
      "\n",
      "\tFri, 4 Jan 2008 16:10:38 -0500\n",
      "\n",
      "Received: FROM paploo.uhi.ac.uk (app1.prod.collab.uhi.ac.uk [194.35.219.184])\n",
      "\n",
      "\tBY ghostbusters.mr.itd.umich.edu ID 477EA0C6.A0214.25480 ; \n",
      "\n",
      "\t 4 Jan 2008 16:10:33 -0500\n",
      "\n",
      "Received: from paploo.uhi.ac.uk (localhost [127.0.0.1])\n",
      "\n",
      "\tby paploo.uhi.ac.uk (Postfix) with ESMTP id C48CDBB490;\n",
      "\n",
      "\tFri,  4 Jan 2008 21:10:31 +0000 (GMT)\n",
      "\n",
      "Message-ID: <200801042109.m04L92hb007923@nakamura.uits.iupui.edu>\n",
      "\n",
      "Mime-Version: 1.0\n",
      "\n",
      "Content-Transfer-Encoding: 7bit\n",
      "\n",
      "Received: from prod.collab.uhi.ac.uk ([194.35.219.182])\n",
      "\n",
      "          by paploo.uhi.ac.uk (JAMES SMTP Server 2.1.3) with SMTP ID 906\n",
      "\n",
      "          for <source@collab.sakaiproject.org>;\n",
      "\n",
      "          Fri, 4 Jan 2008 21:10:18 +0000 (GMT)\n",
      "\n",
      "Received: from nakamura.uits.iupui.edu (nakamura.uits.iupui.edu [134.68.220.122])\n",
      "\n",
      "\tby shmi.uhi.ac.uk (Postfix) with ESMTP id 7D13042F71\n",
      "\n",
      "\tfor <source@collab.sakaiproject.org>; Fri,  4 Jan 2008 21:10:14 +0000 (GMT)\n",
      "\n",
      "Received: from nakamura.uits.iupui.edu (localhost [127.0.0.1])\n",
      "\n",
      "\tby nakamura.uits.iupui.edu (8.12.11.20060308/8.12.11) with ESMTP id m04L927E007925\n",
      "\n",
      "\tfor <source@collab.sakaiproject.org>; Fri, 4 Jan 2008 16:09:02 -0500\n",
      "\n",
      "Received: (from apache@localhost)\n",
      "\n",
      "\tby nakamura.uits.iupui.edu (8.12.11.20060308/8.12.11/Submit) id m04L92hb007923\n",
      "\n",
      "\tfor source@collab.sakaiproject.org; Fri, 4 Jan 2008 16:09:02 -0500\n",
      "\n",
      "Date: Fri, 4 Jan 2008 16:09:02 -0500\n",
      "\n",
      "X-Authentication-Warning: nakamura.uits.iupui.edu: apache set sender to zqian@umich.edu using -f\n",
      "\n",
      "To: source@collab.sakaiproject.org\n",
      "\n",
      "From: zqian@umich.edu\n",
      "\n",
      "Subject: [sakai] svn commit: r39770 - site-manage/branches/sakai_2-5-x/site-manage-tool/tool/src/webapp/vm/sitesetup\n",
      "\n",
      "X-Content-Type-Outer-Envelope: text/plain; charset=UTF-8\n",
      "\n",
      "X-Content-Type-Message-Body: text/plain; charset=UTF-8\n",
      "\n",
      "Content-Type: text/plain; charset=UTF-8\n",
      "\n",
      "X-DSPAM-Result: Innocent\n",
      "\n",
      "X-DSPAM-Processed: Fri Jan  4 16:10:39 2008\n",
      "\n",
      "X-DSPAM-Confidence: 0.6961\n",
      "\n",
      "X-DSPAM-Probability: 0.0000\n",
      "\n",
      "\n",
      "\n",
      "Details: http://source.sakaiproject.org/viewsvn/?view=rev&rev=39770\n",
      "\n",
      "\n",
      "\n",
      "Author: zqian@umich.edu\n",
      "\n",
      "Date: 2008-01-04 16:09:01 -0500 (Fri, 04 Jan 2008)\n",
      "\n",
      "New Revision: 39770\n",
      "\n",
      "\n",
      "\n",
      "Modified:\n",
      "\n",
      "site-manage/branches/sakai_2-5-x/site-manage-tool/tool/src/webapp/vm/sitesetup/chef_site-siteInfo-list.vm\n",
      "\n",
      "Log:\n",
      "\n",
      "merge fix to SAK-9996 into 2-5-x branch: svn merge -r 39687:39688 https://source.sakaiproject.org/svn/site-manage/trunk/\n",
      "\n",
      "\n",
      "\n",
      "----------------------\n",
      "\n",
      "This automatic notification message was sent by Sakai Collab (https://collab.sakaiproject.org/portal) from the Source site.\n",
      "\n",
      "You can modify how you receive notifications at My Workspace > Preferences.\n",
      "\n",
      "\n",
      "\n",
      "\n",
      "\n",
      "\n",
      "\n",
      "From rjlowe@iupui.edu Fri Jan  4 15:46:24 2008\n",
      "\n",
      "Return-Path: <postmaster@collab.sakaiproject.org>\n",
      "\n",
      "Received: from murder (mail.umich.edu [141.211.14.25])\n",
      "\n",
      "\t by frankenstein.mail.umich.edu (Cyrus v2.3.8) with LMTPA;\n",
      "\n",
      "\t Fri, 04 Jan 2008 15:46:24 -0500\n",
      "\n",
      "X-Sieve: CMU Sieve 2.3\n",
      "\n",
      "Received: from murder ([unix socket])\n",
      "\n",
      "\t by mail.umich.edu (Cyrus v2.2.12) with LMTPA;\n",
      "\n",
      "\t Fri, 04 Jan 2008 15:46:24 -0500\n",
      "\n",
      "Received: from dreamcatcher.mr.itd.umich.edu (dreamcatcher.mr.itd.umich.edu [141.211.14.43])\n",
      "\n",
      "\tby panther.mail.umich.edu () with ESMTP id m04KkNbx032077;\n",
      "\n",
      "\tFri, 4 Jan 2008 15:46:23 -0500\n",
      "\n",
      "Received: FROM paploo.uhi.ac.uk (app1.prod.collab.uhi.ac.uk [194.35.219.184])\n",
      "\n",
      "\tBY dreamcatcher.mr.itd.umich.edu ID 477E9B13.2F3BC.22965 ; \n",
      "\n",
      "\t 4 Jan 2008 15:46:13 -0500\n",
      "\n",
      "Received: from paploo.uhi.ac.uk (localhost [127.0.0.1])\n",
      "\n",
      "\tby paploo.uhi.ac.uk (Postfix) with ESMTP id 4AE03BB552;\n",
      "\n",
      "\tFri,  4 Jan 2008 20:46:13 +0000 (GMT)\n",
      "\n",
      "Message-ID: <200801042044.m04Kiem3007881@nakamura.uits.iupui.edu>\n",
      "\n",
      "Mime-Version: 1.0\n",
      "\n",
      "Content-Transfer-Encoding: 7bit\n",
      "\n",
      "Received: from prod.collab.uhi.ac.uk ([194.35.219.182])\n",
      "\n",
      "          by paploo.uhi.ac.uk (JAMES SMTP Server 2.1.3) with SMTP ID 38\n",
      "\n",
      "          for <source@collab.sakaiproject.org>;\n",
      "\n",
      "          Fri, 4 Jan 2008 20:45:56 +0000 (GMT)\n",
      "\n",
      "Received: from nakamura.uits.iupui.edu (nakamura.uits.iupui.edu [134.68.220.122])\n",
      "\n",
      "\tby shmi.uhi.ac.uk (Postfix) with ESMTP id A55D242F57\n",
      "\n",
      "\tfor <source@collab.sakaiproject.org>; Fri,  4 Jan 2008 20:45:52 +0000 (GMT)\n",
      "\n",
      "Received: from nakamura.uits.iupui.edu (localhost [127.0.0.1])\n",
      "\n",
      "\tby nakamura.uits.iupui.edu (8.12.11.20060308/8.12.11) with ESMTP id m04KieqE007883\n",
      "\n",
      "\tfor <source@collab.sakaiproject.org>; Fri, 4 Jan 2008 15:44:40 -0500\n",
      "\n",
      "Received: (from apache@localhost)\n",
      "\n",
      "\tby nakamura.uits.iupui.edu (8.12.11.20060308/8.12.11/Submit) id m04Kiem3007881\n",
      "\n",
      "\tfor source@collab.sakaiproject.org; Fri, 4 Jan 2008 15:44:40 -0500\n",
      "\n",
      "Date: Fri, 4 Jan 2008 15:44:40 -0500\n",
      "\n",
      "X-Authentication-Warning: nakamura.uits.iupui.edu: apache set sender to rjlowe@iupui.edu using -f\n",
      "\n",
      "To: source@collab.sakaiproject.org\n",
      "\n",
      "From: rjlowe@iupui.edu\n",
      "\n",
      "Subject: [sakai] svn commit: r39769 - in gradebook/trunk/app/ui/src: java/org/sakaiproject/tool/gradebook/ui/helpers/beans java/org/sakaiproject/tool/gradebook/ui/helpers/producers webapp/WEB-INF webapp/WEB-INF/bundle\n",
      "\n",
      "X-Content-Type-Outer-Envelope: text/plain; charset=UTF-8\n",
      "\n",
      "X-Content-Type-Message-Body: text/plain; charset=UTF-8\n",
      "\n",
      "Content-Type: text/plain; charset=UTF-8\n",
      "\n",
      "X-DSPAM-Result: Innocent\n",
      "\n",
      "X-DSPAM-Processed: Fri Jan  4 15:46:24 2008\n",
      "\n",
      "X-DSPAM-Confidence: 0.7565\n",
      "\n",
      "X-DSPAM-Probability: 0.0000\n",
      "\n",
      "\n",
      "\n",
      "Details: http://source.sakaiproject.org/viewsvn/?view=rev&rev=39769\n",
      "\n",
      "\n",
      "\n",
      "Author: rjlowe@iupui.edu\n",
      "\n",
      "Date: 2008-01-04 15:44:39 -0500 (Fri, 04 Jan 2008)\n",
      "\n",
      "New Revision: 39769\n",
      "\n",
      "\n",
      "\n",
      "Modified:\n",
      "\n",
      "gradebook/trunk/app/ui/src/java/org/sakaiproject/tool/gradebook/ui/helpers/beans/AssignmentGradeRecordBean.java\n",
      "\n",
      "gradebook/trunk/app/ui/src/java/org/sakaiproject/tool/gradebook/ui/helpers/producers/GradeGradebookItemProducer.java\n",
      "\n",
      "gradebook/trunk/app/ui/src/webapp/WEB-INF/applicationContext.xml\n",
      "\n",
      "gradebook/trunk/app/ui/src/webapp/WEB-INF/bundle/messages.properties\n",
      "\n",
      "gradebook/trunk/app/ui/src/webapp/WEB-INF/requestContext.xml\n",
      "\n",
      "Log:\n",
      "\n",
      "SAK-12180 - Fixed errors with grading helper\n",
      "\n",
      "\n",
      "\n",
      "----------------------\n",
      "\n",
      "This automatic notification message was sent by Sakai Collab (https://collab.sakaiproject.org/portal) from the Source site.\n",
      "\n",
      "You can modify how you receive notifications at My Workspace > Preferences.\n",
      "\n",
      "\n",
      "\n",
      "\n",
      "\n",
      "\n",
      "\n",
      "From zqian@umich.edu Fri Jan  4 15:03:18 2008\n",
      "\n",
      "Return-Path: <postmaster@collab.sakaiproject.org>\n",
      "\n",
      "Received: from murder (mail.umich.edu [141.211.14.46])\n",
      "\n",
      "\t by frankenstein.mail.umich.edu (Cyrus v2.3.8) with LMTPA;\n",
      "\n",
      "\t Fri, 04 Jan 2008 15:03:18 -0500\n",
      "\n",
      "X-Sieve: CMU Sieve 2.3\n",
      "\n",
      "Received: from murder ([unix socket])\n",
      "\n",
      "\t by mail.umich.edu (Cyrus v2.2.12) with LMTPA;\n",
      "\n",
      "\t Fri, 04 Jan 2008 15:03:18 -0500\n",
      "\n",
      "Received: from firestarter.mr.itd.umich.edu (firestarter.mr.itd.umich.edu [141.211.14.83])\n",
      "\n",
      "\tby fan.mail.umich.edu () with ESMTP id m04K3HGF006563;\n",
      "\n",
      "\tFri, 4 Jan 2008 15:03:17 -0500\n",
      "\n",
      "Received: FROM paploo.uhi.ac.uk (app1.prod.collab.uhi.ac.uk [194.35.219.184])\n",
      "\n",
      "\tBY firestarter.mr.itd.umich.edu ID 477E9100.8F7F4.1590 ; \n",
      "\n",
      "\t 4 Jan 2008 15:03:15 -0500\n",
      "\n",
      "Received: from paploo.uhi.ac.uk (localhost [127.0.0.1])\n",
      "\n",
      "\tby paploo.uhi.ac.uk (Postfix) with ESMTP id 57770BB477;\n",
      "\n",
      "\tFri,  4 Jan 2008 20:03:09 +0000 (GMT)\n",
      "\n",
      "Message-ID: <200801042001.m04K1cO0007738@nakamura.uits.iupui.edu>\n",
      "\n",
      "Mime-Version: 1.0\n",
      "\n",
      "Content-Transfer-Encoding: 7bit\n",
      "\n",
      "Received: from prod.collab.uhi.ac.uk ([194.35.219.182])\n",
      "\n",
      "          by paploo.uhi.ac.uk (JAMES SMTP Server 2.1.3) with SMTP ID 622\n",
      "\n",
      "          for <source@collab.sakaiproject.org>;\n",
      "\n",
      "          Fri, 4 Jan 2008 20:02:46 +0000 (GMT)\n",
      "\n",
      "Received: from nakamura.uits.iupui.edu (nakamura.uits.iupui.edu [134.68.220.122])\n",
      "\n",
      "\tby shmi.uhi.ac.uk (Postfix) with ESMTP id AB4D042F4D\n",
      "\n",
      "\tfor <source@collab.sakaiproject.org>; Fri,  4 Jan 2008 20:02:50 +0000 (GMT)\n",
      "\n",
      "Received: from nakamura.uits.iupui.edu (localhost [127.0.0.1])\n",
      "\n",
      "\tby nakamura.uits.iupui.edu (8.12.11.20060308/8.12.11) with ESMTP id m04K1cXv007740\n",
      "\n",
      "\tfor <source@collab.sakaiproject.org>; Fri, 4 Jan 2008 15:01:38 -0500\n",
      "\n",
      "Received: (from apache@localhost)\n",
      "\n",
      "\tby nakamura.uits.iupui.edu (8.12.11.20060308/8.12.11/Submit) id m04K1cO0007738\n",
      "\n",
      "\tfor source@collab.sakaiproject.org; Fri, 4 Jan 2008 15:01:38 -0500\n",
      "\n",
      "Date: Fri, 4 Jan 2008 15:01:38 -0500\n",
      "\n",
      "X-Authentication-Warning: nakamura.uits.iupui.edu: apache set sender to zqian@umich.edu using -f\n",
      "\n",
      "To: source@collab.sakaiproject.org\n",
      "\n",
      "From: zqian@umich.edu\n",
      "\n",
      "Subject: [sakai] svn commit: r39766 - site-manage/branches/sakai_2-4-x/site-manage-tool/tool/src/java/org/sakaiproject/site/tool\n",
      "\n",
      "X-Content-Type-Outer-Envelope: text/plain; charset=UTF-8\n",
      "\n",
      "X-Content-Type-Message-Body: text/plain; charset=UTF-8\n",
      "\n",
      "Content-Type: text/plain; charset=UTF-8\n",
      "\n",
      "X-DSPAM-Result: Innocent\n",
      "\n",
      "X-DSPAM-Processed: Fri Jan  4 15:03:18 2008\n",
      "\n",
      "X-DSPAM-Confidence: 0.7626\n",
      "\n",
      "X-DSPAM-Probability: 0.0000\n",
      "\n",
      "\n",
      "\n",
      "Details: http://source.sakaiproject.org/viewsvn/?view=rev&rev=39766\n",
      "\n",
      "\n",
      "\n",
      "Author: zqian@umich.edu\n",
      "\n",
      "Date: 2008-01-04 15:01:37 -0500 (Fri, 04 Jan 2008)\n",
      "\n",
      "New Revision: 39766\n",
      "\n",
      "\n",
      "\n",
      "Modified:\n",
      "\n",
      "site-manage/branches/sakai_2-4-x/site-manage-tool/tool/src/java/org/sakaiproject/site/tool/SiteAction.java\n",
      "\n",
      "Log:\n",
      "\n",
      "merge fix to SAK-10788 into site-manage 2.4.x branch:\n",
      "\n",
      "\n",
      "\n",
      "Sakai Source Repository  \t#38024  \tWed Nov 07 14:54:46 MST 2007  \tzqian@umich.edu  \t Fix to SAK-10788: If a provided id in a couse site is fake or doesn't provide any user information, Site Info appears to be like project site with empty participant list\n",
      "\n",
      "\n",
      "\n",
      "Watch for enrollments object being null and concatenate provider ids when there are more than one.\n",
      "\n",
      "Files Changed\n",
      "\n",
      "MODIFY /site-manage/trunk/site-manage-tool/tool/src/java/org/sakaiproject/site/tool/SiteAction.java \n",
      "\n",
      "\n",
      "\n",
      "\n",
      "\n",
      "\n",
      "\n",
      "\n",
      "\n",
      "----------------------\n",
      "\n",
      "This automatic notification message was sent by Sakai Collab (https://collab.sakaiproject.org/portal) from the Source site.\n",
      "\n",
      "You can modify how you receive notifications at My Workspace > Preferences.\n",
      "\n",
      "\n",
      "\n",
      "\n",
      "\n",
      "\n",
      "\n",
      "From rjlowe@iupui.edu Fri Jan  4 14:50:18 2008\n",
      "\n",
      "Return-Path: <postmaster@collab.sakaiproject.org>\n",
      "\n",
      "Received: from murder (mail.umich.edu [141.211.14.93])\n",
      "\n",
      "\t by frankenstein.mail.umich.edu (Cyrus v2.3.8) with LMTPA;\n",
      "\n",
      "\t Fri, 04 Jan 2008 14:50:18 -0500\n",
      "\n",
      "X-Sieve: CMU Sieve 2.3\n",
      "\n",
      "Received: from murder ([unix socket])\n",
      "\n",
      "\t by mail.umich.edu (Cyrus v2.2.12) with LMTPA;\n",
      "\n",
      "\t Fri, 04 Jan 2008 14:50:18 -0500\n",
      "\n",
      "Received: from eyewitness.mr.itd.umich.edu (eyewitness.mr.itd.umich.edu [141.211.93.142])\n",
      "\n",
      "\tby mission.mail.umich.edu () with ESMTP id m04JoHJi019755;\n",
      "\n",
      "\tFri, 4 Jan 2008 14:50:17 -0500\n",
      "\n",
      "Received: FROM paploo.uhi.ac.uk (app1.prod.collab.uhi.ac.uk [194.35.219.184])\n",
      "\n",
      "\tBY eyewitness.mr.itd.umich.edu ID 477E8DF2.67B91.5278 ; \n",
      "\n",
      "\t 4 Jan 2008 14:50:13 -0500\n",
      "\n",
      "Received: from paploo.uhi.ac.uk (localhost [127.0.0.1])\n",
      "\n",
      "\tby paploo.uhi.ac.uk (Postfix) with ESMTP id 2D1B9BB492;\n",
      "\n",
      "\tFri,  4 Jan 2008 19:47:10 +0000 (GMT)\n",
      "\n",
      "Message-ID: <200801041948.m04JmdwO007705@nakamura.uits.iupui.edu>\n",
      "\n",
      "Mime-Version: 1.0\n",
      "\n",
      "Content-Transfer-Encoding: 7bit\n",
      "\n",
      "Received: from prod.collab.uhi.ac.uk ([194.35.219.182])\n",
      "\n",
      "          by paploo.uhi.ac.uk (JAMES SMTP Server 2.1.3) with SMTP ID 960\n",
      "\n",
      "          for <source@collab.sakaiproject.org>;\n",
      "\n",
      "          Fri, 4 Jan 2008 19:46:50 +0000 (GMT)\n",
      "\n",
      "Received: from nakamura.uits.iupui.edu (nakamura.uits.iupui.edu [134.68.220.122])\n",
      "\n",
      "\tby shmi.uhi.ac.uk (Postfix) with ESMTP id B3E6742F4A\n",
      "\n",
      "\tfor <source@collab.sakaiproject.org>; Fri,  4 Jan 2008 19:49:51 +0000 (GMT)\n",
      "\n",
      "Received: from nakamura.uits.iupui.edu (localhost [127.0.0.1])\n",
      "\n",
      "\tby nakamura.uits.iupui.edu (8.12.11.20060308/8.12.11) with ESMTP id m04JmeV9007707\n",
      "\n",
      "\tfor <source@collab.sakaiproject.org>; Fri, 4 Jan 2008 14:48:40 -0500\n",
      "\n",
      "Received: (from apache@localhost)\n",
      "\n",
      "\tby nakamura.uits.iupui.edu (8.12.11.20060308/8.12.11/Submit) id m04JmdwO007705\n",
      "\n",
      "\tfor source@collab.sakaiproject.org; Fri, 4 Jan 2008 14:48:39 -0500\n",
      "\n",
      "Date: Fri, 4 Jan 2008 14:48:39 -0500\n",
      "\n",
      "X-Authentication-Warning: nakamura.uits.iupui.edu: apache set sender to rjlowe@iupui.edu using -f\n",
      "\n",
      "To: source@collab.sakaiproject.org\n",
      "\n",
      "From: rjlowe@iupui.edu\n",
      "\n",
      "Subject: [sakai] svn commit: r39765 - in gradebook/trunk/app: business/src/java/org/sakaiproject/tool/gradebook/business business/src/java/org/sakaiproject/tool/gradebook/business/impl ui ui/src/java/org/sakaiproject/tool/gradebook/ui/helpers/beans ui/src/java/org/sakaiproject/tool/gradebook/ui/helpers/entity ui/src/java/org/sakaiproject/tool/gradebook/ui/helpers/params ui/src/java/org/sakaiproject/tool/gradebook/ui/helpers/producers ui/src/webapp/WEB-INF ui/src/webapp/WEB-INF/bundle ui/src/webapp/content/templates\n",
      "\n",
      "X-Content-Type-Outer-Envelope: text/plain; charset=UTF-8\n",
      "\n",
      "X-Content-Type-Message-Body: text/plain; charset=UTF-8\n",
      "\n",
      "Content-Type: text/plain; charset=UTF-8\n",
      "\n",
      "X-DSPAM-Result: Innocent\n",
      "\n",
      "X-DSPAM-Processed: Fri Jan  4 14:50:18 2008\n",
      "\n",
      "X-DSPAM-Confidence: 0.7556\n",
      "\n",
      "X-DSPAM-Probability: 0.0000\n",
      "\n",
      "\n",
      "\n",
      "Details: http://source.sakaiproject.org/viewsvn/?view=rev&rev=39765\n",
      "\n",
      "\n",
      "\n",
      "Author: rjlowe@iupui.edu\n",
      "\n",
      "Date: 2008-01-04 14:48:37 -0500 (Fri, 04 Jan 2008)\n",
      "\n",
      "New Revision: 39765\n",
      "\n",
      "\n",
      "\n",
      "Added:\n",
      "\n",
      "gradebook/trunk/app/ui/src/java/org/sakaiproject/tool/gradebook/ui/helpers/beans/AssignmentGradeRecordBean.java\n",
      "\n",
      "gradebook/trunk/app/ui/src/java/org/sakaiproject/tool/gradebook/ui/helpers/beans/AssignmentGradeRecordCreator.java\n",
      "\n",
      "gradebook/trunk/app/ui/src/java/org/sakaiproject/tool/gradebook/ui/helpers/entity/GradebookEntryGradeEntityProvider.java\n",
      "\n",
      "gradebook/trunk/app/ui/src/java/org/sakaiproject/tool/gradebook/ui/helpers/params/GradeGradebookItemViewParams.java\n",
      "\n",
      "gradebook/trunk/app/ui/src/java/org/sakaiproject/tool/gradebook/ui/helpers/producers/GradeGradebookItemProducer.java\n",
      "\n",
      "gradebook/trunk/app/ui/src/webapp/content/templates/grade-gradebook-item.html\n",
      "\n",
      "Modified:\n",
      "\n",
      "gradebook/trunk/app/business/src/java/org/sakaiproject/tool/gradebook/business/GradebookManager.java\n",
      "\n",
      "gradebook/trunk/app/business/src/java/org/sakaiproject/tool/gradebook/business/impl/GradebookManagerHibernateImpl.java\n",
      "\n",
      "gradebook/trunk/app/ui/pom.xml\n",
      "\n",
      "gradebook/trunk/app/ui/src/java/org/sakaiproject/tool/gradebook/ui/helpers/beans/GradebookItemBean.java\n",
      "\n",
      "gradebook/trunk/app/ui/src/java/org/sakaiproject/tool/gradebook/ui/helpers/entity/GradebookEntryEntityProvider.java\n",
      "\n",
      "gradebook/trunk/app/ui/src/java/org/sakaiproject/tool/gradebook/ui/helpers/producers/AddGradebookItemProducer.java\n",
      "\n",
      "gradebook/trunk/app/ui/src/webapp/WEB-INF/applicationContext.xml\n",
      "\n",
      "gradebook/trunk/app/ui/src/webapp/WEB-INF/bundle/messages.properties\n",
      "\n",
      "gradebook/trunk/app/ui/src/webapp/WEB-INF/requestContext.xml\n",
      "\n",
      "Log:\n",
      "\n",
      "SAK-12180 - New helper tool to grade an assignment\n",
      "\n",
      "\n",
      "\n",
      "----------------------\n",
      "\n",
      "This automatic notification message was sent by Sakai Collab (https://collab.sakaiproject.org/portal) from the Source site.\n",
      "\n",
      "You can modify how you receive notifications at My Workspace > Preferences.\n",
      "\n",
      "\n",
      "\n",
      "\n",
      "\n",
      "\n",
      "\n",
      "From cwen@iupui.edu Fri Jan  4 11:37:30 2008\n",
      "\n",
      "Return-Path: <postmaster@collab.sakaiproject.org>\n",
      "\n",
      "Received: from murder (mail.umich.edu [141.211.14.46])\n",
      "\n",
      "\t by frankenstein.mail.umich.edu (Cyrus v2.3.8) with LMTPA;\n",
      "\n",
      "\t Fri, 04 Jan 2008 11:37:30 -0500\n",
      "\n",
      "X-Sieve: CMU Sieve 2.3\n",
      "\n",
      "Received: from murder ([unix socket])\n",
      "\n",
      "\t by mail.umich.edu (Cyrus v2.2.12) with LMTPA;\n",
      "\n",
      "\t Fri, 04 Jan 2008 11:37:30 -0500\n",
      "\n",
      "Received: from tadpole.mr.itd.umich.edu (tadpole.mr.itd.umich.edu [141.211.14.72])\n",
      "\n",
      "\tby fan.mail.umich.edu () with ESMTP id m04GbT9x022078;\n",
      "\n",
      "\tFri, 4 Jan 2008 11:37:29 -0500\n",
      "\n",
      "Received: FROM paploo.uhi.ac.uk (app1.prod.collab.uhi.ac.uk [194.35.219.184])\n",
      "\n",
      "\tBY tadpole.mr.itd.umich.edu ID 477E60B2.82756.9904 ; \n",
      "\n",
      "\t 4 Jan 2008 11:37:09 -0500\n",
      "\n",
      "Received: from paploo.uhi.ac.uk (localhost [127.0.0.1])\n",
      "\n",
      "\tby paploo.uhi.ac.uk (Postfix) with ESMTP id 8D13DBB001;\n",
      "\n",
      "\tFri,  4 Jan 2008 16:37:07 +0000 (GMT)\n",
      "\n",
      "Message-ID: <200801041635.m04GZQGZ007313@nakamura.uits.iupui.edu>\n",
      "\n",
      "Mime-Version: 1.0\n",
      "\n",
      "Content-Transfer-Encoding: 7bit\n",
      "\n",
      "Received: from prod.collab.uhi.ac.uk ([194.35.219.182])\n",
      "\n",
      "          by paploo.uhi.ac.uk (JAMES SMTP Server 2.1.3) with SMTP ID 120\n",
      "\n",
      "          for <source@collab.sakaiproject.org>;\n",
      "\n",
      "          Fri, 4 Jan 2008 16:36:40 +0000 (GMT)\n",
      "\n",
      "Received: from nakamura.uits.iupui.edu (nakamura.uits.iupui.edu [134.68.220.122])\n",
      "\n",
      "\tby shmi.uhi.ac.uk (Postfix) with ESMTP id D430B42E42\n",
      "\n",
      "\tfor <source@collab.sakaiproject.org>; Fri,  4 Jan 2008 16:36:37 +0000 (GMT)\n",
      "\n",
      "Received: from nakamura.uits.iupui.edu (localhost [127.0.0.1])\n",
      "\n",
      "\tby nakamura.uits.iupui.edu (8.12.11.20060308/8.12.11) with ESMTP id m04GZQ7W007315\n",
      "\n",
      "\tfor <source@collab.sakaiproject.org>; Fri, 4 Jan 2008 11:35:26 -0500\n",
      "\n",
      "Received: (from apache@localhost)\n",
      "\n",
      "\tby nakamura.uits.iupui.edu (8.12.11.20060308/8.12.11/Submit) id m04GZQGZ007313\n",
      "\n",
      "\tfor source@collab.sakaiproject.org; Fri, 4 Jan 2008 11:35:26 -0500\n",
      "\n",
      "Date: Fri, 4 Jan 2008 11:35:26 -0500\n",
      "\n",
      "X-Authentication-Warning: nakamura.uits.iupui.edu: apache set sender to cwen@iupui.edu using -f\n",
      "\n",
      "To: source@collab.sakaiproject.org\n",
      "\n",
      "From: cwen@iupui.edu\n",
      "\n",
      "Subject: [sakai] svn commit: r39764 - in msgcntr/trunk/messageforums-app/src/java/org/sakaiproject/tool/messageforums: . ui\n",
      "\n",
      "X-Content-Type-Outer-Envelope: text/plain; charset=UTF-8\n",
      "\n",
      "X-Content-Type-Message-Body: text/plain; charset=UTF-8\n",
      "\n",
      "Content-Type: text/plain; charset=UTF-8\n",
      "\n",
      "X-DSPAM-Result: Innocent\n",
      "\n",
      "X-DSPAM-Processed: Fri Jan  4 11:37:30 2008\n",
      "\n",
      "X-DSPAM-Confidence: 0.7002\n",
      "\n",
      "X-DSPAM-Probability: 0.0000\n",
      "\n",
      "\n",
      "\n",
      "Details: http://source.sakaiproject.org/viewsvn/?view=rev&rev=39764\n",
      "\n",
      "\n",
      "\n",
      "Author: cwen@iupui.edu\n",
      "\n",
      "Date: 2008-01-04 11:35:25 -0500 (Fri, 04 Jan 2008)\n",
      "\n",
      "New Revision: 39764\n",
      "\n",
      "\n",
      "\n",
      "Modified:\n",
      "\n",
      "msgcntr/trunk/messageforums-app/src/java/org/sakaiproject/tool/messageforums/PrivateMessagesTool.java\n",
      "\n",
      "msgcntr/trunk/messageforums-app/src/java/org/sakaiproject/tool/messageforums/ui/PrivateMessageDecoratedBean.java\n",
      "\n",
      "Log:\n",
      "\n",
      "unmerge Xingtang's checkin for SAK-12488.\n",
      "\n",
      "\n",
      "\n",
      "svn merge -r39558:39557 https://source.sakaiproject.org/svn/msgcntr/trunk\n",
      "\n",
      "U    messageforums-app/src/java/org/sakaiproject/tool/messageforums/PrivateMessagesTool.java\n",
      "\n",
      "U    messageforums-app/src/java/org/sakaiproject/tool/messageforums/ui/PrivateMessageDecoratedBean.java\n",
      "\n",
      "\n",
      "\n",
      "svn log -r 39558\n",
      "\n",
      "------------------------------------------------------------------------\n",
      "\n",
      "r39558 | hu2@iupui.edu | 2007-12-20 15:25:38 -0500 (Thu, 20 Dec 2007) | 3 lines\n",
      "\n",
      "\n",
      "\n",
      "SAK-12488\n",
      "\n",
      "when send a message to yourself. click reply to all, cc row should be null.\n",
      "\n",
      "http://jira.sakaiproject.org/jira/browse/SAK-12488\n",
      "\n",
      "------------------------------------------------------------------------\n",
      "\n",
      "\n",
      "\n",
      "\n",
      "\n",
      "----------------------\n",
      "\n",
      "This automatic notification message was sent by Sakai Collab (https://collab.sakaiproject.org/portal) from the Source site.\n",
      "\n",
      "You can modify how you receive notifications at My Workspace > Preferences.\n",
      "\n",
      "\n",
      "\n",
      "\n",
      "\n",
      "\n",
      "\n",
      "From cwen@iupui.edu Fri Jan  4 11:35:08 2008\n",
      "\n",
      "Return-Path: <postmaster@collab.sakaiproject.org>\n",
      "\n",
      "Received: from murder (mail.umich.edu [141.211.14.46])\n",
      "\n",
      "\t by frankenstein.mail.umich.edu (Cyrus v2.3.8) with LMTPA;\n",
      "\n",
      "\t Fri, 04 Jan 2008 11:35:08 -0500\n",
      "\n",
      "X-Sieve: CMU Sieve 2.3\n",
      "\n",
      "Received: from murder ([unix socket])\n",
      "\n",
      "\t by mail.umich.edu (Cyrus v2.2.12) with LMTPA;\n",
      "\n",
      "\t Fri, 04 Jan 2008 11:35:08 -0500\n",
      "\n",
      "Received: from it.mr.itd.umich.edu (it.mr.itd.umich.edu [141.211.93.151])\n",
      "\n",
      "\tby fan.mail.umich.edu () with ESMTP id m04GZ6lt020480;\n",
      "\n",
      "\tFri, 4 Jan 2008 11:35:06 -0500\n",
      "\n",
      "Received: FROM paploo.uhi.ac.uk (app1.prod.collab.uhi.ac.uk [194.35.219.184])\n",
      "\n",
      "\tBY it.mr.itd.umich.edu ID 477E6033.6469D.21870 ; \n",
      "\n",
      "\t 4 Jan 2008 11:35:02 -0500\n",
      "\n",
      "Received: from paploo.uhi.ac.uk (localhost [127.0.0.1])\n",
      "\n",
      "\tby paploo.uhi.ac.uk (Postfix) with ESMTP id E40FABAE5B;\n",
      "\n",
      "\tFri,  4 Jan 2008 16:34:38 +0000 (GMT)\n",
      "\n",
      "Message-ID: <200801041633.m04GX6eG007292@nakamura.uits.iupui.edu>\n",
      "\n",
      "Mime-Version: 1.0\n",
      "\n",
      "Content-Transfer-Encoding: 7bit\n",
      "\n",
      "Received: from prod.collab.uhi.ac.uk ([194.35.219.182])\n",
      "\n",
      "          by paploo.uhi.ac.uk (JAMES SMTP Server 2.1.3) with SMTP ID 697\n",
      "\n",
      "          for <source@collab.sakaiproject.org>;\n",
      "\n",
      "          Fri, 4 Jan 2008 16:34:01 +0000 (GMT)\n",
      "\n",
      "Received: from nakamura.uits.iupui.edu (nakamura.uits.iupui.edu [134.68.220.122])\n",
      "\n",
      "\tby shmi.uhi.ac.uk (Postfix) with ESMTP id 1CD0C42E42\n",
      "\n",
      "\tfor <source@collab.sakaiproject.org>; Fri,  4 Jan 2008 16:34:17 +0000 (GMT)\n",
      "\n",
      "Received: from nakamura.uits.iupui.edu (localhost [127.0.0.1])\n",
      "\n",
      "\tby nakamura.uits.iupui.edu (8.12.11.20060308/8.12.11) with ESMTP id m04GX6Y3007294\n",
      "\n",
      "\tfor <source@collab.sakaiproject.org>; Fri, 4 Jan 2008 11:33:06 -0500\n",
      "\n",
      "Received: (from apache@localhost)\n",
      "\n",
      "\tby nakamura.uits.iupui.edu (8.12.11.20060308/8.12.11/Submit) id m04GX6eG007292\n",
      "\n",
      "\tfor source@collab.sakaiproject.org; Fri, 4 Jan 2008 11:33:06 -0500\n",
      "\n",
      "Date: Fri, 4 Jan 2008 11:33:06 -0500\n",
      "\n",
      "X-Authentication-Warning: nakamura.uits.iupui.edu: apache set sender to cwen@iupui.edu using -f\n",
      "\n",
      "To: source@collab.sakaiproject.org\n",
      "\n",
      "From: cwen@iupui.edu\n",
      "\n",
      "Subject: [sakai] svn commit: r39763 - in msgcntr/trunk: messageforums-api/src/bundle/org/sakaiproject/api/app/messagecenter/bundle messageforums-app/src/java/org/sakaiproject/tool/messageforums\n",
      "\n",
      "X-Content-Type-Outer-Envelope: text/plain; charset=UTF-8\n",
      "\n",
      "X-Content-Type-Message-Body: text/plain; charset=UTF-8\n",
      "\n",
      "Content-Type: text/plain; charset=UTF-8\n",
      "\n",
      "X-DSPAM-Result: Innocent\n",
      "\n",
      "X-DSPAM-Processed: Fri Jan  4 11:35:08 2008\n",
      "\n",
      "X-DSPAM-Confidence: 0.7615\n",
      "\n",
      "X-DSPAM-Probability: 0.0000\n",
      "\n",
      "\n",
      "\n",
      "Details: http://source.sakaiproject.org/viewsvn/?view=rev&rev=39763\n",
      "\n",
      "\n",
      "\n",
      "Author: cwen@iupui.edu\n",
      "\n",
      "Date: 2008-01-04 11:33:05 -0500 (Fri, 04 Jan 2008)\n",
      "\n",
      "New Revision: 39763\n",
      "\n",
      "\n",
      "\n",
      "Modified:\n",
      "\n",
      "msgcntr/trunk/messageforums-api/src/bundle/org/sakaiproject/api/app/messagecenter/bundle/Messages.properties\n",
      "\n",
      "msgcntr/trunk/messageforums-app/src/java/org/sakaiproject/tool/messageforums/PrivateMessagesTool.java\n",
      "\n",
      "Log:\n",
      "\n",
      "unmerge Xingtang's check in for SAK-12484.\n",
      "\n",
      "\n",
      "\n",
      "svn merge -r39571:39570 https://source.sakaiproject.org/svn/msgcntr/trunk\n",
      "\n",
      "U    messageforums-api/src/bundle/org/sakaiproject/api/app/messagecenter/bundle/Messages.properties\n",
      "\n",
      "U    messageforums-app/src/java/org/sakaiproject/tool/messageforums/PrivateMessagesTool.java\n",
      "\n",
      "\n",
      "\n",
      "svn log -r 39571\n",
      "\n",
      "------------------------------------------------------------------------\n",
      "\n",
      "r39571 | hu2@iupui.edu | 2007-12-20 21:26:28 -0500 (Thu, 20 Dec 2007) | 3 lines\n",
      "\n",
      "\n",
      "\n",
      "SAK-12484\n",
      "\n",
      "reply all cc list should not include the current user name.\n",
      "\n",
      "http://jira.sakaiproject.org/jira/browse/SAK-12484\n",
      "\n",
      "------------------------------------------------------------------------\n",
      "\n",
      "\n",
      "\n",
      "\n",
      "\n",
      "----------------------\n",
      "\n",
      "This automatic notification message was sent by Sakai Collab (https://collab.sakaiproject.org/portal) from the Source site.\n",
      "\n",
      "You can modify how you receive notifications at My Workspace > Preferences.\n",
      "\n",
      "\n",
      "\n",
      "\n",
      "\n",
      "\n",
      "\n",
      "From gsilver@umich.edu Fri Jan  4 11:12:37 2008\n",
      "\n",
      "Return-Path: <postmaster@collab.sakaiproject.org>\n",
      "\n",
      "Received: from murder (mail.umich.edu [141.211.14.25])\n",
      "\n",
      "\t by frankenstein.mail.umich.edu (Cyrus v2.3.8) with LMTPA;\n",
      "\n",
      "\t Fri, 04 Jan 2008 11:12:37 -0500\n",
      "\n",
      "X-Sieve: CMU Sieve 2.3\n",
      "\n",
      "Received: from murder ([unix socket])\n",
      "\n",
      "\t by mail.umich.edu (Cyrus v2.2.12) with LMTPA;\n",
      "\n",
      "\t Fri, 04 Jan 2008 11:12:37 -0500\n",
      "\n",
      "Received: from holes.mr.itd.umich.edu (holes.mr.itd.umich.edu [141.211.14.79])\n",
      "\n",
      "\tby panther.mail.umich.edu () with ESMTP id m04GCaHB030887;\n",
      "\n",
      "\tFri, 4 Jan 2008 11:12:36 -0500\n",
      "\n",
      "Received: FROM paploo.uhi.ac.uk (app1.prod.collab.uhi.ac.uk [194.35.219.184])\n",
      "\n",
      "\tBY holes.mr.itd.umich.edu ID 477E5AEB.E670B.28397 ; \n",
      "\n",
      "\t 4 Jan 2008 11:12:30 -0500\n",
      "\n",
      "Received: from paploo.uhi.ac.uk (localhost [127.0.0.1])\n",
      "\n",
      "\tby paploo.uhi.ac.uk (Postfix) with ESMTP id 99715BAE7D;\n",
      "\n",
      "\tFri,  4 Jan 2008 16:12:27 +0000 (GMT)\n",
      "\n",
      "Message-ID: <200801041611.m04GB1Lb007221@nakamura.uits.iupui.edu>\n",
      "\n",
      "Mime-Version: 1.0\n",
      "\n",
      "Content-Transfer-Encoding: 7bit\n",
      "\n",
      "Received: from prod.collab.uhi.ac.uk ([194.35.219.182])\n",
      "\n",
      "          by paploo.uhi.ac.uk (JAMES SMTP Server 2.1.3) with SMTP ID 272\n",
      "\n",
      "          for <source@collab.sakaiproject.org>;\n",
      "\n",
      "          Fri, 4 Jan 2008 16:12:14 +0000 (GMT)\n",
      "\n",
      "Received: from nakamura.uits.iupui.edu (nakamura.uits.iupui.edu [134.68.220.122])\n",
      "\n",
      "\tby shmi.uhi.ac.uk (Postfix) with ESMTP id 0A6ED42DFC\n",
      "\n",
      "\tfor <source@collab.sakaiproject.org>; Fri,  4 Jan 2008 16:12:12 +0000 (GMT)\n",
      "\n",
      "Received: from nakamura.uits.iupui.edu (localhost [127.0.0.1])\n",
      "\n",
      "\tby nakamura.uits.iupui.edu (8.12.11.20060308/8.12.11) with ESMTP id m04GB1Wt007223\n",
      "\n",
      "\tfor <source@collab.sakaiproject.org>; Fri, 4 Jan 2008 11:11:01 -0500\n",
      "\n",
      "Received: (from apache@localhost)\n",
      "\n",
      "\tby nakamura.uits.iupui.edu (8.12.11.20060308/8.12.11/Submit) id m04GB1Lb007221\n",
      "\n",
      "\tfor source@collab.sakaiproject.org; Fri, 4 Jan 2008 11:11:01 -0500\n",
      "\n",
      "Date: Fri, 4 Jan 2008 11:11:01 -0500\n",
      "\n",
      "X-Authentication-Warning: nakamura.uits.iupui.edu: apache set sender to gsilver@umich.edu using -f\n",
      "\n",
      "To: source@collab.sakaiproject.org\n",
      "\n",
      "From: gsilver@umich.edu\n",
      "\n",
      "Subject: [sakai] svn commit: r39762 - web/trunk/web-tool/tool/src/bundle\n",
      "\n",
      "X-Content-Type-Outer-Envelope: text/plain; charset=UTF-8\n",
      "\n",
      "X-Content-Type-Message-Body: text/plain; charset=UTF-8\n",
      "\n",
      "Content-Type: text/plain; charset=UTF-8\n",
      "\n",
      "X-DSPAM-Result: Innocent\n",
      "\n",
      "X-DSPAM-Processed: Fri Jan  4 11:12:37 2008\n",
      "\n",
      "X-DSPAM-Confidence: 0.7601\n",
      "\n",
      "X-DSPAM-Probability: 0.0000\n",
      "\n",
      "\n",
      "\n",
      "Details: http://source.sakaiproject.org/viewsvn/?view=rev&rev=39762\n",
      "\n",
      "\n",
      "\n",
      "Author: gsilver@umich.edu\n",
      "\n",
      "Date: 2008-01-04 11:11:00 -0500 (Fri, 04 Jan 2008)\n",
      "\n",
      "New Revision: 39762\n",
      "\n",
      "\n",
      "\n",
      "Modified:\n",
      "\n",
      "web/trunk/web-tool/tool/src/bundle/iframe.properties\n",
      "\n",
      "Log:\n",
      "\n",
      "SAK-12596\n",
      "\n",
      "http://bugs.sakaiproject.org/jira/browse/SAK-12596\n",
      "\n",
      "- left moot (unused) entries commented for now\n",
      "\n",
      "\n",
      "\n",
      "----------------------\n",
      "\n",
      "This automatic notification message was sent by Sakai Collab (https://collab.sakaiproject.org/portal) from the Source site.\n",
      "\n",
      "You can modify how you receive notifications at My Workspace > Preferences.\n",
      "\n",
      "\n",
      "\n",
      "\n",
      "\n",
      "\n",
      "\n",
      "From gsilver@umich.edu Fri Jan  4 11:11:52 2008\n",
      "\n",
      "Return-Path: <postmaster@collab.sakaiproject.org>\n",
      "\n",
      "Received: from murder (mail.umich.edu [141.211.14.36])\n",
      "\n",
      "\t by frankenstein.mail.umich.edu (Cyrus v2.3.8) with LMTPA;\n",
      "\n",
      "\t Fri, 04 Jan 2008 11:11:52 -0500\n",
      "\n",
      "X-Sieve: CMU Sieve 2.3\n",
      "\n",
      "Received: from murder ([unix socket])\n",
      "\n",
      "\t by mail.umich.edu (Cyrus v2.2.12) with LMTPA;\n",
      "\n",
      "\t Fri, 04 Jan 2008 11:11:52 -0500\n",
      "\n",
      "Received: from creepshow.mr.itd.umich.edu (creepshow.mr.itd.umich.edu [141.211.14.84])\n",
      "\n",
      "\tby godsend.mail.umich.edu () with ESMTP id m04GBqqv025330;\n",
      "\n",
      "\tFri, 4 Jan 2008 11:11:52 -0500\n",
      "\n",
      "Received: FROM paploo.uhi.ac.uk (app1.prod.collab.uhi.ac.uk [194.35.219.184])\n",
      "\n",
      "\tBY creepshow.mr.itd.umich.edu ID 477E5AB3.5CC32.30840 ; \n",
      "\n",
      "\t 4 Jan 2008 11:11:34 -0500\n",
      "\n",
      "Received: from paploo.uhi.ac.uk (localhost [127.0.0.1])\n",
      "\n",
      "\tby paploo.uhi.ac.uk (Postfix) with ESMTP id 62AA4BAE46;\n",
      "\n",
      "\tFri,  4 Jan 2008 16:11:31 +0000 (GMT)\n",
      "\n",
      "Message-ID: <200801041610.m04GA5KP007209@nakamura.uits.iupui.edu>\n",
      "\n",
      "Mime-Version: 1.0\n",
      "\n",
      "Content-Transfer-Encoding: 7bit\n",
      "\n",
      "Received: from prod.collab.uhi.ac.uk ([194.35.219.182])\n",
      "\n",
      "          by paploo.uhi.ac.uk (JAMES SMTP Server 2.1.3) with SMTP ID 1006\n",
      "\n",
      "          for <source@collab.sakaiproject.org>;\n",
      "\n",
      "          Fri, 4 Jan 2008 16:11:18 +0000 (GMT)\n",
      "\n",
      "Received: from nakamura.uits.iupui.edu (nakamura.uits.iupui.edu [134.68.220.122])\n",
      "\n",
      "\tby shmi.uhi.ac.uk (Postfix) with ESMTP id C596A3DFA2\n",
      "\n",
      "\tfor <source@collab.sakaiproject.org>; Fri,  4 Jan 2008 16:11:16 +0000 (GMT)\n",
      "\n",
      "Received: from nakamura.uits.iupui.edu (localhost [127.0.0.1])\n",
      "\n",
      "\tby nakamura.uits.iupui.edu (8.12.11.20060308/8.12.11) with ESMTP id m04GA5LR007211\n",
      "\n",
      "\tfor <source@collab.sakaiproject.org>; Fri, 4 Jan 2008 11:10:05 -0500\n",
      "\n",
      "Received: (from apache@localhost)\n",
      "\n",
      "\tby nakamura.uits.iupui.edu (8.12.11.20060308/8.12.11/Submit) id m04GA5KP007209\n",
      "\n",
      "\tfor source@collab.sakaiproject.org; Fri, 4 Jan 2008 11:10:05 -0500\n",
      "\n",
      "Date: Fri, 4 Jan 2008 11:10:05 -0500\n",
      "\n",
      "X-Authentication-Warning: nakamura.uits.iupui.edu: apache set sender to gsilver@umich.edu using -f\n",
      "\n",
      "To: source@collab.sakaiproject.org\n",
      "\n",
      "From: gsilver@umich.edu\n",
      "\n",
      "Subject: [sakai] svn commit: r39761 - site/trunk/site-tool/tool/src/bundle\n",
      "\n",
      "X-Content-Type-Outer-Envelope: text/plain; charset=UTF-8\n",
      "\n",
      "X-Content-Type-Message-Body: text/plain; charset=UTF-8\n",
      "\n",
      "Content-Type: text/plain; charset=UTF-8\n",
      "\n",
      "X-DSPAM-Result: Innocent\n",
      "\n",
      "X-DSPAM-Processed: Fri Jan  4 11:11:52 2008\n",
      "\n",
      "X-DSPAM-Confidence: 0.7605\n",
      "\n",
      "X-DSPAM-Probability: 0.0000\n",
      "\n",
      "\n",
      "\n",
      "Details: http://source.sakaiproject.org/viewsvn/?view=rev&rev=39761\n",
      "\n",
      "\n",
      "\n",
      "Author: gsilver@umich.edu\n",
      "\n",
      "Date: 2008-01-04 11:10:04 -0500 (Fri, 04 Jan 2008)\n",
      "\n",
      "New Revision: 39761\n",
      "\n",
      "\n",
      "\n",
      "Modified:\n",
      "\n",
      "site/trunk/site-tool/tool/src/bundle/admin.properties\n",
      "\n",
      "Log:\n",
      "\n",
      "SAK-12595\n",
      "\n",
      "http://bugs.sakaiproject.org/jira/browse/SAK-12595\n",
      "\n",
      "- left moot (unused) entries commented for now\n",
      "\n",
      "\n",
      "\n",
      "----------------------\n",
      "\n",
      "This automatic notification message was sent by Sakai Collab (https://collab.sakaiproject.org/portal) from the Source site.\n",
      "\n",
      "You can modify how you receive notifications at My Workspace > Preferences.\n",
      "\n",
      "\n",
      "\n",
      "\n",
      "\n",
      "\n",
      "\n",
      "From zqian@umich.edu Fri Jan  4 11:11:03 2008\n",
      "\n",
      "Return-Path: <postmaster@collab.sakaiproject.org>\n",
      "\n",
      "Received: from murder (mail.umich.edu [141.211.14.97])\n",
      "\n",
      "\t by frankenstein.mail.umich.edu (Cyrus v2.3.8) with LMTPA;\n",
      "\n",
      "\t Fri, 04 Jan 2008 11:11:03 -0500\n",
      "\n",
      "X-Sieve: CMU Sieve 2.3\n",
      "\n",
      "Received: from murder ([unix socket])\n",
      "\n",
      "\t by mail.umich.edu (Cyrus v2.2.12) with LMTPA;\n",
      "\n",
      "\t Fri, 04 Jan 2008 11:11:03 -0500\n",
      "\n",
      "Received: from carrie.mr.itd.umich.edu (carrie.mr.itd.umich.edu [141.211.93.152])\n",
      "\n",
      "\tby sleepers.mail.umich.edu () with ESMTP id m04GB3Vg011502;\n",
      "\n",
      "\tFri, 4 Jan 2008 11:11:03 -0500\n",
      "\n",
      "Received: FROM paploo.uhi.ac.uk (app1.prod.collab.uhi.ac.uk [194.35.219.184])\n",
      "\n",
      "\tBY carrie.mr.itd.umich.edu ID 477E5A8D.B378F.24200 ; \n",
      "\n",
      "\t 4 Jan 2008 11:10:56 -0500\n",
      "\n",
      "Received: from paploo.uhi.ac.uk (localhost [127.0.0.1])\n",
      "\n",
      "\tby paploo.uhi.ac.uk (Postfix) with ESMTP id C7251BAD44;\n",
      "\n",
      "\tFri,  4 Jan 2008 16:10:53 +0000 (GMT)\n",
      "\n",
      "Message-ID: <200801041609.m04G9EuX007197@nakamura.uits.iupui.edu>\n",
      "\n",
      "Mime-Version: 1.0\n",
      "\n",
      "Content-Transfer-Encoding: 7bit\n",
      "\n",
      "Received: from prod.collab.uhi.ac.uk ([194.35.219.182])\n",
      "\n",
      "          by paploo.uhi.ac.uk (JAMES SMTP Server 2.1.3) with SMTP ID 483\n",
      "\n",
      "          for <source@collab.sakaiproject.org>;\n",
      "\n",
      "          Fri, 4 Jan 2008 16:10:27 +0000 (GMT)\n",
      "\n",
      "Received: from nakamura.uits.iupui.edu (nakamura.uits.iupui.edu [134.68.220.122])\n",
      "\n",
      "\tby shmi.uhi.ac.uk (Postfix) with ESMTP id 2E7043DFA2\n",
      "\n",
      "\tfor <source@collab.sakaiproject.org>; Fri,  4 Jan 2008 16:10:26 +0000 (GMT)\n",
      "\n",
      "Received: from nakamura.uits.iupui.edu (localhost [127.0.0.1])\n",
      "\n",
      "\tby nakamura.uits.iupui.edu (8.12.11.20060308/8.12.11) with ESMTP id m04G9Eqg007199\n",
      "\n",
      "\tfor <source@collab.sakaiproject.org>; Fri, 4 Jan 2008 11:09:15 -0500\n",
      "\n",
      "Received: (from apache@localhost)\n",
      "\n",
      "\tby nakamura.uits.iupui.edu (8.12.11.20060308/8.12.11/Submit) id m04G9EuX007197\n",
      "\n",
      "\tfor source@collab.sakaiproject.org; Fri, 4 Jan 2008 11:09:14 -0500\n",
      "\n",
      "Date: Fri, 4 Jan 2008 11:09:14 -0500\n",
      "\n",
      "X-Authentication-Warning: nakamura.uits.iupui.edu: apache set sender to zqian@umich.edu using -f\n",
      "\n",
      "To: source@collab.sakaiproject.org\n",
      "\n",
      "From: zqian@umich.edu\n",
      "\n",
      "Subject: [sakai] svn commit: r39760 - in site-manage/trunk/site-manage-tool/tool/src: java/org/sakaiproject/site/tool webapp/vm/sitesetup\n",
      "\n",
      "X-Content-Type-Outer-Envelope: text/plain; charset=UTF-8\n",
      "\n",
      "X-Content-Type-Message-Body: text/plain; charset=UTF-8\n",
      "\n",
      "Content-Type: text/plain; charset=UTF-8\n",
      "\n",
      "X-DSPAM-Result: Innocent\n",
      "\n",
      "X-DSPAM-Processed: Fri Jan  4 11:11:03 2008\n",
      "\n",
      "X-DSPAM-Confidence: 0.6959\n",
      "\n",
      "X-DSPAM-Probability: 0.0000\n",
      "\n",
      "\n",
      "\n",
      "Details: http://source.sakaiproject.org/viewsvn/?view=rev&rev=39760\n",
      "\n",
      "\n",
      "\n",
      "Author: zqian@umich.edu\n",
      "\n",
      "Date: 2008-01-04 11:09:12 -0500 (Fri, 04 Jan 2008)\n",
      "\n",
      "New Revision: 39760\n",
      "\n",
      "\n",
      "\n",
      "Modified:\n",
      "\n",
      "site-manage/trunk/site-manage-tool/tool/src/java/org/sakaiproject/site/tool/SiteAction.java\n",
      "\n",
      "site-manage/trunk/site-manage-tool/tool/src/webapp/vm/sitesetup/chef_site-siteInfo-list.vm\n",
      "\n",
      "Log:\n",
      "\n",
      "fix to SAK-10911: Refactor use of site.upd, site.upd.site.mbrship and site.upd.grp.mbrship permissions\n",
      "\n",
      "\n",
      "\n",
      "----------------------\n",
      "\n",
      "This automatic notification message was sent by Sakai Collab (https://collab.sakaiproject.org/portal) from the Source site.\n",
      "\n",
      "You can modify how you receive notifications at My Workspace > Preferences.\n",
      "\n",
      "\n",
      "\n",
      "\n",
      "\n",
      "\n",
      "\n",
      "From gsilver@umich.edu Fri Jan  4 11:10:22 2008\n",
      "\n",
      "Return-Path: <postmaster@collab.sakaiproject.org>\n",
      "\n",
      "Received: from murder (mail.umich.edu [141.211.14.39])\n",
      "\n",
      "\t by frankenstein.mail.umich.edu (Cyrus v2.3.8) with LMTPA;\n",
      "\n",
      "\t Fri, 04 Jan 2008 11:10:22 -0500\n",
      "\n",
      "X-Sieve: CMU Sieve 2.3\n",
      "\n",
      "Received: from murder ([unix socket])\n",
      "\n",
      "\t by mail.umich.edu (Cyrus v2.2.12) with LMTPA;\n",
      "\n",
      "\t Fri, 04 Jan 2008 11:10:22 -0500\n",
      "\n",
      "Received: from holes.mr.itd.umich.edu (holes.mr.itd.umich.edu [141.211.14.79])\n",
      "\n",
      "\tby faithful.mail.umich.edu () with ESMTP id m04GAL9k010604;\n",
      "\n",
      "\tFri, 4 Jan 2008 11:10:21 -0500\n",
      "\n",
      "Received: FROM paploo.uhi.ac.uk (app1.prod.collab.uhi.ac.uk [194.35.219.184])\n",
      "\n",
      "\tBY holes.mr.itd.umich.edu ID 477E5A67.34350.23015 ; \n",
      "\n",
      "\t 4 Jan 2008 11:10:18 -0500\n",
      "\n",
      "Received: from paploo.uhi.ac.uk (localhost [127.0.0.1])\n",
      "\n",
      "\tby paploo.uhi.ac.uk (Postfix) with ESMTP id 98D04BAD43;\n",
      "\n",
      "\tFri,  4 Jan 2008 16:10:11 +0000 (GMT)\n",
      "\n",
      "Message-ID: <200801041608.m04G8d7w007184@nakamura.uits.iupui.edu>\n",
      "\n",
      "Mime-Version: 1.0\n",
      "\n",
      "Content-Transfer-Encoding: 7bit\n",
      "\n",
      "Received: from prod.collab.uhi.ac.uk ([194.35.219.182])\n",
      "\n",
      "          by paploo.uhi.ac.uk (JAMES SMTP Server 2.1.3) with SMTP ID 966\n",
      "\n",
      "          for <source@collab.sakaiproject.org>;\n",
      "\n",
      "          Fri, 4 Jan 2008 16:09:51 +0000 (GMT)\n",
      "\n",
      "Received: from nakamura.uits.iupui.edu (nakamura.uits.iupui.edu [134.68.220.122])\n",
      "\n",
      "\tby shmi.uhi.ac.uk (Postfix) with ESMTP id 9F89542DD0\n",
      "\n",
      "\tfor <source@collab.sakaiproject.org>; Fri,  4 Jan 2008 16:09:50 +0000 (GMT)\n",
      "\n",
      "Received: from nakamura.uits.iupui.edu (localhost [127.0.0.1])\n",
      "\n",
      "\tby nakamura.uits.iupui.edu (8.12.11.20060308/8.12.11) with ESMTP id m04G8dXN007186\n",
      "\n",
      "\tfor <source@collab.sakaiproject.org>; Fri, 4 Jan 2008 11:08:39 -0500\n",
      "\n",
      "Received: (from apache@localhost)\n",
      "\n",
      "\tby nakamura.uits.iupui.edu (8.12.11.20060308/8.12.11/Submit) id m04G8d7w007184\n",
      "\n",
      "\tfor source@collab.sakaiproject.org; Fri, 4 Jan 2008 11:08:39 -0500\n",
      "\n",
      "Date: Fri, 4 Jan 2008 11:08:39 -0500\n",
      "\n",
      "X-Authentication-Warning: nakamura.uits.iupui.edu: apache set sender to gsilver@umich.edu using -f\n",
      "\n",
      "To: source@collab.sakaiproject.org\n",
      "\n",
      "From: gsilver@umich.edu\n",
      "\n",
      "Subject: [sakai] svn commit: r39759 - mailarchive/trunk/mailarchive-tool/tool/src/bundle\n",
      "\n",
      "X-Content-Type-Outer-Envelope: text/plain; charset=UTF-8\n",
      "\n",
      "X-Content-Type-Message-Body: text/plain; charset=UTF-8\n",
      "\n",
      "Content-Type: text/plain; charset=UTF-8\n",
      "\n",
      "X-DSPAM-Result: Innocent\n",
      "\n",
      "X-DSPAM-Processed: Fri Jan  4 11:10:22 2008\n",
      "\n",
      "X-DSPAM-Confidence: 0.7606\n",
      "\n",
      "X-DSPAM-Probability: 0.0000\n",
      "\n",
      "\n",
      "\n",
      "Details: http://source.sakaiproject.org/viewsvn/?view=rev&rev=39759\n",
      "\n",
      "\n",
      "\n",
      "Author: gsilver@umich.edu\n",
      "\n",
      "Date: 2008-01-04 11:08:38 -0500 (Fri, 04 Jan 2008)\n",
      "\n",
      "New Revision: 39759\n",
      "\n",
      "\n",
      "\n",
      "Modified:\n",
      "\n",
      "mailarchive/trunk/mailarchive-tool/tool/src/bundle/email.properties\n",
      "\n",
      "Log:\n",
      "\n",
      "SAK-12592\n",
      "\n",
      "http://bugs.sakaiproject.org/jira/browse/SAK-12592\n",
      "\n",
      "- left moot (unused) entries commented for now\n",
      "\n",
      "\n",
      "\n",
      "----------------------\n",
      "\n",
      "This automatic notification message was sent by Sakai Collab (https://collab.sakaiproject.org/portal) from the Source site.\n",
      "\n",
      "You can modify how you receive notifications at My Workspace > Preferences.\n",
      "\n",
      "\n",
      "\n",
      "\n",
      "\n",
      "\n",
      "\n",
      "From wagnermr@iupui.edu Fri Jan  4 10:38:42 2008\n",
      "\n",
      "Return-Path: <postmaster@collab.sakaiproject.org>\n",
      "\n",
      "Received: from murder (mail.umich.edu [141.211.14.90])\n",
      "\n",
      "\t by frankenstein.mail.umich.edu (Cyrus v2.3.8) with LMTPA;\n",
      "\n",
      "\t Fri, 04 Jan 2008 10:38:42 -0500\n",
      "\n",
      "X-Sieve: CMU Sieve 2.3\n",
      "\n",
      "Received: from murder ([unix socket])\n",
      "\n",
      "\t by mail.umich.edu (Cyrus v2.2.12) with LMTPA;\n",
      "\n",
      "\t Fri, 04 Jan 2008 10:38:42 -0500\n",
      "\n",
      "Received: from shining.mr.itd.umich.edu (shining.mr.itd.umich.edu [141.211.93.153])\n",
      "\n",
      "\tby flawless.mail.umich.edu () with ESMTP id m04Fcfjm012313;\n",
      "\n",
      "\tFri, 4 Jan 2008 10:38:41 -0500\n",
      "\n",
      "Received: FROM paploo.uhi.ac.uk (app1.prod.collab.uhi.ac.uk [194.35.219.184])\n",
      "\n",
      "\tBY shining.mr.itd.umich.edu ID 477E52FA.E6C6E.24093 ; \n",
      "\n",
      "\t 4 Jan 2008 10:38:37 -0500\n",
      "\n",
      "Received: from paploo.uhi.ac.uk (localhost [127.0.0.1])\n",
      "\n",
      "\tby paploo.uhi.ac.uk (Postfix) with ESMTP id 6A39594CD2;\n",
      "\n",
      "\tFri,  4 Jan 2008 15:37:36 +0000 (GMT)\n",
      "\n",
      "Message-ID: <200801041537.m04Fb6Ci007092@nakamura.uits.iupui.edu>\n",
      "\n",
      "Mime-Version: 1.0\n",
      "\n",
      "Content-Transfer-Encoding: 7bit\n",
      "\n",
      "Received: from prod.collab.uhi.ac.uk ([194.35.219.182])\n",
      "\n",
      "          by paploo.uhi.ac.uk (JAMES SMTP Server 2.1.3) with SMTP ID 690\n",
      "\n",
      "          for <source@collab.sakaiproject.org>;\n",
      "\n",
      "          Fri, 4 Jan 2008 15:37:21 +0000 (GMT)\n",
      "\n",
      "Received: from nakamura.uits.iupui.edu (nakamura.uits.iupui.edu [134.68.220.122])\n",
      "\n",
      "\tby shmi.uhi.ac.uk (Postfix) with ESMTP id CEFA037ACE\n",
      "\n",
      "\tfor <source@collab.sakaiproject.org>; Fri,  4 Jan 2008 15:38:17 +0000 (GMT)\n",
      "\n",
      "Received: from nakamura.uits.iupui.edu (localhost [127.0.0.1])\n",
      "\n",
      "\tby nakamura.uits.iupui.edu (8.12.11.20060308/8.12.11) with ESMTP id m04Fb6nh007094\n",
      "\n",
      "\tfor <source@collab.sakaiproject.org>; Fri, 4 Jan 2008 10:37:06 -0500\n",
      "\n",
      "Received: (from apache@localhost)\n",
      "\n",
      "\tby nakamura.uits.iupui.edu (8.12.11.20060308/8.12.11/Submit) id m04Fb6Ci007092\n",
      "\n",
      "\tfor source@collab.sakaiproject.org; Fri, 4 Jan 2008 10:37:06 -0500\n",
      "\n",
      "Date: Fri, 4 Jan 2008 10:37:06 -0500\n",
      "\n",
      "X-Authentication-Warning: nakamura.uits.iupui.edu: apache set sender to wagnermr@iupui.edu using -f\n",
      "\n",
      "To: source@collab.sakaiproject.org\n",
      "\n",
      "From: wagnermr@iupui.edu\n",
      "\n",
      "Subject: [sakai] svn commit: r39758 - in gradebook/trunk: app/business/src/java/org/sakaiproject/tool/gradebook/business/impl service/api/src/java/org/sakaiproject/service/gradebook/shared service/impl/src/java/org/sakaiproject/component/gradebook\n",
      "\n",
      "X-Content-Type-Outer-Envelope: text/plain; charset=UTF-8\n",
      "\n",
      "X-Content-Type-Message-Body: text/plain; charset=UTF-8\n",
      "\n",
      "Content-Type: text/plain; charset=UTF-8\n",
      "\n",
      "X-DSPAM-Result: Innocent\n",
      "\n",
      "X-DSPAM-Processed: Fri Jan  4 10:38:42 2008\n",
      "\n",
      "X-DSPAM-Confidence: 0.7559\n",
      "\n",
      "X-DSPAM-Probability: 0.0000\n",
      "\n",
      "\n",
      "\n",
      "Details: http://source.sakaiproject.org/viewsvn/?view=rev&rev=39758\n",
      "\n",
      "\n",
      "\n",
      "Author: wagnermr@iupui.edu\n",
      "\n",
      "Date: 2008-01-04 10:37:04 -0500 (Fri, 04 Jan 2008)\n",
      "\n",
      "New Revision: 39758\n",
      "\n",
      "\n",
      "\n",
      "Modified:\n",
      "\n",
      "gradebook/trunk/app/business/src/java/org/sakaiproject/tool/gradebook/business/impl/GradebookManagerHibernateImpl.java\n",
      "\n",
      "gradebook/trunk/service/api/src/java/org/sakaiproject/service/gradebook/shared/GradebookService.java\n",
      "\n",
      "gradebook/trunk/service/impl/src/java/org/sakaiproject/component/gradebook/GradebookServiceHibernateImpl.java\n",
      "\n",
      "Log:\n",
      "\n",
      "SAK-12175\n",
      "\n",
      "http://bugs.sakaiproject.org/jira/browse/SAK-12175\n",
      "\n",
      "Create methods required for gb integration with the Assignment2 tool\n",
      "\n",
      "getGradeDefinitionForStudentForItem\n",
      "\n",
      "\n",
      "\n",
      "----------------------\n",
      "\n",
      "This automatic notification message was sent by Sakai Collab (https://collab.sakaiproject.org/portal) from the Source site.\n",
      "\n",
      "You can modify how you receive notifications at My Workspace > Preferences.\n",
      "\n",
      "\n",
      "\n",
      "\n",
      "\n",
      "\n",
      "\n",
      "From zqian@umich.edu Fri Jan  4 10:17:43 2008\n",
      "\n",
      "Return-Path: <postmaster@collab.sakaiproject.org>\n",
      "\n",
      "Received: from murder (mail.umich.edu [141.211.14.97])\n",
      "\n",
      "\t by frankenstein.mail.umich.edu (Cyrus v2.3.8) with LMTPA;\n",
      "\n",
      "\t Fri, 04 Jan 2008 10:17:43 -0500\n",
      "\n",
      "X-Sieve: CMU Sieve 2.3\n",
      "\n",
      "Received: from murder ([unix socket])\n",
      "\n",
      "\t by mail.umich.edu (Cyrus v2.2.12) with LMTPA;\n",
      "\n",
      "\t Fri, 04 Jan 2008 10:17:42 -0500\n",
      "\n",
      "Received: from creepshow.mr.itd.umich.edu (creepshow.mr.itd.umich.edu [141.211.14.84])\n",
      "\n",
      "\tby sleepers.mail.umich.edu () with ESMTP id m04FHgfs011536;\n",
      "\n",
      "\tFri, 4 Jan 2008 10:17:42 -0500\n",
      "\n",
      "Received: FROM paploo.uhi.ac.uk (app1.prod.collab.uhi.ac.uk [194.35.219.184])\n",
      "\n",
      "\tBY creepshow.mr.itd.umich.edu ID 477E4E0F.CCA4B.926 ; \n",
      "\n",
      "\t 4 Jan 2008 10:17:38 -0500\n",
      "\n",
      "Received: from paploo.uhi.ac.uk (localhost [127.0.0.1])\n",
      "\n",
      "\tby paploo.uhi.ac.uk (Postfix) with ESMTP id BD02DBAC64;\n",
      "\n",
      "\tFri,  4 Jan 2008 15:17:34 +0000 (GMT)\n",
      "\n",
      "Message-ID: <200801041515.m04FFv42007050@nakamura.uits.iupui.edu>\n",
      "\n",
      "Mime-Version: 1.0\n",
      "\n",
      "Content-Transfer-Encoding: 7bit\n",
      "\n",
      "Received: from prod.collab.uhi.ac.uk ([194.35.219.182])\n",
      "\n",
      "          by paploo.uhi.ac.uk (JAMES SMTP Server 2.1.3) with SMTP ID 25\n",
      "\n",
      "          for <source@collab.sakaiproject.org>;\n",
      "\n",
      "          Fri, 4 Jan 2008 15:17:11 +0000 (GMT)\n",
      "\n",
      "Received: from nakamura.uits.iupui.edu (nakamura.uits.iupui.edu [134.68.220.122])\n",
      "\n",
      "\tby shmi.uhi.ac.uk (Postfix) with ESMTP id 5B396236B9\n",
      "\n",
      "\tfor <source@collab.sakaiproject.org>; Fri,  4 Jan 2008 15:17:08 +0000 (GMT)\n",
      "\n",
      "Received: from nakamura.uits.iupui.edu (localhost [127.0.0.1])\n",
      "\n",
      "\tby nakamura.uits.iupui.edu (8.12.11.20060308/8.12.11) with ESMTP id m04FFv85007052\n",
      "\n",
      "\tfor <source@collab.sakaiproject.org>; Fri, 4 Jan 2008 10:15:57 -0500\n",
      "\n",
      "Received: (from apache@localhost)\n",
      "\n",
      "\tby nakamura.uits.iupui.edu (8.12.11.20060308/8.12.11/Submit) id m04FFv42007050\n",
      "\n",
      "\tfor source@collab.sakaiproject.org; Fri, 4 Jan 2008 10:15:57 -0500\n",
      "\n",
      "Date: Fri, 4 Jan 2008 10:15:57 -0500\n",
      "\n",
      "X-Authentication-Warning: nakamura.uits.iupui.edu: apache set sender to zqian@umich.edu using -f\n",
      "\n",
      "To: source@collab.sakaiproject.org\n",
      "\n",
      "From: zqian@umich.edu\n",
      "\n",
      "Subject: [sakai] svn commit: r39757 - in assignment/trunk: assignment-impl/impl/src/java/org/sakaiproject/assignment/impl assignment-tool/tool/src/webapp/vm/assignment\n",
      "\n",
      "X-Content-Type-Outer-Envelope: text/plain; charset=UTF-8\n",
      "\n",
      "X-Content-Type-Message-Body: text/plain; charset=UTF-8\n",
      "\n",
      "Content-Type: text/plain; charset=UTF-8\n",
      "\n",
      "X-DSPAM-Result: Innocent\n",
      "\n",
      "X-DSPAM-Processed: Fri Jan  4 10:17:42 2008\n",
      "\n",
      "X-DSPAM-Confidence: 0.7605\n",
      "\n",
      "X-DSPAM-Probability: 0.0000\n",
      "\n",
      "\n",
      "\n",
      "Details: http://source.sakaiproject.org/viewsvn/?view=rev&rev=39757\n",
      "\n",
      "\n",
      "\n",
      "Author: zqian@umich.edu\n",
      "\n",
      "Date: 2008-01-04 10:15:54 -0500 (Fri, 04 Jan 2008)\n",
      "\n",
      "New Revision: 39757\n",
      "\n",
      "\n",
      "\n",
      "Modified:\n",
      "\n",
      "assignment/trunk/assignment-impl/impl/src/java/org/sakaiproject/assignment/impl/BaseAssignmentService.java\n",
      "\n",
      "assignment/trunk/assignment-tool/tool/src/webapp/vm/assignment/chef_assignments_instructor_list_submissions.vm\n",
      "\n",
      "Log:\n",
      "\n",
      "fix to SAK-12604:Don't show groups/sections filter if the site doesn't have any\n",
      "\n",
      "\n",
      "\n",
      "----------------------\n",
      "\n",
      "This automatic notification message was sent by Sakai Collab (https://collab.sakaiproject.org/portal) from the Source site.\n",
      "\n",
      "You can modify how you receive notifications at My Workspace > Preferences.\n",
      "\n",
      "\n",
      "\n",
      "\n",
      "\n",
      "\n",
      "\n",
      "From antranig@caret.cam.ac.uk Fri Jan  4 10:04:14 2008\n",
      "\n",
      "Return-Path: <postmaster@collab.sakaiproject.org>\n",
      "\n",
      "Received: from murder (mail.umich.edu [141.211.14.25])\n",
      "\n",
      "\t by frankenstein.mail.umich.edu (Cyrus v2.3.8) with LMTPA;\n",
      "\n",
      "\t Fri, 04 Jan 2008 10:04:14 -0500\n",
      "\n",
      "X-Sieve: CMU Sieve 2.3\n",
      "\n",
      "Received: from murder ([unix socket])\n",
      "\n",
      "\t by mail.umich.edu (Cyrus v2.2.12) with LMTPA;\n",
      "\n",
      "\t Fri, 04 Jan 2008 10:04:14 -0500\n",
      "\n",
      "Received: from holes.mr.itd.umich.edu (holes.mr.itd.umich.edu [141.211.14.79])\n",
      "\n",
      "\tby panther.mail.umich.edu () with ESMTP id m04F4Dci015108;\n",
      "\n",
      "\tFri, 4 Jan 2008 10:04:13 -0500\n",
      "\n",
      "Received: FROM paploo.uhi.ac.uk (app1.prod.collab.uhi.ac.uk [194.35.219.184])\n",
      "\n",
      "\tBY holes.mr.itd.umich.edu ID 477E4AE3.D7AF.31669 ; \n",
      "\n",
      "\t 4 Jan 2008 10:04:05 -0500\n",
      "\n",
      "Received: from paploo.uhi.ac.uk (localhost [127.0.0.1])\n",
      "\n",
      "\tby paploo.uhi.ac.uk (Postfix) with ESMTP id 933E3BAC17;\n",
      "\n",
      "\tFri,  4 Jan 2008 15:04:00 +0000 (GMT)\n",
      "\n",
      "Message-ID: <200801041502.m04F21Jo007031@nakamura.uits.iupui.edu>\n",
      "\n",
      "Mime-Version: 1.0\n",
      "\n",
      "Content-Transfer-Encoding: 7bit\n",
      "\n",
      "Received: from prod.collab.uhi.ac.uk ([194.35.219.182])\n",
      "\n",
      "          by paploo.uhi.ac.uk (JAMES SMTP Server 2.1.3) with SMTP ID 32\n",
      "\n",
      "          for <source@collab.sakaiproject.org>;\n",
      "\n",
      "          Fri, 4 Jan 2008 15:03:15 +0000 (GMT)\n",
      "\n",
      "Received: from nakamura.uits.iupui.edu (nakamura.uits.iupui.edu [134.68.220.122])\n",
      "\n",
      "\tby shmi.uhi.ac.uk (Postfix) with ESMTP id AC2F6236B9\n",
      "\n",
      "\tfor <source@collab.sakaiproject.org>; Fri,  4 Jan 2008 15:03:12 +0000 (GMT)\n",
      "\n",
      "Received: from nakamura.uits.iupui.edu (localhost [127.0.0.1])\n",
      "\n",
      "\tby nakamura.uits.iupui.edu (8.12.11.20060308/8.12.11) with ESMTP id m04F21hn007033\n",
      "\n",
      "\tfor <source@collab.sakaiproject.org>; Fri, 4 Jan 2008 10:02:01 -0500\n",
      "\n",
      "Received: (from apache@localhost)\n",
      "\n",
      "\tby nakamura.uits.iupui.edu (8.12.11.20060308/8.12.11/Submit) id m04F21Jo007031\n",
      "\n",
      "\tfor source@collab.sakaiproject.org; Fri, 4 Jan 2008 10:02:01 -0500\n",
      "\n",
      "Date: Fri, 4 Jan 2008 10:02:01 -0500\n",
      "\n",
      "X-Authentication-Warning: nakamura.uits.iupui.edu: apache set sender to antranig@caret.cam.ac.uk using -f\n",
      "\n",
      "To: source@collab.sakaiproject.org\n",
      "\n",
      "From: antranig@caret.cam.ac.uk\n",
      "\n",
      "Subject: [sakai] svn commit: r39756 - in component/branches/SAK-12166/component-api/component/src/java/org/sakaiproject/component: impl impl/spring/support impl/spring/support/dynamic impl/support util\n",
      "\n",
      "X-Content-Type-Outer-Envelope: text/plain; charset=UTF-8\n",
      "\n",
      "X-Content-Type-Message-Body: text/plain; charset=UTF-8\n",
      "\n",
      "Content-Type: text/plain; charset=UTF-8\n",
      "\n",
      "X-DSPAM-Result: Innocent\n",
      "\n",
      "X-DSPAM-Processed: Fri Jan  4 10:04:14 2008\n",
      "\n",
      "X-DSPAM-Confidence: 0.6932\n",
      "\n",
      "X-DSPAM-Probability: 0.0000\n",
      "\n",
      "\n",
      "\n",
      "Details: http://source.sakaiproject.org/viewsvn/?view=rev&rev=39756\n",
      "\n",
      "\n",
      "\n",
      "Author: antranig@caret.cam.ac.uk\n",
      "\n",
      "Date: 2008-01-04 10:01:40 -0500 (Fri, 04 Jan 2008)\n",
      "\n",
      "New Revision: 39756\n",
      "\n",
      "\n",
      "\n",
      "Added:\n",
      "\n",
      "component/branches/SAK-12166/component-api/component/src/java/org/sakaiproject/component/impl/spring/support/dynamic/\n",
      "\n",
      "component/branches/SAK-12166/component-api/component/src/java/org/sakaiproject/component/impl/spring/support/dynamic/DynamicComponentManager.java\n",
      "\n",
      "component/branches/SAK-12166/component-api/component/src/java/org/sakaiproject/component/impl/support/\n",
      "\n",
      "component/branches/SAK-12166/component-api/component/src/java/org/sakaiproject/component/impl/support/DynamicComponentRecord.java\n",
      "\n",
      "component/branches/SAK-12166/component-api/component/src/java/org/sakaiproject/component/impl/support/DynamicJARManager.java\n",
      "\n",
      "component/branches/SAK-12166/component-api/component/src/java/org/sakaiproject/component/impl/support/JARRecord.java\n",
      "\n",
      "component/branches/SAK-12166/component-api/component/src/java/org/sakaiproject/component/util/ByteToCharBase64.java\n",
      "\n",
      "component/branches/SAK-12166/component-api/component/src/java/org/sakaiproject/component/util/FileUtil.java\n",
      "\n",
      "component/branches/SAK-12166/component-api/component/src/java/org/sakaiproject/component/util/RecordFileIO.java\n",
      "\n",
      "component/branches/SAK-12166/component-api/component/src/java/org/sakaiproject/component/util/RecordReader.java\n",
      "\n",
      "component/branches/SAK-12166/component-api/component/src/java/org/sakaiproject/component/util/RecordWriter.java\n",
      "\n",
      "component/branches/SAK-12166/component-api/component/src/java/org/sakaiproject/component/util/StreamDigestor.java\n",
      "\n",
      "Modified:\n",
      "\n",
      "component/branches/SAK-12166/component-api/component/src/java/org/sakaiproject/component/impl/spring/support/ComponentsLoaderImpl.java\n",
      "\n",
      "Log:\n",
      "\n",
      "Temporary commit of incomplete work on JAR caching\n",
      "\n",
      "\n",
      "\n",
      "----------------------\n",
      "\n",
      "This automatic notification message was sent by Sakai Collab (https://collab.sakaiproject.org/portal) from the Source site.\n",
      "\n",
      "You can modify how you receive notifications at My Workspace > Preferences.\n",
      "\n",
      "\n",
      "\n",
      "\n",
      "\n",
      "\n",
      "\n",
      "From gopal.ramasammycook@gmail.com Fri Jan  4 09:05:31 2008\n",
      "\n",
      "Return-Path: <postmaster@collab.sakaiproject.org>\n",
      "\n",
      "Received: from murder (mail.umich.edu [141.211.14.90])\n",
      "\n",
      "\t by frankenstein.mail.umich.edu (Cyrus v2.3.8) with LMTPA;\n",
      "\n",
      "\t Fri, 04 Jan 2008 09:05:31 -0500\n",
      "\n",
      "X-Sieve: CMU Sieve 2.3\n",
      "\n",
      "Received: from murder ([unix socket])\n",
      "\n",
      "\t by mail.umich.edu (Cyrus v2.2.12) with LMTPA;\n",
      "\n",
      "\t Fri, 04 Jan 2008 09:05:31 -0500\n",
      "\n",
      "Received: from guys.mr.itd.umich.edu (guys.mr.itd.umich.edu [141.211.14.76])\n",
      "\n",
      "\tby flawless.mail.umich.edu () with ESMTP id m04E5U3C029277;\n",
      "\n",
      "\tFri, 4 Jan 2008 09:05:30 -0500\n",
      "\n",
      "Received: FROM paploo.uhi.ac.uk (app1.prod.collab.uhi.ac.uk [194.35.219.184])\n",
      "\n",
      "\tBY guys.mr.itd.umich.edu ID 477E3D23.EE2E7.5237 ; \n",
      "\n",
      "\t 4 Jan 2008 09:05:26 -0500\n",
      "\n",
      "Received: from paploo.uhi.ac.uk (localhost [127.0.0.1])\n",
      "\n",
      "\tby paploo.uhi.ac.uk (Postfix) with ESMTP id 33C7856DC0;\n",
      "\n",
      "\tFri,  4 Jan 2008 14:05:26 +0000 (GMT)\n",
      "\n",
      "Message-ID: <200801041403.m04E3psW006926@nakamura.uits.iupui.edu>\n",
      "\n",
      "Mime-Version: 1.0\n",
      "\n",
      "Content-Transfer-Encoding: 7bit\n",
      "\n",
      "Received: from prod.collab.uhi.ac.uk ([194.35.219.182])\n",
      "\n",
      "          by paploo.uhi.ac.uk (JAMES SMTP Server 2.1.3) with SMTP ID 575\n",
      "\n",
      "          for <source@collab.sakaiproject.org>;\n",
      "\n",
      "          Fri, 4 Jan 2008 14:05:04 +0000 (GMT)\n",
      "\n",
      "Received: from nakamura.uits.iupui.edu (nakamura.uits.iupui.edu [134.68.220.122])\n",
      "\n",
      "\tby shmi.uhi.ac.uk (Postfix) with ESMTP id 3C0261D617\n",
      "\n",
      "\tfor <source@collab.sakaiproject.org>; Fri,  4 Jan 2008 14:05:03 +0000 (GMT)\n",
      "\n",
      "Received: from nakamura.uits.iupui.edu (localhost [127.0.0.1])\n",
      "\n",
      "\tby nakamura.uits.iupui.edu (8.12.11.20060308/8.12.11) with ESMTP id m04E3pQS006928\n",
      "\n",
      "\tfor <source@collab.sakaiproject.org>; Fri, 4 Jan 2008 09:03:52 -0500\n",
      "\n",
      "Received: (from apache@localhost)\n",
      "\n",
      "\tby nakamura.uits.iupui.edu (8.12.11.20060308/8.12.11/Submit) id m04E3psW006926\n",
      "\n",
      "\tfor source@collab.sakaiproject.org; Fri, 4 Jan 2008 09:03:51 -0500\n",
      "\n",
      "Date: Fri, 4 Jan 2008 09:03:51 -0500\n",
      "\n",
      "X-Authentication-Warning: nakamura.uits.iupui.edu: apache set sender to gopal.ramasammycook@gmail.com using -f\n",
      "\n",
      "To: source@collab.sakaiproject.org\n",
      "\n",
      "From: gopal.ramasammycook@gmail.com\n",
      "\n",
      "Subject: [sakai] svn commit: r39755 - in sam/branches/SAK-12065: samigo-api/src/java/org/sakaiproject/tool/assessment/shared/api/grading samigo-app/src/java/org/sakaiproject/tool/assessment/ui/bean/evaluation samigo-app/src/java/org/sakaiproject/tool/assessment/ui/listener/evaluation samigo-services/src/java/org/sakaiproject/tool/assessment/facade samigo-services/src/java/org/sakaiproject/tool/assessment/integration/helper/ifc samigo-services/src/java/org/sakaiproject/tool/assessment/integration/helper/integrated samigo-services/src/java/org/sakaiproject/tool/assessment/integration/helper/standalone samigo-services/src/java/org/sakaiproject/tool/assessment/shared/impl/grading\n",
      "\n",
      "X-Content-Type-Outer-Envelope: text/plain; charset=UTF-8\n",
      "\n",
      "X-Content-Type-Message-Body: text/plain; charset=UTF-8\n",
      "\n",
      "Content-Type: text/plain; charset=UTF-8\n",
      "\n",
      "X-DSPAM-Result: Innocent\n",
      "\n",
      "X-DSPAM-Processed: Fri Jan  4 09:05:31 2008\n",
      "\n",
      "X-DSPAM-Confidence: 0.7558\n",
      "\n",
      "X-DSPAM-Probability: 0.0000\n",
      "\n",
      "\n",
      "\n",
      "Details: http://source.sakaiproject.org/viewsvn/?view=rev&rev=39755\n",
      "\n",
      "\n",
      "\n",
      "Author: gopal.ramasammycook@gmail.com\n",
      "\n",
      "Date: 2008-01-04 09:02:54 -0500 (Fri, 04 Jan 2008)\n",
      "\n",
      "New Revision: 39755\n",
      "\n",
      "\n",
      "\n",
      "Modified:\n",
      "\n",
      "sam/branches/SAK-12065/samigo-api/src/java/org/sakaiproject/tool/assessment/shared/api/grading/GradingSectionAwareServiceAPI.java\n",
      "\n",
      "sam/branches/SAK-12065/samigo-app/src/java/org/sakaiproject/tool/assessment/ui/bean/evaluation/QuestionScoresBean.java\n",
      "\n",
      "sam/branches/SAK-12065/samigo-app/src/java/org/sakaiproject/tool/assessment/ui/bean/evaluation/SubmissionStatusBean.java\n",
      "\n",
      "sam/branches/SAK-12065/samigo-app/src/java/org/sakaiproject/tool/assessment/ui/bean/evaluation/TotalScoresBean.java\n",
      "\n",
      "sam/branches/SAK-12065/samigo-app/src/java/org/sakaiproject/tool/assessment/ui/listener/evaluation/SubmissionStatusListener.java\n",
      "\n",
      "sam/branches/SAK-12065/samigo-services/src/java/org/sakaiproject/tool/assessment/facade/PublishedAssessmentFacadeQueries.java\n",
      "\n",
      "sam/branches/SAK-12065/samigo-services/src/java/org/sakaiproject/tool/assessment/facade/PublishedAssessmentFacadeQueriesAPI.java\n",
      "\n",
      "sam/branches/SAK-12065/samigo-services/src/java/org/sakaiproject/tool/assessment/integration/helper/ifc/SectionAwareServiceHelper.java\n",
      "\n",
      "sam/branches/SAK-12065/samigo-services/src/java/org/sakaiproject/tool/assessment/integration/helper/integrated/SectionAwareServiceHelperImpl.java\n",
      "\n",
      "sam/branches/SAK-12065/samigo-services/src/java/org/sakaiproject/tool/assessment/integration/helper/standalone/SectionAwareServiceHelperImpl.java\n",
      "\n",
      "sam/branches/SAK-12065/samigo-services/src/java/org/sakaiproject/tool/assessment/shared/impl/grading/GradingSectionAwareServiceImpl.java\n",
      "\n",
      "Log:\n",
      "\n",
      "SAK-12065 Gopal - Samigo Group Release. SubmissionStatus/TotalScores/Questions View filter.\n",
      "\n",
      "\n",
      "\n",
      "----------------------\n",
      "\n",
      "This automatic notification message was sent by Sakai Collab (https://collab.sakaiproject.org/portal) from the Source site.\n",
      "\n",
      "You can modify how you receive notifications at My Workspace > Preferences.\n",
      "\n",
      "\n",
      "\n",
      "\n",
      "\n",
      "\n",
      "\n",
      "From david.horwitz@uct.ac.za Fri Jan  4 07:02:32 2008\n",
      "\n",
      "Return-Path: <postmaster@collab.sakaiproject.org>\n",
      "\n",
      "Received: from murder (mail.umich.edu [141.211.14.39])\n",
      "\n",
      "\t by frankenstein.mail.umich.edu (Cyrus v2.3.8) with LMTPA;\n",
      "\n",
      "\t Fri, 04 Jan 2008 07:02:32 -0500\n",
      "\n",
      "X-Sieve: CMU Sieve 2.3\n",
      "\n",
      "Received: from murder ([unix socket])\n",
      "\n",
      "\t by mail.umich.edu (Cyrus v2.2.12) with LMTPA;\n",
      "\n",
      "\t Fri, 04 Jan 2008 07:02:32 -0500\n",
      "\n",
      "Received: from guys.mr.itd.umich.edu (guys.mr.itd.umich.edu [141.211.14.76])\n",
      "\n",
      "\tby faithful.mail.umich.edu () with ESMTP id m04C2VN7026678;\n",
      "\n",
      "\tFri, 4 Jan 2008 07:02:31 -0500\n",
      "\n",
      "Received: FROM paploo.uhi.ac.uk (app1.prod.collab.uhi.ac.uk [194.35.219.184])\n",
      "\n",
      "\tBY guys.mr.itd.umich.edu ID 477E2050.C2599.3263 ; \n",
      "\n",
      "\t 4 Jan 2008 07:02:27 -0500\n",
      "\n",
      "Received: from paploo.uhi.ac.uk (localhost [127.0.0.1])\n",
      "\n",
      "\tby paploo.uhi.ac.uk (Postfix) with ESMTP id 6497FBA906;\n",
      "\n",
      "\tFri,  4 Jan 2008 12:02:11 +0000 (GMT)\n",
      "\n",
      "Message-ID: <200801041200.m04C0gfK006793@nakamura.uits.iupui.edu>\n",
      "\n",
      "Mime-Version: 1.0\n",
      "\n",
      "Content-Transfer-Encoding: 7bit\n",
      "\n",
      "Received: from prod.collab.uhi.ac.uk ([194.35.219.182])\n",
      "\n",
      "          by paploo.uhi.ac.uk (JAMES SMTP Server 2.1.3) with SMTP ID 611\n",
      "\n",
      "          for <source@collab.sakaiproject.org>;\n",
      "\n",
      "          Fri, 4 Jan 2008 12:01:53 +0000 (GMT)\n",
      "\n",
      "Received: from nakamura.uits.iupui.edu (nakamura.uits.iupui.edu [134.68.220.122])\n",
      "\n",
      "\tby shmi.uhi.ac.uk (Postfix) with ESMTP id 5296342D3C\n",
      "\n",
      "\tfor <source@collab.sakaiproject.org>; Fri,  4 Jan 2008 12:01:53 +0000 (GMT)\n",
      "\n",
      "Received: from nakamura.uits.iupui.edu (localhost [127.0.0.1])\n",
      "\n",
      "\tby nakamura.uits.iupui.edu (8.12.11.20060308/8.12.11) with ESMTP id m04C0gnm006795\n",
      "\n",
      "\tfor <source@collab.sakaiproject.org>; Fri, 4 Jan 2008 07:00:42 -0500\n",
      "\n",
      "Received: (from apache@localhost)\n",
      "\n",
      "\tby nakamura.uits.iupui.edu (8.12.11.20060308/8.12.11/Submit) id m04C0gfK006793\n",
      "\n",
      "\tfor source@collab.sakaiproject.org; Fri, 4 Jan 2008 07:00:42 -0500\n",
      "\n",
      "Date: Fri, 4 Jan 2008 07:00:42 -0500\n",
      "\n",
      "X-Authentication-Warning: nakamura.uits.iupui.edu: apache set sender to david.horwitz@uct.ac.za using -f\n",
      "\n",
      "To: source@collab.sakaiproject.org\n",
      "\n",
      "From: david.horwitz@uct.ac.za\n",
      "\n",
      "Subject: [sakai] svn commit: r39754 - in polls/branches/sakai_2-5-x: . tool tool/src/java/org/sakaiproject/poll/tool tool/src/java/org/sakaiproject/poll/tool/evolvers tool/src/webapp/WEB-INF\n",
      "\n",
      "X-Content-Type-Outer-Envelope: text/plain; charset=UTF-8\n",
      "\n",
      "X-Content-Type-Message-Body: text/plain; charset=UTF-8\n",
      "\n",
      "Content-Type: text/plain; charset=UTF-8\n",
      "\n",
      "X-DSPAM-Result: Innocent\n",
      "\n",
      "X-DSPAM-Processed: Fri Jan  4 07:02:32 2008\n",
      "\n",
      "X-DSPAM-Confidence: 0.6526\n",
      "\n",
      "X-DSPAM-Probability: 0.0000\n",
      "\n",
      "\n",
      "\n",
      "Details: http://source.sakaiproject.org/viewsvn/?view=rev&rev=39754\n",
      "\n",
      "\n",
      "\n",
      "Author: david.horwitz@uct.ac.za\n",
      "\n",
      "Date: 2008-01-04 07:00:10 -0500 (Fri, 04 Jan 2008)\n",
      "\n",
      "New Revision: 39754\n",
      "\n",
      "\n",
      "\n",
      "Added:\n",
      "\n",
      "polls/branches/sakai_2-5-x/tool/src/java/org/sakaiproject/poll/tool/evolvers/\n",
      "\n",
      "polls/branches/sakai_2-5-x/tool/src/java/org/sakaiproject/poll/tool/evolvers/SakaiFCKTextEvolver.java\n",
      "\n",
      "Removed:\n",
      "\n",
      "polls/branches/sakai_2-5-x/tool/src/java/org/sakaiproject/poll/tool/evolvers/SakaiFCKTextEvolver.java\n",
      "\n",
      "Modified:\n",
      "\n",
      "polls/branches/sakai_2-5-x/.classpath\n",
      "\n",
      "polls/branches/sakai_2-5-x/tool/pom.xml\n",
      "\n",
      "polls/branches/sakai_2-5-x/tool/src/webapp/WEB-INF/requestContext.xml\n",
      "\n",
      "Log:\n",
      "\n",
      "svn log -r39753 https://source.sakaiproject.org/svn/polls/trunk\n",
      "\n",
      "------------------------------------------------------------------------\n",
      "\n",
      "r39753 | david.horwitz@uct.ac.za | 2008-01-04 13:05:51 +0200 (Fri, 04 Jan 2008) | 1 line\n",
      "\n",
      "\n",
      "\n",
      "SAK-12228 implmented workaround sugested by AB - needs to be tested against a trunk build\n",
      "\n",
      "------------------------------------------------------------------------\n",
      "\n",
      "dhorwitz@david-horwitz-6:~/branchManagemnt/sakai_2-5-x> svn merge -c39753 https://source.sakaiproject.org/svn/polls/trunk polls/\n",
      "\n",
      "U    polls/.classpath\n",
      "\n",
      "A    polls/tool/src/java/org/sakaiproject/poll/tool/evolvers\n",
      "\n",
      "A    polls/tool/src/java/org/sakaiproject/poll/tool/evolvers/SakaiFCKTextEvolver.java\n",
      "\n",
      "C    polls/tool/src/webapp/WEB-INF/requestContext.xml\n",
      "\n",
      "U    polls/tool/pom.xml\n",
      "\n",
      "\n",
      "\n",
      "dhorwitz@david-horwitz-6:~/branchManagemnt/sakai_2-5-x> svn resolved polls/tool/src/webapp/WEB-INF/requestContext.xml\n",
      "\n",
      "Resolved conflicted state of 'polls/tool/src/webapp/WEB-INF/requestContext.xml\n",
      "\n",
      "\n",
      "\n",
      "\n",
      "\n",
      "----------------------\n",
      "\n",
      "This automatic notification message was sent by Sakai Collab (https://collab.sakaiproject.org/portal) from the Source site.\n",
      "\n",
      "You can modify how you receive notifications at My Workspace > Preferences.\n",
      "\n",
      "\n",
      "\n",
      "\n",
      "\n",
      "\n",
      "\n",
      "From david.horwitz@uct.ac.za Fri Jan  4 06:08:27 2008\n",
      "\n",
      "Return-Path: <postmaster@collab.sakaiproject.org>\n",
      "\n",
      "Received: from murder (mail.umich.edu [141.211.14.98])\n",
      "\n",
      "\t by frankenstein.mail.umich.edu (Cyrus v2.3.8) with LMTPA;\n",
      "\n",
      "\t Fri, 04 Jan 2008 06:08:27 -0500\n",
      "\n",
      "X-Sieve: CMU Sieve 2.3\n",
      "\n",
      "Received: from murder ([unix socket])\n",
      "\n",
      "\t by mail.umich.edu (Cyrus v2.2.12) with LMTPA;\n",
      "\n",
      "\t Fri, 04 Jan 2008 06:08:27 -0500\n",
      "\n",
      "Received: from firestarter.mr.itd.umich.edu (firestarter.mr.itd.umich.edu [141.211.14.83])\n",
      "\n",
      "\tby casino.mail.umich.edu () with ESMTP id m04B8Qw9001368;\n",
      "\n",
      "\tFri, 4 Jan 2008 06:08:26 -0500\n",
      "\n",
      "Received: FROM paploo.uhi.ac.uk (app1.prod.collab.uhi.ac.uk [194.35.219.184])\n",
      "\n",
      "\tBY firestarter.mr.itd.umich.edu ID 477E13A5.30FC0.24054 ; \n",
      "\n",
      "\t 4 Jan 2008 06:08:23 -0500\n",
      "\n",
      "Received: from paploo.uhi.ac.uk (localhost [127.0.0.1])\n",
      "\n",
      "\tby paploo.uhi.ac.uk (Postfix) with ESMTP id 784A476D7B;\n",
      "\n",
      "\tFri,  4 Jan 2008 11:08:12 +0000 (GMT)\n",
      "\n",
      "Message-ID: <200801041106.m04B6lK3006677@nakamura.uits.iupui.edu>\n",
      "\n",
      "Mime-Version: 1.0\n",
      "\n",
      "Content-Transfer-Encoding: 7bit\n",
      "\n",
      "Received: from prod.collab.uhi.ac.uk ([194.35.219.182])\n",
      "\n",
      "          by paploo.uhi.ac.uk (JAMES SMTP Server 2.1.3) with SMTP ID 585\n",
      "\n",
      "          for <source@collab.sakaiproject.org>;\n",
      "\n",
      "          Fri, 4 Jan 2008 11:07:56 +0000 (GMT)\n",
      "\n",
      "Received: from nakamura.uits.iupui.edu (nakamura.uits.iupui.edu [134.68.220.122])\n",
      "\n",
      "\tby shmi.uhi.ac.uk (Postfix) with ESMTP id 1CACC42D0C\n",
      "\n",
      "\tfor <source@collab.sakaiproject.org>; Fri,  4 Jan 2008 11:07:58 +0000 (GMT)\n",
      "\n",
      "Received: from nakamura.uits.iupui.edu (localhost [127.0.0.1])\n",
      "\n",
      "\tby nakamura.uits.iupui.edu (8.12.11.20060308/8.12.11) with ESMTP id m04B6lWM006679\n",
      "\n",
      "\tfor <source@collab.sakaiproject.org>; Fri, 4 Jan 2008 06:06:47 -0500\n",
      "\n",
      "Received: (from apache@localhost)\n",
      "\n",
      "\tby nakamura.uits.iupui.edu (8.12.11.20060308/8.12.11/Submit) id m04B6lK3006677\n",
      "\n",
      "\tfor source@collab.sakaiproject.org; Fri, 4 Jan 2008 06:06:47 -0500\n",
      "\n",
      "Date: Fri, 4 Jan 2008 06:06:47 -0500\n",
      "\n",
      "X-Authentication-Warning: nakamura.uits.iupui.edu: apache set sender to david.horwitz@uct.ac.za using -f\n",
      "\n",
      "To: source@collab.sakaiproject.org\n",
      "\n",
      "From: david.horwitz@uct.ac.za\n",
      "\n",
      "Subject: [sakai] svn commit: r39753 - in polls/trunk: . tool tool/src/java/org/sakaiproject/poll/tool tool/src/java/org/sakaiproject/poll/tool/evolvers tool/src/webapp/WEB-INF\n",
      "\n",
      "X-Content-Type-Outer-Envelope: text/plain; charset=UTF-8\n",
      "\n",
      "X-Content-Type-Message-Body: text/plain; charset=UTF-8\n",
      "\n",
      "Content-Type: text/plain; charset=UTF-8\n",
      "\n",
      "X-DSPAM-Result: Innocent\n",
      "\n",
      "X-DSPAM-Processed: Fri Jan  4 06:08:27 2008\n",
      "\n",
      "X-DSPAM-Confidence: 0.6948\n",
      "\n",
      "X-DSPAM-Probability: 0.0000\n",
      "\n",
      "\n",
      "\n",
      "Details: http://source.sakaiproject.org/viewsvn/?view=rev&rev=39753\n",
      "\n",
      "\n",
      "\n",
      "Author: david.horwitz@uct.ac.za\n",
      "\n",
      "Date: 2008-01-04 06:05:51 -0500 (Fri, 04 Jan 2008)\n",
      "\n",
      "New Revision: 39753\n",
      "\n",
      "\n",
      "\n",
      "Added:\n",
      "\n",
      "polls/trunk/tool/src/java/org/sakaiproject/poll/tool/evolvers/\n",
      "\n",
      "polls/trunk/tool/src/java/org/sakaiproject/poll/tool/evolvers/SakaiFCKTextEvolver.java\n",
      "\n",
      "Modified:\n",
      "\n",
      "polls/trunk/.classpath\n",
      "\n",
      "polls/trunk/tool/pom.xml\n",
      "\n",
      "polls/trunk/tool/src/webapp/WEB-INF/requestContext.xml\n",
      "\n",
      "Log:\n",
      "\n",
      "SAK-12228 implmented workaround sugested by AB - needs to be tested against a trunk build\n",
      "\n",
      "\n",
      "\n",
      "----------------------\n",
      "\n",
      "This automatic notification message was sent by Sakai Collab (https://collab.sakaiproject.org/portal) from the Source site.\n",
      "\n",
      "You can modify how you receive notifications at My Workspace > Preferences.\n",
      "\n",
      "\n",
      "\n",
      "\n",
      "\n",
      "\n",
      "\n",
      "From david.horwitz@uct.ac.za Fri Jan  4 04:49:08 2008\n",
      "\n",
      "Return-Path: <postmaster@collab.sakaiproject.org>\n",
      "\n",
      "Received: from murder (mail.umich.edu [141.211.14.92])\n",
      "\n",
      "\t by frankenstein.mail.umich.edu (Cyrus v2.3.8) with LMTPA;\n",
      "\n",
      "\t Fri, 04 Jan 2008 04:49:08 -0500\n",
      "\n",
      "X-Sieve: CMU Sieve 2.3\n",
      "\n",
      "Received: from murder ([unix socket])\n",
      "\n",
      "\t by mail.umich.edu (Cyrus v2.2.12) with LMTPA;\n",
      "\n",
      "\t Fri, 04 Jan 2008 04:49:08 -0500\n",
      "\n",
      "Received: from galaxyquest.mr.itd.umich.edu (galaxyquest.mr.itd.umich.edu [141.211.93.145])\n",
      "\n",
      "\tby score.mail.umich.edu () with ESMTP id m049n60G017588;\n",
      "\n",
      "\tFri, 4 Jan 2008 04:49:06 -0500\n",
      "\n",
      "Received: FROM paploo.uhi.ac.uk (app1.prod.collab.uhi.ac.uk [194.35.219.184])\n",
      "\n",
      "\tBY galaxyquest.mr.itd.umich.edu ID 477E010C.48C2.10259 ; \n",
      "\n",
      "\t 4 Jan 2008 04:49:03 -0500\n",
      "\n",
      "Received: from paploo.uhi.ac.uk (localhost [127.0.0.1])\n",
      "\n",
      "\tby paploo.uhi.ac.uk (Postfix) with ESMTP id 254CC8CDEE;\n",
      "\n",
      "\tFri,  4 Jan 2008 09:48:55 +0000 (GMT)\n",
      "\n",
      "Message-ID: <200801040947.m049lUxo006517@nakamura.uits.iupui.edu>\n",
      "\n",
      "Mime-Version: 1.0\n",
      "\n",
      "Content-Transfer-Encoding: 7bit\n",
      "\n",
      "Received: from prod.collab.uhi.ac.uk ([194.35.219.182])\n",
      "\n",
      "          by paploo.uhi.ac.uk (JAMES SMTP Server 2.1.3) with SMTP ID 246\n",
      "\n",
      "          for <source@collab.sakaiproject.org>;\n",
      "\n",
      "          Fri, 4 Jan 2008 09:48:36 +0000 (GMT)\n",
      "\n",
      "Received: from nakamura.uits.iupui.edu (nakamura.uits.iupui.edu [134.68.220.122])\n",
      "\n",
      "\tby shmi.uhi.ac.uk (Postfix) with ESMTP id 8C13342C92\n",
      "\n",
      "\tfor <source@collab.sakaiproject.org>; Fri,  4 Jan 2008 09:48:40 +0000 (GMT)\n",
      "\n",
      "Received: from nakamura.uits.iupui.edu (localhost [127.0.0.1])\n",
      "\n",
      "\tby nakamura.uits.iupui.edu (8.12.11.20060308/8.12.11) with ESMTP id m049lU3P006519\n",
      "\n",
      "\tfor <source@collab.sakaiproject.org>; Fri, 4 Jan 2008 04:47:30 -0500\n",
      "\n",
      "Received: (from apache@localhost)\n",
      "\n",
      "\tby nakamura.uits.iupui.edu (8.12.11.20060308/8.12.11/Submit) id m049lUxo006517\n",
      "\n",
      "\tfor source@collab.sakaiproject.org; Fri, 4 Jan 2008 04:47:30 -0500\n",
      "\n",
      "Date: Fri, 4 Jan 2008 04:47:30 -0500\n",
      "\n",
      "X-Authentication-Warning: nakamura.uits.iupui.edu: apache set sender to david.horwitz@uct.ac.za using -f\n",
      "\n",
      "To: source@collab.sakaiproject.org\n",
      "\n",
      "From: david.horwitz@uct.ac.za\n",
      "\n",
      "Subject: [sakai] svn commit: r39752 - in podcasts/branches/sakai_2-5-x/podcasts-app/src/webapp: css podcasts\n",
      "\n",
      "X-Content-Type-Outer-Envelope: text/plain; charset=UTF-8\n",
      "\n",
      "X-Content-Type-Message-Body: text/plain; charset=UTF-8\n",
      "\n",
      "Content-Type: text/plain; charset=UTF-8\n",
      "\n",
      "X-DSPAM-Result: Innocent\n",
      "\n",
      "X-DSPAM-Processed: Fri Jan  4 04:49:08 2008\n",
      "\n",
      "X-DSPAM-Confidence: 0.6528\n",
      "\n",
      "X-DSPAM-Probability: 0.0000\n",
      "\n",
      "\n",
      "\n",
      "Details: http://source.sakaiproject.org/viewsvn/?view=rev&rev=39752\n",
      "\n",
      "\n",
      "\n",
      "Author: david.horwitz@uct.ac.za\n",
      "\n",
      "Date: 2008-01-04 04:47:16 -0500 (Fri, 04 Jan 2008)\n",
      "\n",
      "New Revision: 39752\n",
      "\n",
      "\n",
      "\n",
      "Modified:\n",
      "\n",
      "podcasts/branches/sakai_2-5-x/podcasts-app/src/webapp/css/podcaster.css\n",
      "\n",
      "podcasts/branches/sakai_2-5-x/podcasts-app/src/webapp/podcasts/podMain.jsp\n",
      "\n",
      "Log:\n",
      "\n",
      "svn log -r39641 https://source.sakaiproject.org/svn/podcasts/trunk\n",
      "\n",
      "------------------------------------------------------------------------\n",
      "\n",
      "r39641 | josrodri@iupui.edu | 2007-12-28 23:44:24 +0200 (Fri, 28 Dec 2007) | 1 line\n",
      "\n",
      "\n",
      "\n",
      "SAK-9882: refactored podMain.jsp the right way (at least much closer to)\n",
      "\n",
      "------------------------------------------------------------------------\n",
      "\n",
      "\n",
      "\n",
      "dhorwitz@david-horwitz-6:~/branchManagemnt/sakai_2-5-x> svn merge  -c39641 https://source.sakaiproject.org/svn/podcasts/trunk podcasts/\n",
      "\n",
      "C    podcasts/podcasts-app/src/webapp/podcasts/podMain.jsp\n",
      "\n",
      "U    podcasts/podcasts-app/src/webapp/css/podcaster.css\n",
      "\n",
      "\n",
      "\n",
      "conflict merged manualy\n",
      "\n",
      "\n",
      "\n",
      "\n",
      "\n",
      "\n",
      "\n",
      "----------------------\n",
      "\n",
      "This automatic notification message was sent by Sakai Collab (https://collab.sakaiproject.org/portal) from the Source site.\n",
      "\n",
      "You can modify how you receive notifications at My Workspace > Preferences.\n",
      "\n",
      "\n",
      "\n",
      "\n",
      "\n",
      "\n",
      "\n",
      "From david.horwitz@uct.ac.za Fri Jan  4 04:33:44 2008\n",
      "\n",
      "Return-Path: <postmaster@collab.sakaiproject.org>\n",
      "\n",
      "Received: from murder (mail.umich.edu [141.211.14.46])\n",
      "\n",
      "\t by frankenstein.mail.umich.edu (Cyrus v2.3.8) with LMTPA;\n",
      "\n",
      "\t Fri, 04 Jan 2008 04:33:44 -0500\n",
      "\n",
      "X-Sieve: CMU Sieve 2.3\n",
      "\n",
      "Received: from murder ([unix socket])\n",
      "\n",
      "\t by mail.umich.edu (Cyrus v2.2.12) with LMTPA;\n",
      "\n",
      "\t Fri, 04 Jan 2008 04:33:44 -0500\n",
      "\n",
      "Received: from workinggirl.mr.itd.umich.edu (workinggirl.mr.itd.umich.edu [141.211.93.143])\n",
      "\n",
      "\tby fan.mail.umich.edu () with ESMTP id m049Xge3031803;\n",
      "\n",
      "\tFri, 4 Jan 2008 04:33:42 -0500\n",
      "\n",
      "Received: FROM paploo.uhi.ac.uk (app1.prod.collab.uhi.ac.uk [194.35.219.184])\n",
      "\n",
      "\tBY workinggirl.mr.itd.umich.edu ID 477DFD6C.75DBE.26054 ; \n",
      "\n",
      "\t 4 Jan 2008 04:33:35 -0500\n",
      "\n",
      "Received: from paploo.uhi.ac.uk (localhost [127.0.0.1])\n",
      "\n",
      "\tby paploo.uhi.ac.uk (Postfix) with ESMTP id 6C929BA656;\n",
      "\n",
      "\tFri,  4 Jan 2008 09:33:27 +0000 (GMT)\n",
      "\n",
      "Message-ID: <200801040932.m049W2i5006493@nakamura.uits.iupui.edu>\n",
      "\n",
      "Mime-Version: 1.0\n",
      "\n",
      "Content-Transfer-Encoding: 7bit\n",
      "\n",
      "Received: from prod.collab.uhi.ac.uk ([194.35.219.182])\n",
      "\n",
      "          by paploo.uhi.ac.uk (JAMES SMTP Server 2.1.3) with SMTP ID 153\n",
      "\n",
      "          for <source@collab.sakaiproject.org>;\n",
      "\n",
      "          Fri, 4 Jan 2008 09:33:10 +0000 (GMT)\n",
      "\n",
      "Received: from nakamura.uits.iupui.edu (nakamura.uits.iupui.edu [134.68.220.122])\n",
      "\n",
      "\tby shmi.uhi.ac.uk (Postfix) with ESMTP id 6C69423767\n",
      "\n",
      "\tfor <source@collab.sakaiproject.org>; Fri,  4 Jan 2008 09:33:13 +0000 (GMT)\n",
      "\n",
      "Received: from nakamura.uits.iupui.edu (localhost [127.0.0.1])\n",
      "\n",
      "\tby nakamura.uits.iupui.edu (8.12.11.20060308/8.12.11) with ESMTP id m049W3fl006495\n",
      "\n",
      "\tfor <source@collab.sakaiproject.org>; Fri, 4 Jan 2008 04:32:03 -0500\n",
      "\n",
      "Received: (from apache@localhost)\n",
      "\n",
      "\tby nakamura.uits.iupui.edu (8.12.11.20060308/8.12.11/Submit) id m049W2i5006493\n",
      "\n",
      "\tfor source@collab.sakaiproject.org; Fri, 4 Jan 2008 04:32:02 -0500\n",
      "\n",
      "Date: Fri, 4 Jan 2008 04:32:02 -0500\n",
      "\n",
      "X-Authentication-Warning: nakamura.uits.iupui.edu: apache set sender to david.horwitz@uct.ac.za using -f\n",
      "\n",
      "To: source@collab.sakaiproject.org\n",
      "\n",
      "From: david.horwitz@uct.ac.za\n",
      "\n",
      "Subject: [sakai] svn commit: r39751 - in podcasts/branches/sakai_2-5-x/podcasts-app/src/webapp: css images podcasts\n",
      "\n",
      "X-Content-Type-Outer-Envelope: text/plain; charset=UTF-8\n",
      "\n",
      "X-Content-Type-Message-Body: text/plain; charset=UTF-8\n",
      "\n",
      "Content-Type: text/plain; charset=UTF-8\n",
      "\n",
      "X-DSPAM-Result: Innocent\n",
      "\n",
      "X-DSPAM-Processed: Fri Jan  4 04:33:44 2008\n",
      "\n",
      "X-DSPAM-Confidence: 0.7002\n",
      "\n",
      "X-DSPAM-Probability: 0.0000\n",
      "\n",
      "\n",
      "\n",
      "Details: http://source.sakaiproject.org/viewsvn/?view=rev&rev=39751\n",
      "\n",
      "\n",
      "\n",
      "Author: david.horwitz@uct.ac.za\n",
      "\n",
      "Date: 2008-01-04 04:31:35 -0500 (Fri, 04 Jan 2008)\n",
      "\n",
      "New Revision: 39751\n",
      "\n",
      "\n",
      "\n",
      "Removed:\n",
      "\n",
      "podcasts/branches/sakai_2-5-x/podcasts-app/src/webapp/images/rss-feed-icon.png\n",
      "\n",
      "podcasts/branches/sakai_2-5-x/podcasts-app/src/webapp/podcasts/podPermissions.jsp\n",
      "\n",
      "Modified:\n",
      "\n",
      "podcasts/branches/sakai_2-5-x/podcasts-app/src/webapp/css/podcaster.css\n",
      "\n",
      "podcasts/branches/sakai_2-5-x/podcasts-app/src/webapp/podcasts/podDelete.jsp\n",
      "\n",
      "podcasts/branches/sakai_2-5-x/podcasts-app/src/webapp/podcasts/podMain.jsp\n",
      "\n",
      "podcasts/branches/sakai_2-5-x/podcasts-app/src/webapp/podcasts/podNoResource.jsp\n",
      "\n",
      "podcasts/branches/sakai_2-5-x/podcasts-app/src/webapp/podcasts/podOptions.jsp\n",
      "\n",
      "Log:\n",
      "\n",
      "svn log -r39146 https://source.sakaiproject.org/svn/podcasts/trunk\n",
      "\n",
      "------------------------------------------------------------------------\n",
      "\n",
      "r39146 | josrodri@iupui.edu | 2007-12-12 21:40:33 +0200 (Wed, 12 Dec 2007) | 1 line\n",
      "\n",
      "\n",
      "\n",
      "SAK-9882: refactored the other pages as well to take advantage of proper jsp components as well as validation cleanup.\n",
      "\n",
      "------------------------------------------------------------------------\n",
      "\n",
      "dhorwitz@david-horwitz-6:~/branchManagemnt/sakai_2-5-x> svn merge -c39146 https://source.sakaiproject.org/svn/podcasts/trunk podcasts/\n",
      "\n",
      "D    podcasts/podcasts-app/src/webapp/podcasts/podPermissions.jsp\n",
      "\n",
      "U    podcasts/podcasts-app/src/webapp/podcasts/podDelete.jsp\n",
      "\n",
      "U    podcasts/podcasts-app/src/webapp/podcasts/podMain.jsp\n",
      "\n",
      "U    podcasts/podcasts-app/src/webapp/podcasts/podNoResource.jsp\n",
      "\n",
      "U    podcasts/podcasts-app/src/webapp/podcasts/podOptions.jsp\n",
      "\n",
      "D    podcasts/podcasts-app/src/webapp/images/rss-feed-icon.png\n",
      "\n",
      "U    podcasts/podcasts-app/src/webapp/css/podcaster.css\n",
      "\n",
      "\n",
      "\n",
      "\n",
      "\n",
      "\n",
      "\n",
      "----------------------\n",
      "\n",
      "This automatic notification message was sent by Sakai Collab (https://collab.sakaiproject.org/portal) from the Source site.\n",
      "\n",
      "You can modify how you receive notifications at My Workspace > Preferences.\n",
      "\n",
      "\n",
      "\n",
      "\n",
      "\n",
      "\n",
      "\n",
      "From stephen.marquard@uct.ac.za Fri Jan  4 04:07:34 2008\n",
      "\n",
      "Return-Path: <postmaster@collab.sakaiproject.org>\n",
      "\n",
      "Received: from murder (mail.umich.edu [141.211.14.25])\n",
      "\n",
      "\t by frankenstein.mail.umich.edu (Cyrus v2.3.8) with LMTPA;\n",
      "\n",
      "\t Fri, 04 Jan 2008 04:07:34 -0500\n",
      "\n",
      "X-Sieve: CMU Sieve 2.3\n",
      "\n",
      "Received: from murder ([unix socket])\n",
      "\n",
      "\t by mail.umich.edu (Cyrus v2.2.12) with LMTPA;\n",
      "\n",
      "\t Fri, 04 Jan 2008 04:07:34 -0500\n",
      "\n",
      "Received: from salemslot.mr.itd.umich.edu (salemslot.mr.itd.umich.edu [141.211.14.58])\n",
      "\n",
      "\tby panther.mail.umich.edu () with ESMTP id m0497WAN027902;\n",
      "\n",
      "\tFri, 4 Jan 2008 04:07:32 -0500\n",
      "\n",
      "Received: FROM paploo.uhi.ac.uk (app1.prod.collab.uhi.ac.uk [194.35.219.184])\n",
      "\n",
      "\tBY salemslot.mr.itd.umich.edu ID 477DF74E.49493.30415 ; \n",
      "\n",
      "\t 4 Jan 2008 04:07:29 -0500\n",
      "\n",
      "Received: from paploo.uhi.ac.uk (localhost [127.0.0.1])\n",
      "\n",
      "\tby paploo.uhi.ac.uk (Postfix) with ESMTP id 88598BA5B6;\n",
      "\n",
      "\tFri,  4 Jan 2008 09:07:19 +0000 (GMT)\n",
      "\n",
      "Message-ID: <200801040905.m0495rWB006420@nakamura.uits.iupui.edu>\n",
      "\n",
      "Mime-Version: 1.0\n",
      "\n",
      "Content-Transfer-Encoding: 7bit\n",
      "\n",
      "Received: from prod.collab.uhi.ac.uk ([194.35.219.182])\n",
      "\n",
      "          by paploo.uhi.ac.uk (JAMES SMTP Server 2.1.3) with SMTP ID 385\n",
      "\n",
      "          for <source@collab.sakaiproject.org>;\n",
      "\n",
      "          Fri, 4 Jan 2008 09:07:04 +0000 (GMT)\n",
      "\n",
      "Received: from nakamura.uits.iupui.edu (nakamura.uits.iupui.edu [134.68.220.122])\n",
      "\n",
      "\tby shmi.uhi.ac.uk (Postfix) with ESMTP id 90636418A8\n",
      "\n",
      "\tfor <source@collab.sakaiproject.org>; Fri,  4 Jan 2008 09:07:04 +0000 (GMT)\n",
      "\n",
      "Received: from nakamura.uits.iupui.edu (localhost [127.0.0.1])\n",
      "\n",
      "\tby nakamura.uits.iupui.edu (8.12.11.20060308/8.12.11) with ESMTP id m0495sZs006422\n",
      "\n",
      "\tfor <source@collab.sakaiproject.org>; Fri, 4 Jan 2008 04:05:54 -0500\n",
      "\n",
      "Received: (from apache@localhost)\n",
      "\n",
      "\tby nakamura.uits.iupui.edu (8.12.11.20060308/8.12.11/Submit) id m0495rWB006420\n",
      "\n",
      "\tfor source@collab.sakaiproject.org; Fri, 4 Jan 2008 04:05:53 -0500\n",
      "\n",
      "Date: Fri, 4 Jan 2008 04:05:53 -0500\n",
      "\n",
      "X-Authentication-Warning: nakamura.uits.iupui.edu: apache set sender to stephen.marquard@uct.ac.za using -f\n",
      "\n",
      "To: source@collab.sakaiproject.org\n",
      "\n",
      "From: stephen.marquard@uct.ac.za\n",
      "\n",
      "Subject: [sakai] svn commit: r39750 - event/branches/SAK-6216/event-util/util/src/java/org/sakaiproject/util\n",
      "\n",
      "X-Content-Type-Outer-Envelope: text/plain; charset=UTF-8\n",
      "\n",
      "X-Content-Type-Message-Body: text/plain; charset=UTF-8\n",
      "\n",
      "Content-Type: text/plain; charset=UTF-8\n",
      "\n",
      "X-DSPAM-Result: Innocent\n",
      "\n",
      "X-DSPAM-Processed: Fri Jan  4 04:07:34 2008\n",
      "\n",
      "X-DSPAM-Confidence: 0.7554\n",
      "\n",
      "X-DSPAM-Probability: 0.0000\n",
      "\n",
      "\n",
      "\n",
      "Details: http://source.sakaiproject.org/viewsvn/?view=rev&rev=39750\n",
      "\n",
      "\n",
      "\n",
      "Author: stephen.marquard@uct.ac.za\n",
      "\n",
      "Date: 2008-01-04 04:05:43 -0500 (Fri, 04 Jan 2008)\n",
      "\n",
      "New Revision: 39750\n",
      "\n",
      "\n",
      "\n",
      "Modified:\n",
      "\n",
      "event/branches/SAK-6216/event-util/util/src/java/org/sakaiproject/util/EmailNotification.java\n",
      "\n",
      "Log:\n",
      "\n",
      "SAK-6216 merge event change from SAK-11169 (r39033) to synchronize branch with 2-5-x (for convenience for UCT local build)\n",
      "\n",
      "\n",
      "\n",
      "----------------------\n",
      "\n",
      "This automatic notification message was sent by Sakai Collab (https://collab.sakaiproject.org/portal) from the Source site.\n",
      "\n",
      "You can modify how you receive notifications at My Workspace > Preferences.\n",
      "\n",
      "\n",
      "\n",
      "\n",
      "\n",
      "\n",
      "\n",
      "From louis@media.berkeley.edu Thu Jan  3 19:51:21 2008\n",
      "\n",
      "Return-Path: <postmaster@collab.sakaiproject.org>\n",
      "\n",
      "Received: from murder (mail.umich.edu [141.211.14.91])\n",
      "\n",
      "\t by frankenstein.mail.umich.edu (Cyrus v2.3.8) with LMTPA;\n",
      "\n",
      "\t Thu, 03 Jan 2008 19:51:21 -0500\n",
      "\n",
      "X-Sieve: CMU Sieve 2.3\n",
      "\n",
      "Received: from murder ([unix socket])\n",
      "\n",
      "\t by mail.umich.edu (Cyrus v2.2.12) with LMTPA;\n",
      "\n",
      "\t Thu, 03 Jan 2008 19:51:21 -0500\n",
      "\n",
      "Received: from eyewitness.mr.itd.umich.edu (eyewitness.mr.itd.umich.edu [141.211.93.142])\n",
      "\n",
      "\tby jacknife.mail.umich.edu () with ESMTP id m040pJHB027171;\n",
      "\n",
      "\tThu, 3 Jan 2008 19:51:19 -0500\n",
      "\n",
      "Received: FROM paploo.uhi.ac.uk (app1.prod.collab.uhi.ac.uk [194.35.219.184])\n",
      "\n",
      "\tBY eyewitness.mr.itd.umich.edu ID 477D8300.AC098.32562 ; \n",
      "\n",
      "\t 3 Jan 2008 19:51:15 -0500\n",
      "\n",
      "Received: from paploo.uhi.ac.uk (localhost [127.0.0.1])\n",
      "\n",
      "\tby paploo.uhi.ac.uk (Postfix) with ESMTP id E6CC4B9F8A;\n",
      "\n",
      "\tFri,  4 Jan 2008 00:36:06 +0000 (GMT)\n",
      "\n",
      "Message-ID: <200801040023.m040NpCc005473@nakamura.uits.iupui.edu>\n",
      "\n",
      "Mime-Version: 1.0\n",
      "\n",
      "Content-Transfer-Encoding: 7bit\n",
      "\n",
      "Received: from prod.collab.uhi.ac.uk ([194.35.219.182])\n",
      "\n",
      "          by paploo.uhi.ac.uk (JAMES SMTP Server 2.1.3) with SMTP ID 754\n",
      "\n",
      "          for <source@collab.sakaiproject.org>;\n",
      "\n",
      "          Fri, 4 Jan 2008 00:35:43 +0000 (GMT)\n",
      "\n",
      "Received: from nakamura.uits.iupui.edu (nakamura.uits.iupui.edu [134.68.220.122])\n",
      "\n",
      "\tby shmi.uhi.ac.uk (Postfix) with ESMTP id 8889842C49\n",
      "\n",
      "\tfor <source@collab.sakaiproject.org>; Fri,  4 Jan 2008 00:25:00 +0000 (GMT)\n",
      "\n",
      "Received: from nakamura.uits.iupui.edu (localhost [127.0.0.1])\n",
      "\n",
      "\tby nakamura.uits.iupui.edu (8.12.11.20060308/8.12.11) with ESMTP id m040NpgM005475\n",
      "\n",
      "\tfor <source@collab.sakaiproject.org>; Thu, 3 Jan 2008 19:23:51 -0500\n",
      "\n",
      "Received: (from apache@localhost)\n",
      "\n",
      "\tby nakamura.uits.iupui.edu (8.12.11.20060308/8.12.11/Submit) id m040NpCc005473\n",
      "\n",
      "\tfor source@collab.sakaiproject.org; Thu, 3 Jan 2008 19:23:51 -0500\n",
      "\n",
      "Date: Thu, 3 Jan 2008 19:23:51 -0500\n",
      "\n",
      "X-Authentication-Warning: nakamura.uits.iupui.edu: apache set sender to louis@media.berkeley.edu using -f\n",
      "\n",
      "To: source@collab.sakaiproject.org\n",
      "\n",
      "From: louis@media.berkeley.edu\n",
      "\n",
      "Subject: [sakai] svn commit: r39749 - in bspace/site-manage/sakai_2-4-x/site-manage-tool/tool/src: bundle webapp/vm/sitesetup\n",
      "\n",
      "X-Content-Type-Outer-Envelope: text/plain; charset=UTF-8\n",
      "\n",
      "X-Content-Type-Message-Body: text/plain; charset=UTF-8\n",
      "\n",
      "Content-Type: text/plain; charset=UTF-8\n",
      "\n",
      "X-DSPAM-Result: Innocent\n",
      "\n",
      "X-DSPAM-Processed: Thu Jan  3 19:51:20 2008\n",
      "\n",
      "X-DSPAM-Confidence: 0.6956\n",
      "\n",
      "X-DSPAM-Probability: 0.0000\n",
      "\n",
      "\n",
      "\n",
      "Details: http://source.sakaiproject.org/viewsvn/?view=rev&rev=39749\n",
      "\n",
      "\n",
      "\n",
      "Author: louis@media.berkeley.edu\n",
      "\n",
      "Date: 2008-01-03 19:23:46 -0500 (Thu, 03 Jan 2008)\n",
      "\n",
      "New Revision: 39749\n",
      "\n",
      "\n",
      "\n",
      "Modified:\n",
      "\n",
      "bspace/site-manage/sakai_2-4-x/site-manage-tool/tool/src/bundle/sitesetupgeneric.properties\n",
      "\n",
      "bspace/site-manage/sakai_2-4-x/site-manage-tool/tool/src/webapp/vm/sitesetup/chef_site-importSites.vm\n",
      "\n",
      "Log:\n",
      "\n",
      "BSP-1420 Update text to clarify \"Re-Use Materials...\" option in WS Setup\n",
      "\n",
      "\n",
      "\n",
      "----------------------\n",
      "\n",
      "This automatic notification message was sent by Sakai Collab (https://collab.sakaiproject.org/portal) from the Source site.\n",
      "\n",
      "You can modify how you receive notifications at My Workspace > Preferences.\n",
      "\n",
      "\n",
      "\n",
      "\n",
      "\n",
      "\n",
      "\n",
      "From louis@media.berkeley.edu Thu Jan  3 17:18:23 2008\n",
      "\n",
      "Return-Path: <postmaster@collab.sakaiproject.org>\n",
      "\n",
      "Received: from murder (mail.umich.edu [141.211.14.91])\n",
      "\n",
      "\t by frankenstein.mail.umich.edu (Cyrus v2.3.8) with LMTPA;\n",
      "\n",
      "\t Thu, 03 Jan 2008 17:18:23 -0500\n",
      "\n",
      "X-Sieve: CMU Sieve 2.3\n",
      "\n",
      "Received: from murder ([unix socket])\n",
      "\n",
      "\t by mail.umich.edu (Cyrus v2.2.12) with LMTPA;\n",
      "\n",
      "\t Thu, 03 Jan 2008 17:18:23 -0500\n",
      "\n",
      "Received: from salemslot.mr.itd.umich.edu (salemslot.mr.itd.umich.edu [141.211.14.58])\n",
      "\n",
      "\tby jacknife.mail.umich.edu () with ESMTP id m03MIMXY027729;\n",
      "\n",
      "\tThu, 3 Jan 2008 17:18:22 -0500\n",
      "\n",
      "Received: FROM paploo.uhi.ac.uk (app1.prod.collab.uhi.ac.uk [194.35.219.184])\n",
      "\n",
      "\tBY salemslot.mr.itd.umich.edu ID 477D5F23.797F6.16348 ; \n",
      "\n",
      "\t 3 Jan 2008 17:18:14 -0500\n",
      "\n",
      "Received: from paploo.uhi.ac.uk (localhost [127.0.0.1])\n",
      "\n",
      "\tby paploo.uhi.ac.uk (Postfix) with ESMTP id EF439B98CE;\n",
      "\n",
      "\tThu,  3 Jan 2008 22:18:19 +0000 (GMT)\n",
      "\n",
      "Message-ID: <200801032216.m03MGhDa005292@nakamura.uits.iupui.edu>\n",
      "\n",
      "Mime-Version: 1.0\n",
      "\n",
      "Content-Transfer-Encoding: 7bit\n",
      "\n",
      "Received: from prod.collab.uhi.ac.uk ([194.35.219.182])\n",
      "\n",
      "          by paploo.uhi.ac.uk (JAMES SMTP Server 2.1.3) with SMTP ID 236\n",
      "\n",
      "          for <source@collab.sakaiproject.org>;\n",
      "\n",
      "          Thu, 3 Jan 2008 22:18:04 +0000 (GMT)\n",
      "\n",
      "Received: from nakamura.uits.iupui.edu (nakamura.uits.iupui.edu [134.68.220.122])\n",
      "\n",
      "\tby shmi.uhi.ac.uk (Postfix) with ESMTP id 905D53C2FD\n",
      "\n",
      "\tfor <source@collab.sakaiproject.org>; Thu,  3 Jan 2008 22:17:52 +0000 (GMT)\n",
      "\n",
      "Received: from nakamura.uits.iupui.edu (localhost [127.0.0.1])\n",
      "\n",
      "\tby nakamura.uits.iupui.edu (8.12.11.20060308/8.12.11) with ESMTP id m03MGhrs005294\n",
      "\n",
      "\tfor <source@collab.sakaiproject.org>; Thu, 3 Jan 2008 17:16:43 -0500\n",
      "\n",
      "Received: (from apache@localhost)\n",
      "\n",
      "\tby nakamura.uits.iupui.edu (8.12.11.20060308/8.12.11/Submit) id m03MGhDa005292\n",
      "\n",
      "\tfor source@collab.sakaiproject.org; Thu, 3 Jan 2008 17:16:43 -0500\n",
      "\n",
      "Date: Thu, 3 Jan 2008 17:16:43 -0500\n",
      "\n",
      "X-Authentication-Warning: nakamura.uits.iupui.edu: apache set sender to louis@media.berkeley.edu using -f\n",
      "\n",
      "To: source@collab.sakaiproject.org\n",
      "\n",
      "From: louis@media.berkeley.edu\n",
      "\n",
      "Subject: [sakai] svn commit: r39746 - in bspace/site-manage/sakai_2-4-x/site-manage-tool/tool/src: bundle webapp/vm/sitesetup\n",
      "\n",
      "X-Content-Type-Outer-Envelope: text/plain; charset=UTF-8\n",
      "\n",
      "X-Content-Type-Message-Body: text/plain; charset=UTF-8\n",
      "\n",
      "Content-Type: text/plain; charset=UTF-8\n",
      "\n",
      "X-DSPAM-Result: Innocent\n",
      "\n",
      "X-DSPAM-Processed: Thu Jan  3 17:18:23 2008\n",
      "\n",
      "X-DSPAM-Confidence: 0.6959\n",
      "\n",
      "X-DSPAM-Probability: 0.0000\n",
      "\n",
      "\n",
      "\n",
      "Details: http://source.sakaiproject.org/viewsvn/?view=rev&rev=39746\n",
      "\n",
      "\n",
      "\n",
      "Author: louis@media.berkeley.edu\n",
      "\n",
      "Date: 2008-01-03 17:16:39 -0500 (Thu, 03 Jan 2008)\n",
      "\n",
      "New Revision: 39746\n",
      "\n",
      "\n",
      "\n",
      "Modified:\n",
      "\n",
      "bspace/site-manage/sakai_2-4-x/site-manage-tool/tool/src/bundle/sitesetupgeneric.properties\n",
      "\n",
      "bspace/site-manage/sakai_2-4-x/site-manage-tool/tool/src/webapp/vm/sitesetup/chef_site-siteInfo-duplicate.vm\n",
      "\n",
      "Log:\n",
      "\n",
      "BSP-1421 Add text to clarify \"Duplicate Site\" option in Site Info\n",
      "\n",
      "\n",
      "\n",
      "----------------------\n",
      "\n",
      "This automatic notification message was sent by Sakai Collab (https://collab.sakaiproject.org/portal) from the Source site.\n",
      "\n",
      "You can modify how you receive notifications at My Workspace > Preferences.\n",
      "\n",
      "\n",
      "\n",
      "\n",
      "\n",
      "\n",
      "\n",
      "From ray@media.berkeley.edu Thu Jan  3 17:07:00 2008\n",
      "\n",
      "Return-Path: <postmaster@collab.sakaiproject.org>\n",
      "\n",
      "Received: from murder (mail.umich.edu [141.211.14.39])\n",
      "\n",
      "\t by frankenstein.mail.umich.edu (Cyrus v2.3.8) with LMTPA;\n",
      "\n",
      "\t Thu, 03 Jan 2008 17:07:00 -0500\n",
      "\n",
      "X-Sieve: CMU Sieve 2.3\n",
      "\n",
      "Received: from murder ([unix socket])\n",
      "\n",
      "\t by mail.umich.edu (Cyrus v2.2.12) with LMTPA;\n",
      "\n",
      "\t Thu, 03 Jan 2008 17:07:00 -0500\n",
      "\n",
      "Received: from anniehall.mr.itd.umich.edu (anniehall.mr.itd.umich.edu [141.211.93.141])\n",
      "\n",
      "\tby faithful.mail.umich.edu () with ESMTP id m03M6xaq014868;\n",
      "\n",
      "\tThu, 3 Jan 2008 17:06:59 -0500\n",
      "\n",
      "Received: FROM paploo.uhi.ac.uk (app1.prod.collab.uhi.ac.uk [194.35.219.184])\n",
      "\n",
      "\tBY anniehall.mr.itd.umich.edu ID 477D5C7A.4FE1F.22211 ; \n",
      "\n",
      "\t 3 Jan 2008 17:06:53 -0500\n",
      "\n",
      "Received: from paploo.uhi.ac.uk (localhost [127.0.0.1])\n",
      "\n",
      "\tby paploo.uhi.ac.uk (Postfix) with ESMTP id 0BC8D7225E;\n",
      "\n",
      "\tThu,  3 Jan 2008 22:06:57 +0000 (GMT)\n",
      "\n",
      "Message-ID: <200801032205.m03M5Ea7005273@nakamura.uits.iupui.edu>\n",
      "\n",
      "Mime-Version: 1.0\n",
      "\n",
      "Content-Transfer-Encoding: 7bit\n",
      "\n",
      "Received: from prod.collab.uhi.ac.uk ([194.35.219.182])\n",
      "\n",
      "          by paploo.uhi.ac.uk (JAMES SMTP Server 2.1.3) with SMTP ID 554\n",
      "\n",
      "          for <source@collab.sakaiproject.org>;\n",
      "\n",
      "          Thu, 3 Jan 2008 22:06:34 +0000 (GMT)\n",
      "\n",
      "Received: from nakamura.uits.iupui.edu (nakamura.uits.iupui.edu [134.68.220.122])\n",
      "\n",
      "\tby shmi.uhi.ac.uk (Postfix) with ESMTP id 2AB513C2FD\n",
      "\n",
      "\tfor <source@collab.sakaiproject.org>; Thu,  3 Jan 2008 22:06:23 +0000 (GMT)\n",
      "\n",
      "Received: from nakamura.uits.iupui.edu (localhost [127.0.0.1])\n",
      "\n",
      "\tby nakamura.uits.iupui.edu (8.12.11.20060308/8.12.11) with ESMTP id m03M5EQa005275\n",
      "\n",
      "\tfor <source@collab.sakaiproject.org>; Thu, 3 Jan 2008 17:05:14 -0500\n",
      "\n",
      "Received: (from apache@localhost)\n",
      "\n",
      "\tby nakamura.uits.iupui.edu (8.12.11.20060308/8.12.11/Submit) id m03M5Ea7005273\n",
      "\n",
      "\tfor source@collab.sakaiproject.org; Thu, 3 Jan 2008 17:05:14 -0500\n",
      "\n",
      "Date: Thu, 3 Jan 2008 17:05:14 -0500\n",
      "\n",
      "X-Authentication-Warning: nakamura.uits.iupui.edu: apache set sender to ray@media.berkeley.edu using -f\n",
      "\n",
      "To: source@collab.sakaiproject.org\n",
      "\n",
      "From: ray@media.berkeley.edu\n",
      "\n",
      "Subject: [sakai] svn commit: r39745 - providers/trunk/cm/cm-authz-provider/src/java/org/sakaiproject/coursemanagement/impl/provider\n",
      "\n",
      "X-Content-Type-Outer-Envelope: text/plain; charset=UTF-8\n",
      "\n",
      "X-Content-Type-Message-Body: text/plain; charset=UTF-8\n",
      "\n",
      "Content-Type: text/plain; charset=UTF-8\n",
      "\n",
      "X-DSPAM-Result: Innocent\n",
      "\n",
      "X-DSPAM-Processed: Thu Jan  3 17:07:00 2008\n",
      "\n",
      "X-DSPAM-Confidence: 0.7556\n",
      "\n",
      "X-DSPAM-Probability: 0.0000\n",
      "\n",
      "\n",
      "\n",
      "Details: http://source.sakaiproject.org/viewsvn/?view=rev&rev=39745\n",
      "\n",
      "\n",
      "\n",
      "Author: ray@media.berkeley.edu\n",
      "\n",
      "Date: 2008-01-03 17:05:11 -0500 (Thu, 03 Jan 2008)\n",
      "\n",
      "New Revision: 39745\n",
      "\n",
      "\n",
      "\n",
      "Modified:\n",
      "\n",
      "providers/trunk/cm/cm-authz-provider/src/java/org/sakaiproject/coursemanagement/impl/provider/CourseManagementGroupProvider.java\n",
      "\n",
      "Log:\n",
      "\n",
      "SAK-12602 Fix logic when a user has multiple roles in a section\n",
      "\n",
      "\n",
      "\n",
      "----------------------\n",
      "\n",
      "This automatic notification message was sent by Sakai Collab (https://collab.sakaiproject.org/portal) from the Source site.\n",
      "\n",
      "You can modify how you receive notifications at My Workspace > Preferences.\n",
      "\n",
      "\n",
      "\n",
      "\n",
      "\n",
      "\n",
      "\n",
      "From cwen@iupui.edu Thu Jan  3 16:34:40 2008\n",
      "\n",
      "Return-Path: <postmaster@collab.sakaiproject.org>\n",
      "\n",
      "Received: from murder (mail.umich.edu [141.211.14.34])\n",
      "\n",
      "\t by frankenstein.mail.umich.edu (Cyrus v2.3.8) with LMTPA;\n",
      "\n",
      "\t Thu, 03 Jan 2008 16:34:40 -0500\n",
      "\n",
      "X-Sieve: CMU Sieve 2.3\n",
      "\n",
      "Received: from murder ([unix socket])\n",
      "\n",
      "\t by mail.umich.edu (Cyrus v2.2.12) with LMTPA;\n",
      "\n",
      "\t Thu, 03 Jan 2008 16:34:40 -0500\n",
      "\n",
      "Received: from icestorm.mr.itd.umich.edu (icestorm.mr.itd.umich.edu [141.211.93.149])\n",
      "\n",
      "\tby chaos.mail.umich.edu () with ESMTP id m03LYdY1029538;\n",
      "\n",
      "\tThu, 3 Jan 2008 16:34:39 -0500\n",
      "\n",
      "Received: FROM paploo.uhi.ac.uk (app1.prod.collab.uhi.ac.uk [194.35.219.184])\n",
      "\n",
      "\tBY icestorm.mr.itd.umich.edu ID 477D54EA.13F34.26602 ; \n",
      "\n",
      "\t 3 Jan 2008 16:34:36 -0500\n",
      "\n",
      "Received: from paploo.uhi.ac.uk (localhost [127.0.0.1])\n",
      "\n",
      "\tby paploo.uhi.ac.uk (Postfix) with ESMTP id CC710ADC79;\n",
      "\n",
      "\tThu,  3 Jan 2008 21:34:29 +0000 (GMT)\n",
      "\n",
      "Message-ID: <200801032133.m03LX3gG005191@nakamura.uits.iupui.edu>\n",
      "\n",
      "Mime-Version: 1.0\n",
      "\n",
      "Content-Transfer-Encoding: 7bit\n",
      "\n",
      "Received: from prod.collab.uhi.ac.uk ([194.35.219.182])\n",
      "\n",
      "          by paploo.uhi.ac.uk (JAMES SMTP Server 2.1.3) with SMTP ID 611\n",
      "\n",
      "          for <source@collab.sakaiproject.org>;\n",
      "\n",
      "          Thu, 3 Jan 2008 21:34:08 +0000 (GMT)\n",
      "\n",
      "Received: from nakamura.uits.iupui.edu (nakamura.uits.iupui.edu [134.68.220.122])\n",
      "\n",
      "\tby shmi.uhi.ac.uk (Postfix) with ESMTP id 43C4242B55\n",
      "\n",
      "\tfor <source@collab.sakaiproject.org>; Thu,  3 Jan 2008 21:34:12 +0000 (GMT)\n",
      "\n",
      "Received: from nakamura.uits.iupui.edu (localhost [127.0.0.1])\n",
      "\n",
      "\tby nakamura.uits.iupui.edu (8.12.11.20060308/8.12.11) with ESMTP id m03LX3Vb005193\n",
      "\n",
      "\tfor <source@collab.sakaiproject.org>; Thu, 3 Jan 2008 16:33:03 -0500\n",
      "\n",
      "Received: (from apache@localhost)\n",
      "\n",
      "\tby nakamura.uits.iupui.edu (8.12.11.20060308/8.12.11/Submit) id m03LX3gG005191\n",
      "\n",
      "\tfor source@collab.sakaiproject.org; Thu, 3 Jan 2008 16:33:03 -0500\n",
      "\n",
      "Date: Thu, 3 Jan 2008 16:33:03 -0500\n",
      "\n",
      "X-Authentication-Warning: nakamura.uits.iupui.edu: apache set sender to cwen@iupui.edu using -f\n",
      "\n",
      "To: source@collab.sakaiproject.org\n",
      "\n",
      "From: cwen@iupui.edu\n",
      "\n",
      "Subject: [sakai] svn commit: r39744 - oncourse/branches/oncourse_OPC_122007\n",
      "\n",
      "X-Content-Type-Outer-Envelope: text/plain; charset=UTF-8\n",
      "\n",
      "X-Content-Type-Message-Body: text/plain; charset=UTF-8\n",
      "\n",
      "Content-Type: text/plain; charset=UTF-8\n",
      "\n",
      "X-DSPAM-Result: Innocent\n",
      "\n",
      "X-DSPAM-Processed: Thu Jan  3 16:34:40 2008\n",
      "\n",
      "X-DSPAM-Confidence: 0.9846\n",
      "\n",
      "X-DSPAM-Probability: 0.0000\n",
      "\n",
      "\n",
      "\n",
      "Details: http://source.sakaiproject.org/viewsvn/?view=rev&rev=39744\n",
      "\n",
      "\n",
      "\n",
      "Author: cwen@iupui.edu\n",
      "\n",
      "Date: 2008-01-03 16:33:02 -0500 (Thu, 03 Jan 2008)\n",
      "\n",
      "New Revision: 39744\n",
      "\n",
      "\n",
      "\n",
      "Modified:\n",
      "\n",
      "oncourse/branches/oncourse_OPC_122007/\n",
      "\n",
      "oncourse/branches/oncourse_OPC_122007/.externals\n",
      "\n",
      "Log:\n",
      "\n",
      "update external for GB.\n",
      "\n",
      "\n",
      "\n",
      "----------------------\n",
      "\n",
      "This automatic notification message was sent by Sakai Collab (https://collab.sakaiproject.org/portal) from the Source site.\n",
      "\n",
      "You can modify how you receive notifications at My Workspace > Preferences.\n",
      "\n",
      "\n",
      "\n",
      "\n",
      "\n",
      "\n",
      "\n",
      "From cwen@iupui.edu Thu Jan  3 16:29:07 2008\n",
      "\n",
      "Return-Path: <postmaster@collab.sakaiproject.org>\n",
      "\n",
      "Received: from murder (mail.umich.edu [141.211.14.46])\n",
      "\n",
      "\t by frankenstein.mail.umich.edu (Cyrus v2.3.8) with LMTPA;\n",
      "\n",
      "\t Thu, 03 Jan 2008 16:29:07 -0500\n",
      "\n",
      "X-Sieve: CMU Sieve 2.3\n",
      "\n",
      "Received: from murder ([unix socket])\n",
      "\n",
      "\t by mail.umich.edu (Cyrus v2.2.12) with LMTPA;\n",
      "\n",
      "\t Thu, 03 Jan 2008 16:29:07 -0500\n",
      "\n",
      "Received: from galaxyquest.mr.itd.umich.edu (galaxyquest.mr.itd.umich.edu [141.211.93.145])\n",
      "\n",
      "\tby fan.mail.umich.edu () with ESMTP id m03LT6uw027749;\n",
      "\n",
      "\tThu, 3 Jan 2008 16:29:06 -0500\n",
      "\n",
      "Received: FROM paploo.uhi.ac.uk (app1.prod.collab.uhi.ac.uk [194.35.219.184])\n",
      "\n",
      "\tBY galaxyquest.mr.itd.umich.edu ID 477D5397.E161D.20326 ; \n",
      "\n",
      "\t 3 Jan 2008 16:28:58 -0500\n",
      "\n",
      "Received: from paploo.uhi.ac.uk (localhost [127.0.0.1])\n",
      "\n",
      "\tby paploo.uhi.ac.uk (Postfix) with ESMTP id DEC65ADC79;\n",
      "\n",
      "\tThu,  3 Jan 2008 21:28:52 +0000 (GMT)\n",
      "\n",
      "Message-ID: <200801032127.m03LRUqH005177@nakamura.uits.iupui.edu>\n",
      "\n",
      "Mime-Version: 1.0\n",
      "\n",
      "Content-Transfer-Encoding: 7bit\n",
      "\n",
      "Received: from prod.collab.uhi.ac.uk ([194.35.219.182])\n",
      "\n",
      "          by paploo.uhi.ac.uk (JAMES SMTP Server 2.1.3) with SMTP ID 917\n",
      "\n",
      "          for <source@collab.sakaiproject.org>;\n",
      "\n",
      "          Thu, 3 Jan 2008 21:28:39 +0000 (GMT)\n",
      "\n",
      "Received: from nakamura.uits.iupui.edu (nakamura.uits.iupui.edu [134.68.220.122])\n",
      "\n",
      "\tby shmi.uhi.ac.uk (Postfix) with ESMTP id 1FBB042B30\n",
      "\n",
      "\tfor <source@collab.sakaiproject.org>; Thu,  3 Jan 2008 21:28:38 +0000 (GMT)\n",
      "\n",
      "Received: from nakamura.uits.iupui.edu (localhost [127.0.0.1])\n",
      "\n",
      "\tby nakamura.uits.iupui.edu (8.12.11.20060308/8.12.11) with ESMTP id m03LRUk4005179\n",
      "\n",
      "\tfor <source@collab.sakaiproject.org>; Thu, 3 Jan 2008 16:27:30 -0500\n",
      "\n",
      "Received: (from apache@localhost)\n",
      "\n",
      "\tby nakamura.uits.iupui.edu (8.12.11.20060308/8.12.11/Submit) id m03LRUqH005177\n",
      "\n",
      "\tfor source@collab.sakaiproject.org; Thu, 3 Jan 2008 16:27:30 -0500\n",
      "\n",
      "Date: Thu, 3 Jan 2008 16:27:30 -0500\n",
      "\n",
      "X-Authentication-Warning: nakamura.uits.iupui.edu: apache set sender to cwen@iupui.edu using -f\n",
      "\n",
      "To: source@collab.sakaiproject.org\n",
      "\n",
      "From: cwen@iupui.edu\n",
      "\n",
      "Subject: [sakai] svn commit: r39743 - gradebook/branches/oncourse_2-4-2/app/ui/src/java/org/sakaiproject/tool/gradebook/ui\n",
      "\n",
      "X-Content-Type-Outer-Envelope: text/plain; charset=UTF-8\n",
      "\n",
      "X-Content-Type-Message-Body: text/plain; charset=UTF-8\n",
      "\n",
      "Content-Type: text/plain; charset=UTF-8\n",
      "\n",
      "X-DSPAM-Result: Innocent\n",
      "\n",
      "X-DSPAM-Processed: Thu Jan  3 16:29:07 2008\n",
      "\n",
      "X-DSPAM-Confidence: 0.8509\n",
      "\n",
      "X-DSPAM-Probability: 0.0000\n",
      "\n",
      "\n",
      "\n",
      "Details: http://source.sakaiproject.org/viewsvn/?view=rev&rev=39743\n",
      "\n",
      "\n",
      "\n",
      "Author: cwen@iupui.edu\n",
      "\n",
      "Date: 2008-01-03 16:27:29 -0500 (Thu, 03 Jan 2008)\n",
      "\n",
      "New Revision: 39743\n",
      "\n",
      "\n",
      "\n",
      "Modified:\n",
      "\n",
      "gradebook/branches/oncourse_2-4-2/app/ui/src/java/org/sakaiproject/tool/gradebook/ui/RosterBean.java\n",
      "\n",
      "Log:\n",
      "\n",
      "svn merge -c 39403 https://source.sakaiproject.org/svn/gradebook/trunk\n",
      "\n",
      "U    app/ui/src/java/org/sakaiproject/tool/gradebook/ui/RosterBean.java\n",
      "\n",
      "\n",
      "\n",
      "svn log -r 39403 https://source.sakaiproject.org/svn/gradebook/trunk\n",
      "\n",
      "------------------------------------------------------------------------\n",
      "\n",
      "r39403 | wagnermr@iupui.edu | 2007-12-17 17:11:08 -0500 (Mon, 17 Dec 2007) | 3 lines\n",
      "\n",
      "\n",
      "\n",
      "SAK-12504\n",
      "\n",
      "http://jira.sakaiproject.org/jira/browse/SAK-12504\n",
      "\n",
      "Viewing \"All Grades\" page as a TA with grader permissions causes stack trace\n",
      "\n",
      "------------------------------------------------------------------------\n",
      "\n",
      "\n",
      "\n",
      "\n",
      "\n",
      "----------------------\n",
      "\n",
      "This automatic notification message was sent by Sakai Collab (https://collab.sakaiproject.org/portal) from the Source site.\n",
      "\n",
      "You can modify how you receive notifications at My Workspace > Preferences.\n",
      "\n",
      "\n",
      "\n",
      "\n",
      "\n",
      "\n",
      "\n",
      "From cwen@iupui.edu Thu Jan  3 16:23:48 2008\n",
      "\n",
      "Return-Path: <postmaster@collab.sakaiproject.org>\n",
      "\n",
      "Received: from murder (mail.umich.edu [141.211.14.91])\n",
      "\n",
      "\t by frankenstein.mail.umich.edu (Cyrus v2.3.8) with LMTPA;\n",
      "\n",
      "\t Thu, 03 Jan 2008 16:23:48 -0500\n",
      "\n",
      "X-Sieve: CMU Sieve 2.3\n",
      "\n",
      "Received: from murder ([unix socket])\n",
      "\n",
      "\t by mail.umich.edu (Cyrus v2.2.12) with LMTPA;\n",
      "\n",
      "\t Thu, 03 Jan 2008 16:23:48 -0500\n",
      "\n",
      "Received: from salemslot.mr.itd.umich.edu (salemslot.mr.itd.umich.edu [141.211.14.58])\n",
      "\n",
      "\tby jacknife.mail.umich.edu () with ESMTP id m03LNlf0002115;\n",
      "\n",
      "\tThu, 3 Jan 2008 16:23:47 -0500\n",
      "\n",
      "Received: FROM paploo.uhi.ac.uk (app1.prod.collab.uhi.ac.uk [194.35.219.184])\n",
      "\n",
      "\tBY salemslot.mr.itd.umich.edu ID 477D525E.1448.30389 ; \n",
      "\n",
      "\t 3 Jan 2008 16:23:44 -0500\n",
      "\n",
      "Received: from paploo.uhi.ac.uk (localhost [127.0.0.1])\n",
      "\n",
      "\tby paploo.uhi.ac.uk (Postfix) with ESMTP id 9D005B9D06;\n",
      "\n",
      "\tThu,  3 Jan 2008 21:23:38 +0000 (GMT)\n",
      "\n",
      "Message-ID: <200801032122.m03LMFo4005148@nakamura.uits.iupui.edu>\n",
      "\n",
      "Mime-Version: 1.0\n",
      "\n",
      "Content-Transfer-Encoding: 7bit\n",
      "\n",
      "Received: from prod.collab.uhi.ac.uk ([194.35.219.182])\n",
      "\n",
      "          by paploo.uhi.ac.uk (JAMES SMTP Server 2.1.3) with SMTP ID 6\n",
      "\n",
      "          for <source@collab.sakaiproject.org>;\n",
      "\n",
      "          Thu, 3 Jan 2008 21:23:24 +0000 (GMT)\n",
      "\n",
      "Received: from nakamura.uits.iupui.edu (nakamura.uits.iupui.edu [134.68.220.122])\n",
      "\n",
      "\tby shmi.uhi.ac.uk (Postfix) with ESMTP id 3535542B69\n",
      "\n",
      "\tfor <source@collab.sakaiproject.org>; Thu,  3 Jan 2008 21:23:24 +0000 (GMT)\n",
      "\n",
      "Received: from nakamura.uits.iupui.edu (localhost [127.0.0.1])\n",
      "\n",
      "\tby nakamura.uits.iupui.edu (8.12.11.20060308/8.12.11) with ESMTP id m03LMFtT005150\n",
      "\n",
      "\tfor <source@collab.sakaiproject.org>; Thu, 3 Jan 2008 16:22:15 -0500\n",
      "\n",
      "Received: (from apache@localhost)\n",
      "\n",
      "\tby nakamura.uits.iupui.edu (8.12.11.20060308/8.12.11/Submit) id m03LMFo4005148\n",
      "\n",
      "\tfor source@collab.sakaiproject.org; Thu, 3 Jan 2008 16:22:15 -0500\n",
      "\n",
      "Date: Thu, 3 Jan 2008 16:22:15 -0500\n",
      "\n",
      "X-Authentication-Warning: nakamura.uits.iupui.edu: apache set sender to cwen@iupui.edu using -f\n",
      "\n",
      "To: source@collab.sakaiproject.org\n",
      "\n",
      "From: cwen@iupui.edu\n",
      "\n",
      "Subject: [sakai] svn commit: r39742 - gradebook/branches/oncourse_2-4-2/app/ui/src/java/org/sakaiproject/tool/gradebook/ui\n",
      "\n",
      "X-Content-Type-Outer-Envelope: text/plain; charset=UTF-8\n",
      "\n",
      "X-Content-Type-Message-Body: text/plain; charset=UTF-8\n",
      "\n",
      "Content-Type: text/plain; charset=UTF-8\n",
      "\n",
      "X-DSPAM-Result: Innocent\n",
      "\n",
      "X-DSPAM-Processed: Thu Jan  3 16:23:48 2008\n",
      "\n",
      "X-DSPAM-Confidence: 0.9907\n",
      "\n",
      "X-DSPAM-Probability: 0.0000\n",
      "\n",
      "\n",
      "\n",
      "Details: http://source.sakaiproject.org/viewsvn/?view=rev&rev=39742\n",
      "\n",
      "\n",
      "\n",
      "Author: cwen@iupui.edu\n",
      "\n",
      "Date: 2008-01-03 16:22:14 -0500 (Thu, 03 Jan 2008)\n",
      "\n",
      "New Revision: 39742\n",
      "\n",
      "\n",
      "\n",
      "Modified:\n",
      "\n",
      "gradebook/branches/oncourse_2-4-2/app/ui/src/java/org/sakaiproject/tool/gradebook/ui/RosterBean.java\n",
      "\n",
      "Log:\n",
      "\n",
      "svn merge -c 35014 https://source.sakaiproject.org/svn/gradebook/trunk\n",
      "\n",
      "U    app/ui/src/java/org/sakaiproject/tool/gradebook/ui/RosterBean.java\n",
      "\n",
      "\n",
      "\n",
      "svn log -r 35014 https://source.sakaiproject.org/svn/gradebook/trunk\n",
      "\n",
      "------------------------------------------------------------------------\n",
      "\n",
      "r35014 | wagnermr@iupui.edu | 2007-09-12 16:17:59 -0400 (Wed, 12 Sep 2007) | 3 lines\n",
      "\n",
      "\n",
      "\n",
      "SAK-11458\n",
      "\n",
      "http://bugs.sakaiproject.org/jira/browse/SAK-11458\n",
      "\n",
      "Course grade does not appear on \"All Grades\" page if no categories in gb\n",
      "\n",
      "------------------------------------------------------------------------\n",
      "\n",
      "\n",
      "\n",
      "\n",
      "\n",
      "----------------------\n",
      "\n",
      "This automatic notification message was sent by Sakai Collab (https://collab.sakaiproject.org/portal) from the Source site.\n",
      "\n",
      "You can modify how you receive notifications at My Workspace > Preferences.\n",
      "\n",
      "\n",
      "\n"
     ]
    }
   ],
   "source": [
    "file = open('mbox-short.txt')\n",
    "for line in file:\n",
    "    print(line)"
   ]
  },
  {
   "cell_type": "code",
   "execution_count": 1,
   "metadata": {},
   "outputs": [],
   "source": [
    "friends = ['Vinnie', 'Rajesh', 'Mehfooz',]"
   ]
  },
  {
   "cell_type": "code",
   "execution_count": 2,
   "metadata": {},
   "outputs": [
    {
     "name": "stdout",
     "output_type": "stream",
     "text": [
      "['Vinnie', 'Rajesh', 'Mehfooz']\n"
     ]
    }
   ],
   "source": [
    "print (friends)"
   ]
  },
  {
   "cell_type": "code",
   "execution_count": 3,
   "metadata": {},
   "outputs": [
    {
     "name": "stdout",
     "output_type": "stream",
     "text": [
      "[1, [5, 6], 7]\n"
     ]
    }
   ],
   "source": [
    "a = [1, [5, 6], 7]\n",
    "print (a)"
   ]
  },
  {
   "cell_type": "code",
   "execution_count": 4,
   "metadata": {},
   "outputs": [
    {
     "name": "stdout",
     "output_type": "stream",
     "text": [
      "1\n",
      "[5, 6]\n",
      "7\n"
     ]
    }
   ],
   "source": [
    "for i in a:\n",
    "    print (i)"
   ]
  },
  {
   "cell_type": "code",
   "execution_count": 12,
   "metadata": {},
   "outputs": [
    {
     "name": "stdout",
     "output_type": "stream",
     "text": [
      "Happy New Year Vinnie\n",
      "Happy New Year Rajesh\n",
      "Happy New Year Mehfooz\n",
      "Done!\n"
     ]
    }
   ],
   "source": [
    "z = ['Vinnie', 'Rajesh', 'Mehfooz',]\n",
    "for x in z:\n",
    "    print ('Happy New Year', x)\n",
    "print ('Done!')"
   ]
  },
  {
   "cell_type": "code",
   "execution_count": 16,
   "metadata": {},
   "outputs": [
    {
     "name": "stdout",
     "output_type": "stream",
     "text": [
      "R\n"
     ]
    }
   ],
   "source": [
    "print (z[1][0])"
   ]
  },
  {
   "cell_type": "code",
   "execution_count": 20,
   "metadata": {},
   "outputs": [
    {
     "name": "stdout",
     "output_type": "stream",
     "text": [
      "V\n",
      "R\n",
      "M\n"
     ]
    }
   ],
   "source": [
    "for x in z:\n",
    "    print(x[0:1])"
   ]
  },
  {
   "cell_type": "code",
   "execution_count": 21,
   "metadata": {},
   "outputs": [
    {
     "ename": "TypeError",
     "evalue": "'str' object does not support item assignment",
     "output_type": "error",
     "traceback": [
      "\u001b[1;31m---------------------------------------------------------------------------\u001b[0m",
      "\u001b[1;31mTypeError\u001b[0m                                 Traceback (most recent call last)",
      "\u001b[1;32m<ipython-input-21-2bc78b004470>\u001b[0m in \u001b[0;36m<module>\u001b[1;34m\u001b[0m\n\u001b[0;32m      1\u001b[0m \u001b[0mfruit\u001b[0m \u001b[1;33m=\u001b[0m \u001b[1;34m'Banana'\u001b[0m\u001b[1;33m\u001b[0m\u001b[1;33m\u001b[0m\u001b[0m\n\u001b[1;32m----> 2\u001b[1;33m \u001b[0mfruit\u001b[0m\u001b[1;33m[\u001b[0m\u001b[1;36m0\u001b[0m\u001b[1;33m]\u001b[0m \u001b[1;33m=\u001b[0m \u001b[1;34m'b'\u001b[0m\u001b[1;33m\u001b[0m\u001b[1;33m\u001b[0m\u001b[0m\n\u001b[0m",
      "\u001b[1;31mTypeError\u001b[0m: 'str' object does not support item assignment"
     ]
    }
   ],
   "source": [
    "fruit = 'Banana'\n",
    "fruit[0] = 'b'"
   ]
  },
  {
   "cell_type": "code",
   "execution_count": 22,
   "metadata": {},
   "outputs": [
    {
     "name": "stdout",
     "output_type": "stream",
     "text": [
      "banana\n"
     ]
    }
   ],
   "source": [
    "x = fruit.lower()\n",
    "print(x)"
   ]
  },
  {
   "cell_type": "code",
   "execution_count": 23,
   "metadata": {},
   "outputs": [
    {
     "name": "stdout",
     "output_type": "stream",
     "text": [
      "[2, 14, 28, 41, 63]\n"
     ]
    }
   ],
   "source": [
    "lotto = [2, 14, 26, 41, 63]\n",
    "lotto[2]= 28\n",
    "print(lotto)"
   ]
  },
  {
   "cell_type": "code",
   "execution_count": 24,
   "metadata": {},
   "outputs": [
    {
     "name": "stdout",
     "output_type": "stream",
     "text": [
      "12\n"
     ]
    }
   ],
   "source": [
    "greet = 'Hello Vinnie'\n",
    "print(len(greet))"
   ]
  },
  {
   "cell_type": "code",
   "execution_count": 25,
   "metadata": {},
   "outputs": [
    {
     "name": "stdout",
     "output_type": "stream",
     "text": [
      "4\n"
     ]
    }
   ],
   "source": [
    "t = [1, 2, 'joe', 100]\n",
    "print(len(t))"
   ]
  },
  {
   "cell_type": "code",
   "execution_count": 30,
   "metadata": {},
   "outputs": [
    {
     "name": "stdout",
     "output_type": "stream",
     "text": [
      "3\n"
     ]
    }
   ],
   "source": [
    "print(len(t[2]))"
   ]
  },
  {
   "cell_type": "code",
   "execution_count": 35,
   "metadata": {},
   "outputs": [
    {
     "name": "stdout",
     "output_type": "stream",
     "text": [
      "[1, 2, 4, 7, 7, 8]\n"
     ]
    }
   ],
   "source": [
    "a = [1, 2, 4]\n",
    "b = [7, 7, 8]\n",
    "c = a + b\n",
    "print(c)"
   ]
  },
  {
   "cell_type": "code",
   "execution_count": 36,
   "metadata": {},
   "outputs": [
    {
     "data": {
      "text/plain": [
       "[41, 12]"
      ]
     },
     "execution_count": 36,
     "metadata": {},
     "output_type": "execute_result"
    }
   ],
   "source": [
    "t = [9, 41, 12, 3, 74, 15]\n",
    "t[1:3]"
   ]
  },
  {
   "cell_type": "code",
   "execution_count": 37,
   "metadata": {},
   "outputs": [
    {
     "data": {
      "text/plain": [
       "[9, 41, 12, 3]"
      ]
     },
     "execution_count": 37,
     "metadata": {},
     "output_type": "execute_result"
    }
   ],
   "source": [
    "t[:4]"
   ]
  },
  {
   "cell_type": "code",
   "execution_count": 40,
   "metadata": {},
   "outputs": [
    {
     "data": {
      "text/plain": [
       "[3, 74, 15]"
      ]
     },
     "execution_count": 40,
     "metadata": {},
     "output_type": "execute_result"
    }
   ],
   "source": [
    "t[3:]"
   ]
  },
  {
   "cell_type": "code",
   "execution_count": 41,
   "metadata": {},
   "outputs": [
    {
     "data": {
      "text/plain": [
       "[9, 41, 12, 3, 74, 15]"
      ]
     },
     "execution_count": 41,
     "metadata": {},
     "output_type": "execute_result"
    }
   ],
   "source": [
    "t[:]"
   ]
  },
  {
   "cell_type": "code",
   "execution_count": 42,
   "metadata": {},
   "outputs": [],
   "source": [
    "stuff = list()"
   ]
  },
  {
   "cell_type": "code",
   "execution_count": 43,
   "metadata": {},
   "outputs": [
    {
     "name": "stdout",
     "output_type": "stream",
     "text": [
      "['book', 99]\n"
     ]
    }
   ],
   "source": [
    "stuff.append('book')\n",
    "stuff.append(99)\n",
    "print(stuff)"
   ]
  },
  {
   "cell_type": "code",
   "execution_count": 44,
   "metadata": {},
   "outputs": [
    {
     "name": "stdout",
     "output_type": "stream",
     "text": [
      "['book', 99, 'cookie']\n"
     ]
    }
   ],
   "source": [
    "stuff.append('cookie')\n",
    "print(stuff)"
   ]
  },
  {
   "cell_type": "code",
   "execution_count": 45,
   "metadata": {},
   "outputs": [
    {
     "data": {
      "text/plain": [
       "True"
      ]
     },
     "execution_count": 45,
     "metadata": {},
     "output_type": "execute_result"
    }
   ],
   "source": [
    "some = [1, 9, 21, 10, 16]\n",
    "9 in some"
   ]
  },
  {
   "cell_type": "code",
   "execution_count": 46,
   "metadata": {},
   "outputs": [
    {
     "data": {
      "text/plain": [
       "True"
      ]
     },
     "execution_count": 46,
     "metadata": {},
     "output_type": "execute_result"
    }
   ],
   "source": [
    "15 not in some"
   ]
  },
  {
   "cell_type": "code",
   "execution_count": 47,
   "metadata": {},
   "outputs": [
    {
     "data": {
      "text/plain": [
       "False"
      ]
     },
     "execution_count": 47,
     "metadata": {},
     "output_type": "execute_result"
    }
   ],
   "source": [
    "15 in some"
   ]
  },
  {
   "cell_type": "code",
   "execution_count": 48,
   "metadata": {},
   "outputs": [
    {
     "data": {
      "text/plain": [
       "True"
      ]
     },
     "execution_count": 48,
     "metadata": {},
     "output_type": "execute_result"
    }
   ],
   "source": [
    "16 in some"
   ]
  },
  {
   "cell_type": "code",
   "execution_count": 49,
   "metadata": {},
   "outputs": [
    {
     "name": "stdout",
     "output_type": "stream",
     "text": [
      "['Mehfooz', 'Rajesh', 'Vinnie']\n"
     ]
    }
   ],
   "source": [
    "z = ['Vinnie', 'Rajesh', 'Mehfooz',]\n",
    "z.sort()\n",
    "print(z)"
   ]
  },
  {
   "cell_type": "code",
   "execution_count": 50,
   "metadata": {},
   "outputs": [
    {
     "name": "stdout",
     "output_type": "stream",
     "text": [
      "Rajesh\n"
     ]
    }
   ],
   "source": [
    "print(z[1])"
   ]
  },
  {
   "cell_type": "code",
   "execution_count": 51,
   "metadata": {},
   "outputs": [
    {
     "name": "stdout",
     "output_type": "stream",
     "text": [
      "6\n"
     ]
    }
   ],
   "source": [
    "nums = [3, 42, 12, 9, 74, 15]\n",
    "print(len(nums))"
   ]
  },
  {
   "cell_type": "code",
   "execution_count": 52,
   "metadata": {},
   "outputs": [
    {
     "name": "stdout",
     "output_type": "stream",
     "text": [
      "74\n"
     ]
    }
   ],
   "source": [
    "print(max(nums))"
   ]
  },
  {
   "cell_type": "code",
   "execution_count": 53,
   "metadata": {},
   "outputs": [
    {
     "name": "stdout",
     "output_type": "stream",
     "text": [
      "3\n"
     ]
    }
   ],
   "source": [
    "print(min(nums))"
   ]
  },
  {
   "cell_type": "code",
   "execution_count": 54,
   "metadata": {},
   "outputs": [
    {
     "name": "stdout",
     "output_type": "stream",
     "text": [
      "155\n"
     ]
    }
   ],
   "source": [
    "print(sum(nums))"
   ]
  },
  {
   "cell_type": "code",
   "execution_count": 55,
   "metadata": {},
   "outputs": [
    {
     "name": "stdout",
     "output_type": "stream",
     "text": [
      "25.833333333333332\n"
     ]
    }
   ],
   "source": [
    "print(sum(nums)/len(nums))"
   ]
  },
  {
   "cell_type": "code",
   "execution_count": 56,
   "metadata": {},
   "outputs": [
    {
     "name": "stdout",
     "output_type": "stream",
     "text": [
      "2.0\n"
     ]
    }
   ],
   "source": [
    "print(len(nums)/min(nums))"
   ]
  },
  {
   "cell_type": "code",
   "execution_count": 57,
   "metadata": {},
   "outputs": [
    {
     "name": "stdout",
     "output_type": "stream",
     "text": [
      "['Get', 'set', 'go']\n"
     ]
    }
   ],
   "source": [
    "abc = 'Get set go'\n",
    "stuff = abc.split()\n",
    "print(stuff)"
   ]
  },
  {
   "cell_type": "code",
   "execution_count": 58,
   "metadata": {},
   "outputs": [
    {
     "name": "stdout",
     "output_type": "stream",
     "text": [
      "3\n"
     ]
    }
   ],
   "source": [
    "print(len(stuff))"
   ]
  },
  {
   "cell_type": "code",
   "execution_count": 62,
   "metadata": {},
   "outputs": [
    {
     "name": "stdout",
     "output_type": "stream",
     "text": [
      "Get\n"
     ]
    }
   ],
   "source": [
    "print(stuff[0])"
   ]
  },
  {
   "cell_type": "code",
   "execution_count": 64,
   "metadata": {},
   "outputs": [
    {
     "name": "stdout",
     "output_type": "stream",
     "text": [
      "['Get', 'set', 'go']\n"
     ]
    }
   ],
   "source": [
    "print(stuff)"
   ]
  },
  {
   "cell_type": "code",
   "execution_count": 69,
   "metadata": {},
   "outputs": [
    {
     "name": "stdout",
     "output_type": "stream",
     "text": [
      "['A', 'lot']\n"
     ]
    }
   ],
   "source": [
    "line = 'A lot'\n",
    "etc = line.split()\n",
    "print(etc)"
   ]
  },
  {
   "cell_type": "code",
   "execution_count": 71,
   "metadata": {},
   "outputs": [
    {
     "name": "stdout",
     "output_type": "stream",
     "text": [
      "['first;second;third']\n"
     ]
    }
   ],
   "source": [
    "line = 'first;second;third'\n",
    "thing = line.split()\n",
    "print(thing)"
   ]
  },
  {
   "cell_type": "code",
   "execution_count": 72,
   "metadata": {},
   "outputs": [
    {
     "name": "stdout",
     "output_type": "stream",
     "text": [
      "['first', 'second', 'third']\n"
     ]
    }
   ],
   "source": [
    "thing = line.split(';')\n",
    "print(thing)"
   ]
  },
  {
   "cell_type": "code",
   "execution_count": 5,
   "metadata": {},
   "outputs": [
    {
     "name": "stdout",
     "output_type": "stream",
     "text": [
      "15\n"
     ]
    }
   ],
   "source": [
    "num = (1, 2, 3, 4, 5)\n",
    "accum = 0\n",
    "for i in num:\n",
    "    accum = accum + i\n",
    "print(accum)"
   ]
  },
  {
   "cell_type": "code",
   "execution_count": null,
   "metadata": {},
   "outputs": [],
   "source": []
  }
 ],
 "metadata": {
  "kernelspec": {
   "display_name": "Python 3",
   "language": "python",
   "name": "python3"
  },
  "language_info": {
   "codemirror_mode": {
    "name": "ipython",
    "version": 3
   },
   "file_extension": ".py",
   "mimetype": "text/x-python",
   "name": "python",
   "nbconvert_exporter": "python",
   "pygments_lexer": "ipython3",
   "version": "3.8.5"
  }
 },
 "nbformat": 4,
 "nbformat_minor": 4
}
